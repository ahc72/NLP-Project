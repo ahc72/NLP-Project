{
  "nbformat": 4,
  "nbformat_minor": 0,
  "metadata": {
    "colab": {
      "name": "Analysis and Prediction Model2.ipynb",
      "version": "0.3.2",
      "provenance": [],
      "collapsed_sections": [],
      "include_colab_link": true
    },
    "kernelspec": {
      "name": "python3",
      "display_name": "Python 3"
    },
    "accelerator": "GPU"
  },
  "cells": [
    {
      "cell_type": "markdown",
      "metadata": {
        "id": "view-in-github",
        "colab_type": "text"
      },
      "source": [
        "<a href=\"https://colab.research.google.com/github/ahc72/NLP-Project/blob/master/Analysis_and_Prediction_Model2.ipynb\" target=\"_parent\"><img src=\"https://colab.research.google.com/assets/colab-badge.svg\" alt=\"Open In Colab\"/></a>"
      ]
    },
    {
      "metadata": {
        "id": "S8EHaFGjGKm1",
        "colab_type": "text"
      },
      "cell_type": "markdown",
      "source": [
        "# ANLY 580 NLP\n",
        "## Genre Classification \n",
        "### Analysis and Prediction Model\n",
        "### April Chung"
      ]
    },
    {
      "metadata": {
        "id": "TQp5xlkJg3qP",
        "colab_type": "code",
        "colab": {}
      },
      "cell_type": "code",
      "source": [
        "import pandas as pd\n",
        "import nltk\n",
        "import re\n",
        "from gensim import models, corpora\n",
        "from gensim.models import CoherenceModel\n",
        "from gensim.utils import simple_preprocess\n",
        "from nltk import word_tokenize\n",
        "from nltk.corpus import stopwords\n",
        "\n",
        "from tqdm import tqdm\n",
        "from nltk.tokenize import RegexpTokenizer"
      ],
      "execution_count": 0,
      "outputs": []
    },
    {
      "metadata": {
        "id": "f_5hBwsciDfC",
        "colab_type": "code",
        "outputId": "8078243c-5de3-4a5e-8fa5-e57301e911cc",
        "colab": {
          "base_uri": "https://localhost:8080/",
          "height": 68
        }
      },
      "cell_type": "code",
      "source": [
        "import nltk\n",
        "nltk.download('stopwords')"
      ],
      "execution_count": 2,
      "outputs": [
        {
          "output_type": "stream",
          "text": [
            "[nltk_data] Downloading package stopwords to /root/nltk_data...\n",
            "[nltk_data]   Unzipping corpora/stopwords.zip.\n"
          ],
          "name": "stdout"
        },
        {
          "output_type": "execute_result",
          "data": {
            "text/plain": [
              "True"
            ]
          },
          "metadata": {
            "tags": []
          },
          "execution_count": 2
        }
      ]
    },
    {
      "metadata": {
        "id": "u0f_hsNtu--L",
        "colab_type": "code",
        "colab": {
          "base_uri": "https://localhost:8080/",
          "height": 527
        },
        "outputId": "77338ea5-9f07-4db4-d723-dc541a823d74"
      },
      "cell_type": "code",
      "source": [
        "!pip install pyLDAvis"
      ],
      "execution_count": 4,
      "outputs": [
        {
          "output_type": "stream",
          "text": [
            "Collecting pyLDAvis\n",
            "\u001b[?25l  Downloading https://files.pythonhosted.org/packages/a5/3a/af82e070a8a96e13217c8f362f9a73e82d61ac8fff3a2561946a97f96266/pyLDAvis-2.1.2.tar.gz (1.6MB)\n",
            "\u001b[K    100% |████████████████████████████████| 1.6MB 15.8MB/s \n",
            "\u001b[?25hRequirement already satisfied: wheel>=0.23.0 in /usr/local/lib/python3.6/dist-packages (from pyLDAvis) (0.32.3)\n",
            "Requirement already satisfied: numpy>=1.9.2 in /usr/local/lib/python3.6/dist-packages (from pyLDAvis) (1.14.6)\n",
            "Requirement already satisfied: scipy>=0.18.0 in /usr/local/lib/python3.6/dist-packages (from pyLDAvis) (1.1.0)\n",
            "Requirement already satisfied: pandas>=0.17.0 in /usr/local/lib/python3.6/dist-packages (from pyLDAvis) (0.22.0)\n",
            "Requirement already satisfied: joblib>=0.8.4 in /usr/local/lib/python3.6/dist-packages (from pyLDAvis) (0.13.0)\n",
            "Requirement already satisfied: jinja2>=2.7.2 in /usr/local/lib/python3.6/dist-packages (from pyLDAvis) (2.10)\n",
            "Requirement already satisfied: numexpr in /usr/local/lib/python3.6/dist-packages (from pyLDAvis) (2.6.8)\n",
            "Requirement already satisfied: pytest in /usr/local/lib/python3.6/dist-packages (from pyLDAvis) (3.10.1)\n",
            "Requirement already satisfied: future in /usr/local/lib/python3.6/dist-packages (from pyLDAvis) (0.16.0)\n",
            "Collecting funcy (from pyLDAvis)\n",
            "  Downloading https://files.pythonhosted.org/packages/47/a4/204fa23012e913839c2da4514b92f17da82bf5fc8c2c3d902fa3fa3c6eec/funcy-1.11-py2.py3-none-any.whl\n",
            "Requirement already satisfied: python-dateutil>=2 in /usr/local/lib/python3.6/dist-packages (from pandas>=0.17.0->pyLDAvis) (2.5.3)\n",
            "Requirement already satisfied: pytz>=2011k in /usr/local/lib/python3.6/dist-packages (from pandas>=0.17.0->pyLDAvis) (2018.7)\n",
            "Requirement already satisfied: MarkupSafe>=0.23 in /usr/local/lib/python3.6/dist-packages (from jinja2>=2.7.2->pyLDAvis) (1.1.0)\n",
            "Requirement already satisfied: more-itertools>=4.0.0 in /usr/local/lib/python3.6/dist-packages (from pytest->pyLDAvis) (4.3.0)\n",
            "Requirement already satisfied: six>=1.10.0 in /usr/local/lib/python3.6/dist-packages (from pytest->pyLDAvis) (1.11.0)\n",
            "Requirement already satisfied: pluggy>=0.7 in /usr/local/lib/python3.6/dist-packages (from pytest->pyLDAvis) (0.8.0)\n",
            "Requirement already satisfied: setuptools in /usr/local/lib/python3.6/dist-packages (from pytest->pyLDAvis) (40.6.2)\n",
            "Requirement already satisfied: py>=1.5.0 in /usr/local/lib/python3.6/dist-packages (from pytest->pyLDAvis) (1.7.0)\n",
            "Requirement already satisfied: attrs>=17.4.0 in /usr/local/lib/python3.6/dist-packages (from pytest->pyLDAvis) (18.2.0)\n",
            "Requirement already satisfied: atomicwrites>=1.0 in /usr/local/lib/python3.6/dist-packages (from pytest->pyLDAvis) (1.2.1)\n",
            "Building wheels for collected packages: pyLDAvis\n",
            "  Running setup.py bdist_wheel for pyLDAvis ... \u001b[?25l-\b \b\\\b \bdone\n",
            "\u001b[?25h  Stored in directory: /root/.cache/pip/wheels/98/71/24/513a99e58bb6b8465bae4d2d5e9dba8f0bef8179e3051ac414\n",
            "Successfully built pyLDAvis\n",
            "Installing collected packages: funcy, pyLDAvis\n",
            "Successfully installed funcy-1.11 pyLDAvis-2.1.2\n"
          ],
          "name": "stdout"
        }
      ]
    },
    {
      "metadata": {
        "id": "GyG56gd6g3qV",
        "colab_type": "code",
        "colab": {}
      },
      "cell_type": "code",
      "source": [
        "import pyLDAvis\n",
        "import pyLDAvis.gensim  # don't skip this\n",
        "import matplotlib.pyplot as plt\n",
        "%matplotlib inline"
      ],
      "execution_count": 0,
      "outputs": []
    },
    {
      "metadata": {
        "id": "35GIdycbho4f",
        "colab_type": "code",
        "outputId": "3a8f5e05-653a-4fe1-aa7b-5397a6ac92e2",
        "colab": {
          "base_uri": "https://localhost:8080/",
          "height": 122
        }
      },
      "cell_type": "code",
      "source": [
        "from google.colab import drive\n",
        "drive.mount('/content/drive')"
      ],
      "execution_count": 6,
      "outputs": [
        {
          "output_type": "stream",
          "text": [
            "Go to this URL in a browser: https://accounts.google.com/o/oauth2/auth?client_id=947318989803-6bn6qk8qdgf4n4g3pfee6491hc0brc4i.apps.googleusercontent.com&redirect_uri=urn%3Aietf%3Awg%3Aoauth%3A2.0%3Aoob&scope=email%20https%3A%2F%2Fwww.googleapis.com%2Fauth%2Fdocs.test%20https%3A%2F%2Fwww.googleapis.com%2Fauth%2Fdrive%20https%3A%2F%2Fwww.googleapis.com%2Fauth%2Fdrive.photos.readonly%20https%3A%2F%2Fwww.googleapis.com%2Fauth%2Fpeopleapi.readonly&response_type=code\n",
            "\n",
            "Enter your authorization code:\n",
            "··········\n",
            "Mounted at /content/drive\n"
          ],
          "name": "stdout"
        }
      ]
    },
    {
      "metadata": {
        "id": "jkLdeJ4kg3qY",
        "colab_type": "code",
        "colab": {}
      },
      "cell_type": "code",
      "source": [
        "songs = pd.read_csv(\"/content/drive/My Drive/Colab Notebooks/lyrics_genre.csv\")"
      ],
      "execution_count": 0,
      "outputs": []
    },
    {
      "metadata": {
        "id": "T4EeCB-2g3qc",
        "colab_type": "code",
        "outputId": "97ef8216-1340-4b38-ed7f-b85b80f7295d",
        "colab": {
          "base_uri": "https://localhost:8080/",
          "height": 340
        }
      },
      "cell_type": "code",
      "source": [
        "songs['genre'].unique()"
      ],
      "execution_count": 8,
      "outputs": [
        {
          "output_type": "execute_result",
          "data": {
            "text/plain": [
              "array(['europop', 'dance pop', 'comic', 'pop', 'rock', 'mellow gold',\n",
              "       'opm', 'country', 'operatic pop', 'folk', 'new wave pop',\n",
              "       'christian music', 'soft rock', 'soul', 'adult standards', 'disco',\n",
              "       'irish folk', 'tin pan alley', 'pop rock', 'dance rock',\n",
              "       'art rock', 'indonesian pop', 'pop rap', 'christmas', 'rap',\n",
              "       'celtic', 'classic finnish rock', 'post-grunge', 'rap rock',\n",
              "       'k-pop', 'punk', 'new romantic', 'modern rock', 'electronic',\n",
              "       'classic rock', 'world', 'celtic rock', 'permanent wave',\n",
              "       'traditional country', 'edm', 'roots rock', 'acid jazz', 'worship',\n",
              "       'folk rock', 'album rock', 'gospel', 'classic bollywood',\n",
              "       'hollywood', 'rock-and-roll', 'reggae', 'alternative rock',\n",
              "       'power metal', 'britpop', 'mizrahi', 'progressive metal',\n",
              "       'neo mellow', 'hip hop', 'dark wave', 'lo-fi', 'alternative metal',\n",
              "       \"canadian children's music\", 'reggae fusion', 'canadian rock',\n",
              "       'emo', 'nu metal', 'chamber pop', 'pop punk', 'anime', 'cyberpunk',\n",
              "       'hip house', 'metal', 'singer-songwriter', 'gangster rap',\n",
              "       'bubblegum dance', 'german pop', 'speed metal', 'art pop',\n",
              "       'experimental', 'jam band', 'melodic metalcore', 'industrial rock',\n",
              "       'belgian rock', 'classic italian pop', 'chanson'], dtype=object)"
            ]
          },
          "metadata": {
            "tags": []
          },
          "execution_count": 8
        }
      ]
    },
    {
      "metadata": {
        "id": "4V7zpjn5g3qj",
        "colab_type": "code",
        "colab": {}
      },
      "cell_type": "code",
      "source": [
        "genres = dict(songs[\"genre\"].value_counts())"
      ],
      "execution_count": 0,
      "outputs": []
    },
    {
      "metadata": {
        "id": "P4A0oINOg3qm",
        "colab_type": "code",
        "outputId": "0fe00326-e5f7-468e-fa72-898c4a0c692c",
        "colab": {
          "base_uri": "https://localhost:8080/",
          "height": 54
        }
      },
      "cell_type": "code",
      "source": [
        "genres.values()"
      ],
      "execution_count": 10,
      "outputs": [
        {
          "output_type": "execute_result",
          "data": {
            "text/plain": [
              "dict_values([20277, 5347, 5266, 2716, 2570, 1290, 1239, 1100, 1069, 1064, 744, 725, 572, 541, 445, 419, 394, 393, 383, 367, 341, 336, 302, 300, 240, 235, 206, 191, 177, 177, 174, 174, 169, 161, 159, 158, 148, 132, 115, 100, 98, 97, 88, 88, 85, 83, 75, 74, 71, 71, 69, 67, 63, 63, 60, 52, 46, 41, 40, 36, 35, 32, 30, 30, 30, 28, 25, 25, 24, 20, 18, 18, 18, 17, 12, 10, 9, 8, 5, 5, 3, 3, 2, 1])"
            ]
          },
          "metadata": {
            "tags": []
          },
          "execution_count": 10
        }
      ]
    },
    {
      "metadata": {
        "id": "dXkVv7GyvMpm",
        "colab_type": "code",
        "colab": {
          "base_uri": "https://localhost:8080/",
          "height": 34
        },
        "outputId": "f1e89299-525d-46c9-88f4-5fe956d8d618"
      },
      "cell_type": "code",
      "source": [
        "len(genres)"
      ],
      "execution_count": 11,
      "outputs": [
        {
          "output_type": "execute_result",
          "data": {
            "text/plain": [
              "84"
            ]
          },
          "metadata": {
            "tags": []
          },
          "execution_count": 11
        }
      ]
    },
    {
      "metadata": {
        "id": "0VUl7ubAg3qs",
        "colab_type": "code",
        "outputId": "cf96641a-eebc-4f6a-8078-feb98a7fd63d",
        "colab": {}
      },
      "cell_type": "code",
      "source": [
        "songs[songs['genre']=='k-pop']"
      ],
      "execution_count": 0,
      "outputs": [
        {
          "output_type": "execute_result",
          "data": {
            "text/html": [
              "<div>\n",
              "<style>\n",
              "    .dataframe thead tr:only-child th {\n",
              "        text-align: right;\n",
              "    }\n",
              "\n",
              "    .dataframe thead th {\n",
              "        text-align: left;\n",
              "    }\n",
              "\n",
              "    .dataframe tbody tr th {\n",
              "        vertical-align: top;\n",
              "    }\n",
              "</style>\n",
              "<table border=\"1\" class=\"dataframe\">\n",
              "  <thead>\n",
              "    <tr style=\"text-align: right;\">\n",
              "      <th></th>\n",
              "      <th>Unnamed: 0</th>\n",
              "      <th>artist</th>\n",
              "      <th>song</th>\n",
              "      <th>link</th>\n",
              "      <th>text</th>\n",
              "      <th>genre</th>\n",
              "    </tr>\n",
              "  </thead>\n",
              "  <tbody>\n",
              "    <tr>\n",
              "      <th>5427</th>\n",
              "      <td>5695</td>\n",
              "      <td>Exo</td>\n",
              "      <td>Exodus</td>\n",
              "      <td>/e/exo/exodus_21097244.html</td>\n",
              "      <td>Stand up! oechyeodo gyeolgugen dabeun no  \\nBu...</td>\n",
              "      <td>k-pop</td>\n",
              "    </tr>\n",
              "    <tr>\n",
              "      <th>5428</th>\n",
              "      <td>5696</td>\n",
              "      <td>Exo</td>\n",
              "      <td>Moonlight</td>\n",
              "      <td>/e/exo/moonlight_21082834.html</td>\n",
              "      <td>Yeah, stop, stop. Those wings will get wet oh,...</td>\n",
              "      <td>k-pop</td>\n",
              "    </tr>\n",
              "    <tr>\n",
              "      <th>5429</th>\n",
              "      <td>5697</td>\n",
              "      <td>Exo-K</td>\n",
              "      <td>Hurt</td>\n",
              "      <td>/e/exo+k/hurt_21098367.html</td>\n",
              "      <td>[D.O] yudok jitge baen neoui hyanggie  \\nBari ...</td>\n",
              "      <td>k-pop</td>\n",
              "    </tr>\n",
              "    <tr>\n",
              "      <th>5430</th>\n",
              "      <td>5698</td>\n",
              "      <td>Exo-K</td>\n",
              "      <td>Overdose</td>\n",
              "      <td>/e/exo+k/overdose_21082897.html</td>\n",
              "      <td>Come in  \\n  \\n[Baekhyun] Modeungeol geolgo ne...</td>\n",
              "      <td>k-pop</td>\n",
              "    </tr>\n",
              "    <tr>\n",
              "      <th>29804</th>\n",
              "      <td>32196</td>\n",
              "      <td>Exo</td>\n",
              "      <td>Run</td>\n",
              "      <td>/e/exo/run_21082836.html</td>\n",
              "      <td>Eodideun joha uri oneulbam tteonabollae? Tteon...</td>\n",
              "      <td>k-pop</td>\n",
              "    </tr>\n",
              "  </tbody>\n",
              "</table>\n",
              "</div>"
            ],
            "text/plain": [
              "       Unnamed: 0 artist       song                             link  \\\n",
              "5427         5695    Exo     Exodus      /e/exo/exodus_21097244.html   \n",
              "5428         5696    Exo  Moonlight   /e/exo/moonlight_21082834.html   \n",
              "5429         5697  Exo-K       Hurt      /e/exo+k/hurt_21098367.html   \n",
              "5430         5698  Exo-K   Overdose  /e/exo+k/overdose_21082897.html   \n",
              "29804       32196    Exo        Run         /e/exo/run_21082836.html   \n",
              "\n",
              "                                                    text  genre  \n",
              "5427   Stand up! oechyeodo gyeolgugen dabeun no  \\nBu...  k-pop  \n",
              "5428   Yeah, stop, stop. Those wings will get wet oh,...  k-pop  \n",
              "5429   [D.O] yudok jitge baen neoui hyanggie  \\nBari ...  k-pop  \n",
              "5430   Come in  \\n  \\n[Baekhyun] Modeungeol geolgo ne...  k-pop  \n",
              "29804  Eodideun joha uri oneulbam tteonabollae? Tteon...  k-pop  "
            ]
          },
          "metadata": {
            "tags": []
          },
          "execution_count": 196
        }
      ]
    },
    {
      "metadata": {
        "id": "yUF7_uTkg3qw",
        "colab_type": "code",
        "outputId": "711da1ae-bb3b-4a69-f28e-19c569ae715e",
        "colab": {
          "base_uri": "https://localhost:8080/",
          "height": 483
        }
      },
      "cell_type": "code",
      "source": [
        "import numpy as np\n",
        "import matplotlib.pyplot as plt\n",
        "y_pos = np.arange(len(list(genres.keys())))\n",
        "plt.figure(figsize = (18,8))\n",
        "plt.bar(y_pos, list(genres.values()))\n",
        "#plt.xticks(y_pos, list(genres.index))\n",
        "plt.show()"
      ],
      "execution_count": 12,
      "outputs": [
        {
          "output_type": "display_data",
          "data": {
            "image/png": "[encoded data removed]",
            "text/plain": [
              "<matplotlib.figure.Figure at 0x7f7be4ac93c8>"
            ]
          },
          "metadata": {
            "tags": []
          }
        }
      ]
    },
    {
      "metadata": {
        "id": "Pd57YRlgg3q1",
        "colab_type": "code",
        "colab": {}
      },
      "cell_type": "code",
      "source": [
        "short_genre = {k:v for k,v in genres.items() if v > 200}"
      ],
      "execution_count": 0,
      "outputs": []
    },
    {
      "metadata": {
        "id": "OgXoj0xjvQ-x",
        "colab_type": "code",
        "colab": {
          "base_uri": "https://localhost:8080/",
          "height": 34
        },
        "outputId": "8f70bd46-848a-4390-b037-7365eba4f4bb"
      },
      "cell_type": "code",
      "source": [
        "len(short_genre)"
      ],
      "execution_count": 15,
      "outputs": [
        {
          "output_type": "execute_result",
          "data": {
            "text/plain": [
              "27"
            ]
          },
          "metadata": {
            "tags": []
          },
          "execution_count": 15
        }
      ]
    },
    {
      "metadata": {
        "id": "22LywHgng3q5",
        "colab_type": "code",
        "outputId": "23e53d57-a947-4194-e02b-e9b4ed075146",
        "colab": {
          "base_uri": "https://localhost:8080/",
          "height": 34
        }
      },
      "cell_type": "code",
      "source": [
        "print(\"We still keep about\", sum(short_genre.values()), \"lyrics\")"
      ],
      "execution_count": 14,
      "outputs": [
        {
          "output_type": "stream",
          "text": [
            "We still keep about 48881 lyrics\n"
          ],
          "name": "stdout"
        }
      ]
    },
    {
      "metadata": {
        "id": "77Ho13Kbg3q8",
        "colab_type": "code",
        "outputId": "8d1ec499-2e30-4c1c-afc3-bd29598631bb",
        "colab": {
          "base_uri": "https://localhost:8080/",
          "height": 660
        }
      },
      "cell_type": "code",
      "source": [
        "y_pos = np.arange(len(list(short_genre.keys())))\n",
        "y_pos\n",
        "plt.figure(figsize = (20,10))\n",
        "plt.bar(y_pos, list(short_genre.values()))\n",
        "plt.xticks(y_pos, list(short_genre.keys()))\n",
        "plt.xticks(rotation=90)\n",
        "plt.show()"
      ],
      "execution_count": 16,
      "outputs": [
        {
          "output_type": "display_data",
          "data": {
            "image/png": "[encoded data removed]",
            "text/plain": [
              "<matplotlib.figure.Figure at 0x7f7be4a51b38>"
            ]
          },
          "metadata": {
            "tags": []
          }
        }
      ]
    },
    {
      "metadata": {
        "id": "-BhIC8ozg3q_",
        "colab_type": "code",
        "colab": {}
      },
      "cell_type": "code",
      "source": [
        "remove_genres = [k for k,v in genres.items() if v <= 200]"
      ],
      "execution_count": 0,
      "outputs": []
    },
    {
      "metadata": {
        "id": "ul_hIckig3rE",
        "colab_type": "code",
        "colab": {}
      },
      "cell_type": "code",
      "source": [
        "for a in remove_genres:\n",
        "    songs = songs[songs['genre'] != a]"
      ],
      "execution_count": 0,
      "outputs": []
    },
    {
      "metadata": {
        "id": "UPBEbI7Ig3rH",
        "colab_type": "code",
        "outputId": "0cecfdd9-3c4f-4e28-ee38-27790ccee02e",
        "colab": {
          "base_uri": "https://localhost:8080/",
          "height": 119
        }
      },
      "cell_type": "code",
      "source": [
        "songs['text'].head()"
      ],
      "execution_count": 19,
      "outputs": [
        {
          "output_type": "execute_result",
          "data": {
            "text/plain": [
              "0    Look at her face, it's a wonderful face  \\nAnd...\n",
              "1    Take it easy with me, please  \\nTouch me gentl...\n",
              "2    I'll never know why I had to go  \\nWhy I had t...\n",
              "3    Making somebody happy is a question of give an...\n",
              "4    Making somebody happy is a question of give an...\n",
              "Name: text, dtype: object"
            ]
          },
          "metadata": {
            "tags": []
          },
          "execution_count": 19
        }
      ]
    },
    {
      "metadata": {
        "id": "Dwe7-GqGg3rN",
        "colab_type": "code",
        "outputId": "6c7fa19d-bb08-4046-8939-8c01f914dd43",
        "colab": {
          "base_uri": "https://localhost:8080/",
          "height": 34
        }
      },
      "cell_type": "code",
      "source": [
        "stopWORDS = stopwords.words('english')\n",
        "more_stopwords = ['like', 'yeah','got', 'get', 'little', 'never', 'gonna']\n",
        "stopWORDS.append(more_stopwords)\n",
        "tokenized = []\n",
        "tokenizer = RegexpTokenizer(r'\\w+')\n",
        "\n",
        "for lyrics in tqdm(songs['text']):\n",
        "    raw = lyrics.lower()\n",
        "    tokens = tokenizer.tokenize(raw)\n",
        "    cleaned = [t for t in tokens if t not in stopWORDS]\n",
        "    tokenized.append(cleaned)"
      ],
      "execution_count": 20,
      "outputs": [
        {
          "output_type": "stream",
          "text": [
            "100%|██████████| 48881/48881 [00:23<00:00, 2091.46it/s]\n"
          ],
          "name": "stderr"
        }
      ]
    },
    {
      "metadata": {
        "id": "6mxBXmg8g3rS",
        "colab_type": "code",
        "colab": {}
      },
      "cell_type": "code",
      "source": [
        "dictionary = corpora.Dictionary(tokenized)\n",
        "corpus_tokenized = [dictionary.doc2bow(text) for text in tokenized]"
      ],
      "execution_count": 0,
      "outputs": []
    },
    {
      "metadata": {
        "id": "B8jxXG0bg3rX",
        "colab_type": "code",
        "colab": {}
      },
      "cell_type": "code",
      "source": [
        "lda_model = models.LdaModel(corpus=corpus_tokenized, num_topics=10, id2word=dictionary)"
      ],
      "execution_count": 0,
      "outputs": []
    },
    {
      "metadata": {
        "id": "jpyU1Vwrvth9",
        "colab_type": "code",
        "colab": {
          "base_uri": "https://localhost:8080/",
          "height": 34
        },
        "outputId": "53bd6b57-050f-4bac-8acd-f014d6c2268c"
      },
      "cell_type": "code",
      "source": [
        "coherence_values = []\n",
        "model_list = []\n",
        "for num_topics in tqdm(range(2, 20, 5)):\n",
        "    model=models.LdaModel(corpus=corpus_tokenized, id2word=dictionary, num_topics=num_topics)\n",
        "    model_list.append(model)\n",
        "    coherencemodel = CoherenceModel(model=model, texts=tokenized, dictionary=dictionary, coherence='c_v')\n",
        "    coherence_values.append(coherencemodel.get_coherence())"
      ],
      "execution_count": 26,
      "outputs": [
        {
          "output_type": "stream",
          "text": [
            "100%|██████████| 4/4 [06:47<00:00, 100.51s/it]\n"
          ],
          "name": "stderr"
        }
      ]
    },
    {
      "metadata": {
        "id": "-ZyCoipT1QAj",
        "colab_type": "code",
        "colab": {
          "base_uri": "https://localhost:8080/",
          "height": 279
        },
        "outputId": "8d9a156b-8e10-42ce-8ed4-3f4d284fd250"
      },
      "cell_type": "code",
      "source": [
        "x = range(2, 20, 5)\n",
        "plt.plot(x, coherence_values)\n",
        "plt.xlabel(\"Num Topics\")\n",
        "plt.ylabel(\"Coherence score\")\n",
        "plt.legend((\"coherence_values\"), loc='best')\n",
        "plt.show()\n"
      ],
      "execution_count": 27,
      "outputs": [
        {
          "output_type": "display_data",
          "data": {
            "image/png": "[encoded data removed]",
            "text/plain": [
              "<matplotlib.figure.Figure at 0x7f7be20a7ac8>"
            ]
          },
          "metadata": {
            "tags": []
          }
        }
      ]
    },
    {
      "metadata": {
        "id": "LoTv5hbqg3rb",
        "colab_type": "code",
        "outputId": "9890aaf4-3ab4-4fe5-d4f7-dc059a14a92c",
        "colab": {}
      },
      "cell_type": "code",
      "source": [
        "tfor idx in range(10):\n",
        "    print(\"Topic %s:\" % idx, lda_model.print_topic(idx, 10))"
      ],
      "execution_count": 0,
      "outputs": [
        {
          "output_type": "stream",
          "text": [
            "Topic 0: 0.075*\"oh\" + 0.030*\"yeah\" + 0.014*\"god\" + 0.013*\"lord\" + 0.009*\"world\" + 0.008*\"sing\" + 0.008*\"free\" + 0.007*\"whoa\" + 0.006*\"heaven\" + 0.006*\"let\"\n",
            "Topic 1: 0.020*\"little\" + 0.019*\"da\" + 0.010*\"christmas\" + 0.007*\"happy\" + 0.006*\"town\" + 0.006*\"river\" + 0.006*\"go\" + 0.006*\"day\" + 0.006*\"boy\" + 0.005*\"old\"\n",
            "Topic 2: 0.022*\"man\" + 0.014*\"like\" + 0.011*\"got\" + 0.011*\"well\" + 0.010*\"home\" + 0.007*\"one\" + 0.005*\"said\" + 0.005*\"life\" + 0.005*\"right\" + 0.005*\"never\"\n",
            "Topic 3: 0.030*\"know\" + 0.018*\"like\" + 0.014*\"one\" + 0.014*\"see\" + 0.013*\"hey\" + 0.012*\"say\" + 0.010*\"want\" + 0.010*\"go\" + 0.010*\"think\" + 0.009*\"look\"\n",
            "Topic 4: 0.059*\"love\" + 0.025*\"baby\" + 0.024*\"know\" + 0.020*\"let\" + 0.019*\"want\" + 0.016*\"oh\" + 0.013*\"make\" + 0.013*\"need\" + 0.013*\"gonna\" + 0.013*\"heart\"\n",
            "Topic 5: 0.055*\"get\" + 0.025*\"want\" + 0.022*\"got\" + 0.018*\"take\" + 0.018*\"back\" + 0.016*\"yeah\" + 0.013*\"ah\" + 0.012*\"gotta\" + 0.010*\"way\" + 0.009*\"alright\"\n",
            "Topic 6: 0.019*\"like\" + 0.017*\"got\" + 0.013*\"get\" + 0.012*\"nigga\" + 0.012*\"ya\" + 0.010*\"em\" + 0.009*\"fuck\" + 0.009*\"shit\" + 0.009*\"money\" + 0.008*\"go\"\n",
            "Topic 7: 0.018*\"time\" + 0.014*\"never\" + 0.012*\"life\" + 0.011*\"see\" + 0.010*\"way\" + 0.010*\"know\" + 0.009*\"love\" + 0.009*\"could\" + 0.009*\"long\" + 0.009*\"one\"\n",
            "Topic 8: 0.012*\"come\" + 0.011*\"dance\" + 0.010*\"night\" + 0.010*\"run\" + 0.009*\"away\" + 0.008*\"light\" + 0.007*\"fly\" + 0.006*\"fire\" + 0.006*\"like\" + 0.006*\"go\"\n",
            "Topic 9: 0.094*\"la\" + 0.065*\"na\" + 0.015*\"boom\" + 0.015*\"de\" + 0.011*\"mi\" + 0.011*\"di\" + 0.010*\"gimme\" + 0.009*\"ba\" + 0.007*\"sa\" + 0.007*\"hello\"\n"
          ],
          "name": "stdout"
        }
      ]
    },
    {
      "metadata": {
        "id": "U6hx2hHeg3ri",
        "colab_type": "code",
        "outputId": "6f187fb2-b31c-42cc-bb9a-d4edc8e44302",
        "colab": {}
      },
      "cell_type": "code",
      "source": [
        "coherence_model_lda = CoherenceModel(model=lda_model, texts=tokenized, dictionary=dictionary, coherence='c_v')\n",
        "coherence_lda = coherence_model_lda.get_coherence(\n",
        "print('\\nCoherence Score: ', coherence_lda)"
      ],
      "execution_count": 0,
      "outputs": [
        {
          "output_type": "stream",
          "text": [
            "\n",
            "Coherence Score:  0.3893421622746832\n"
          ],
          "name": "stdout"
        }
      ]
    },
    {
      "metadata": {
        "id": "_Thsyf2og3rm",
        "colab_type": "code",
        "outputId": "f25ffc93-2305-4c34-d7a5-5df938289423",
        "colab": {}
      },
      "cell_type": "code",
      "source": [
        "pyLDAvis.enable_notebook()\n",
        "vis = pyLDAvis.gensim.prepare(lda_model, corpus_tokenized, dictionary)\n",
        "vis"
      ],
      "execution_count": 0,
      "outputs": [
        {
          "output_type": "execute_result",
          "data": {
            "text/html": [
              "\n",
              "<link rel=\"stylesheet\" type=\"text/css\" href=\"https://cdn.rawgit.com/bmabey/pyLDAvis/files/ldavis.v1.0.0.css\">\n",
              "\n",
              "\n",
              "<div id=\"ldavis_el579855892437286519589306\"></div>\n",
              "<script type=\"text/javascript\">\n",
              "\n",
              "var ldavis_el579855892437286519589306_data = {\"mdsDat\": {\"Freq\": [21.42986703227273, 20.073241371600044, 10.930410312303938, 10.720965923628057, 9.13078112970126, 8.685258715277925, 6.139771523473394, 5.922410089418144, 5.025558195421614, 1.9417357069028756], \"cluster\": [1, 1, 1, 1, 1, 1, 1, 1, 1, 1], \"topics\": [1, 2, 3, 4, 5, 6, 7, 8, 9, 10], \"x\": [-0.12097719525390589, -0.12668589734208, -0.09663607319894979, -0.057248455686113475, 0.007118756751647709, -0.0482136521914373, -0.021513582679590488, -0.02084895203779804, 0.04752076582097963, 0.43748428581724774], \"y\": [-0.057589919041257584, 0.07767742057827429, -0.0491341983771717, -0.014888717077756951, -0.19058758035400475, 0.165414204854482, 0.10954799756187075, -0.17262849656171164, 0.13454603501372195, -0.0023567465964463544]}, \"tinfo\": {\"Category\": [\"Default\", \"Default\", \"Default\", \"Default\", \"Default\", \"Default\", \"Default\", \"Default\", \"Default\", \"Default\", \"Default\", \"Default\", \"Default\", \"Default\", \"Default\", \"Default\", \"Default\", \"Default\", \"Default\", \"Default\", \"Default\", \"Default\", \"Default\", \"Default\", \"Default\", \"Default\", \"Default\", \"Default\", \"Default\", \"Default\", \"Topic1\", \"Topic1\", \"Topic1\", \"Topic1\", \"Topic1\", \"Topic1\", \"Topic1\", \"Topic1\", \"Topic1\", \"Topic1\", \"Topic1\", \"Topic1\", \"Topic1\", \"Topic1\", \"Topic1\", \"Topic1\", \"Topic1\", \"Topic1\", \"Topic1\", \"Topic1\", \"Topic1\", \"Topic1\", \"Topic1\", \"Topic1\", \"Topic1\", \"Topic1\", \"Topic1\", \"Topic1\", \"Topic1\", \"Topic1\", \"Topic1\", \"Topic1\", \"Topic1\", \"Topic1\", \"Topic1\", \"Topic1\", \"Topic1\", \"Topic1\", \"Topic1\", \"Topic1\", \"Topic1\", \"Topic1\", \"Topic1\", \"Topic1\", \"Topic1\", \"Topic1\", \"Topic1\", \"Topic1\", \"Topic1\", \"Topic1\", \"Topic1\", \"Topic1\", \"Topic1\", \"Topic1\", \"Topic1\", \"Topic1\", \"Topic1\", \"Topic1\", \"Topic1\", \"Topic1\", \"Topic1\", \"Topic1\", \"Topic1\", \"Topic1\", \"Topic1\", \"Topic1\", \"Topic1\", \"Topic1\", \"Topic1\", \"Topic1\", \"Topic1\", \"Topic1\", \"Topic1\", \"Topic1\", \"Topic1\", \"Topic1\", \"Topic1\", \"Topic1\", \"Topic1\", \"Topic1\", \"Topic1\", \"Topic2\", \"Topic2\", \"Topic2\", \"Topic2\", \"Topic2\", \"Topic2\", \"Topic2\", \"Topic2\", \"Topic2\", \"Topic2\", \"Topic2\", \"Topic2\", \"Topic2\", \"Topic2\", \"Topic2\", \"Topic2\", \"Topic2\", \"Topic2\", \"Topic2\", \"Topic2\", \"Topic2\", \"Topic2\", \"Topic2\", \"Topic2\", \"Topic2\", \"Topic2\", \"Topic2\", \"Topic2\", \"Topic2\", \"Topic2\", \"Topic2\", \"Topic2\", \"Topic2\", \"Topic2\", \"Topic2\", \"Topic2\", \"Topic2\", \"Topic2\", \"Topic2\", \"Topic2\", \"Topic2\", \"Topic2\", \"Topic2\", \"Topic2\", \"Topic2\", \"Topic2\", \"Topic2\", \"Topic2\", \"Topic2\", \"Topic2\", \"Topic2\", \"Topic2\", \"Topic2\", \"Topic2\", \"Topic2\", \"Topic2\", \"Topic2\", \"Topic2\", \"Topic2\", \"Topic2\", \"Topic2\", \"Topic2\", \"Topic2\", \"Topic2\", \"Topic2\", \"Topic2\", \"Topic2\", \"Topic2\", \"Topic2\", \"Topic2\", \"Topic2\", \"Topic2\", \"Topic2\", \"Topic2\", \"Topic2\", \"Topic2\", \"Topic2\", \"Topic2\", \"Topic2\", \"Topic2\", \"Topic2\", \"Topic2\", \"Topic2\", \"Topic2\", \"Topic2\", \"Topic2\", \"Topic2\", \"Topic2\", \"Topic2\", \"Topic2\", \"Topic2\", \"Topic2\", \"Topic2\", \"Topic2\", \"Topic2\", \"Topic2\", \"Topic2\", \"Topic2\", \"Topic2\", \"Topic3\", \"Topic3\", \"Topic3\", \"Topic3\", \"Topic3\", \"Topic3\", \"Topic3\", \"Topic3\", \"Topic3\", \"Topic3\", \"Topic3\", \"Topic3\", \"Topic3\", \"Topic3\", \"Topic3\", \"Topic3\", \"Topic3\", \"Topic3\", \"Topic3\", \"Topic3\", \"Topic3\", \"Topic3\", \"Topic3\", \"Topic3\", \"Topic3\", \"Topic3\", \"Topic3\", \"Topic3\", \"Topic3\", \"Topic3\", \"Topic3\", \"Topic3\", \"Topic3\", \"Topic3\", \"Topic3\", \"Topic3\", \"Topic3\", \"Topic3\", \"Topic3\", \"Topic3\", \"Topic3\", \"Topic3\", \"Topic3\", \"Topic3\", \"Topic3\", \"Topic3\", \"Topic3\", \"Topic3\", \"Topic3\", \"Topic3\", \"Topic3\", \"Topic3\", \"Topic3\", \"Topic3\", \"Topic3\", \"Topic3\", \"Topic3\", \"Topic3\", \"Topic3\", \"Topic3\", \"Topic3\", \"Topic3\", \"Topic3\", \"Topic3\", \"Topic3\", \"Topic3\", \"Topic3\", \"Topic3\", \"Topic3\", \"Topic3\", \"Topic3\", \"Topic3\", \"Topic3\", \"Topic3\", \"Topic3\", \"Topic3\", \"Topic3\", \"Topic3\", \"Topic3\", \"Topic3\", \"Topic3\", \"Topic3\", \"Topic3\", \"Topic3\", \"Topic3\", \"Topic3\", \"Topic3\", \"Topic3\", \"Topic3\", \"Topic3\", \"Topic3\", \"Topic3\", \"Topic3\", \"Topic3\", \"Topic3\", \"Topic4\", \"Topic4\", \"Topic4\", \"Topic4\", \"Topic4\", \"Topic4\", \"Topic4\", \"Topic4\", \"Topic4\", \"Topic4\", \"Topic4\", \"Topic4\", \"Topic4\", \"Topic4\", \"Topic4\", \"Topic4\", \"Topic4\", \"Topic4\", \"Topic4\", \"Topic4\", \"Topic4\", \"Topic4\", \"Topic4\", \"Topic4\", \"Topic4\", \"Topic4\", \"Topic4\", \"Topic4\", \"Topic4\", \"Topic4\", \"Topic4\", \"Topic4\", \"Topic4\", \"Topic4\", \"Topic4\", \"Topic4\", \"Topic4\", \"Topic4\", \"Topic4\", \"Topic4\", \"Topic4\", \"Topic4\", \"Topic4\", \"Topic4\", \"Topic4\", \"Topic4\", \"Topic4\", \"Topic4\", \"Topic4\", \"Topic4\", \"Topic4\", \"Topic4\", \"Topic4\", \"Topic4\", \"Topic4\", \"Topic4\", \"Topic4\", \"Topic4\", \"Topic4\", \"Topic4\", \"Topic4\", \"Topic4\", \"Topic4\", \"Topic4\", \"Topic4\", \"Topic4\", \"Topic4\", \"Topic4\", \"Topic4\", \"Topic4\", \"Topic4\", \"Topic4\", \"Topic4\", \"Topic4\", \"Topic4\", \"Topic4\", \"Topic4\", \"Topic4\", \"Topic4\", \"Topic4\", \"Topic4\", \"Topic4\", \"Topic4\", \"Topic4\", \"Topic4\", \"Topic4\", \"Topic4\", \"Topic4\", \"Topic4\", \"Topic4\", \"Topic4\", \"Topic4\", \"Topic4\", \"Topic4\", \"Topic4\", \"Topic4\", \"Topic4\", \"Topic4\", \"Topic4\", \"Topic4\", \"Topic4\", \"Topic4\", \"Topic4\", \"Topic4\", \"Topic4\", \"Topic4\", \"Topic5\", \"Topic5\", \"Topic5\", \"Topic5\", \"Topic5\", \"Topic5\", \"Topic5\", \"Topic5\", \"Topic5\", \"Topic5\", \"Topic5\", \"Topic5\", \"Topic5\", \"Topic5\", \"Topic5\", \"Topic5\", \"Topic5\", \"Topic5\", \"Topic5\", \"Topic5\", \"Topic5\", \"Topic5\", \"Topic5\", \"Topic5\", \"Topic5\", \"Topic5\", \"Topic5\", \"Topic5\", \"Topic5\", \"Topic5\", \"Topic5\", \"Topic5\", \"Topic5\", \"Topic5\", \"Topic5\", \"Topic5\", \"Topic5\", \"Topic5\", \"Topic5\", \"Topic5\", \"Topic5\", \"Topic5\", \"Topic5\", \"Topic5\", \"Topic5\", \"Topic5\", \"Topic5\", \"Topic5\", \"Topic5\", \"Topic5\", \"Topic5\", \"Topic5\", \"Topic5\", \"Topic5\", \"Topic5\", \"Topic5\", \"Topic5\", \"Topic5\", \"Topic5\", \"Topic5\", \"Topic5\", \"Topic5\", \"Topic5\", \"Topic5\", \"Topic5\", \"Topic5\", \"Topic5\", \"Topic5\", \"Topic5\", \"Topic5\", \"Topic5\", \"Topic5\", \"Topic5\", \"Topic5\", \"Topic5\", \"Topic5\", \"Topic5\", \"Topic5\", \"Topic5\", \"Topic5\", \"Topic5\", \"Topic5\", \"Topic5\", \"Topic5\", \"Topic6\", \"Topic6\", \"Topic6\", \"Topic6\", \"Topic6\", \"Topic6\", \"Topic6\", \"Topic6\", \"Topic6\", \"Topic6\", \"Topic6\", \"Topic6\", \"Topic6\", \"Topic6\", \"Topic6\", \"Topic6\", \"Topic6\", \"Topic6\", \"Topic6\", \"Topic6\", \"Topic6\", \"Topic6\", \"Topic6\", \"Topic6\", \"Topic6\", \"Topic6\", \"Topic6\", \"Topic6\", \"Topic6\", \"Topic6\", \"Topic6\", \"Topic6\", \"Topic6\", \"Topic6\", \"Topic6\", \"Topic6\", \"Topic6\", \"Topic6\", \"Topic6\", \"Topic6\", \"Topic6\", \"Topic6\", \"Topic6\", \"Topic6\", \"Topic6\", \"Topic6\", \"Topic6\", \"Topic6\", \"Topic6\", \"Topic6\", \"Topic6\", \"Topic6\", \"Topic6\", \"Topic6\", \"Topic6\", \"Topic6\", \"Topic6\", \"Topic6\", \"Topic6\", \"Topic6\", \"Topic6\", \"Topic6\", \"Topic6\", \"Topic6\", \"Topic6\", \"Topic6\", \"Topic6\", \"Topic6\", \"Topic6\", \"Topic6\", \"Topic6\", \"Topic6\", \"Topic6\", \"Topic6\", \"Topic6\", \"Topic6\", \"Topic6\", \"Topic6\", \"Topic6\", \"Topic6\", \"Topic6\", \"Topic6\", \"Topic6\", \"Topic6\", \"Topic6\", \"Topic6\", \"Topic6\", \"Topic6\", \"Topic6\", \"Topic6\", \"Topic6\", \"Topic6\", \"Topic7\", \"Topic7\", \"Topic7\", \"Topic7\", \"Topic7\", \"Topic7\", \"Topic7\", \"Topic7\", \"Topic7\", \"Topic7\", \"Topic7\", \"Topic7\", \"Topic7\", \"Topic7\", \"Topic7\", \"Topic7\", \"Topic7\", \"Topic7\", \"Topic7\", \"Topic7\", \"Topic7\", \"Topic7\", \"Topic7\", \"Topic7\", \"Topic7\", \"Topic7\", \"Topic7\", \"Topic7\", \"Topic7\", \"Topic7\", \"Topic7\", \"Topic7\", \"Topic7\", \"Topic7\", \"Topic7\", \"Topic7\", \"Topic7\", \"Topic7\", \"Topic7\", \"Topic7\", \"Topic7\", \"Topic7\", \"Topic7\", \"Topic7\", \"Topic7\", \"Topic7\", \"Topic7\", \"Topic7\", \"Topic7\", \"Topic7\", \"Topic7\", \"Topic7\", \"Topic7\", \"Topic7\", \"Topic7\", \"Topic7\", \"Topic7\", \"Topic7\", \"Topic7\", \"Topic7\", \"Topic7\", \"Topic7\", \"Topic7\", \"Topic7\", \"Topic7\", \"Topic7\", \"Topic7\", \"Topic7\", \"Topic7\", \"Topic7\", \"Topic7\", \"Topic7\", \"Topic7\", \"Topic7\", \"Topic7\", \"Topic7\", \"Topic7\", \"Topic7\", \"Topic7\", \"Topic7\", \"Topic7\", \"Topic8\", \"Topic8\", \"Topic8\", \"Topic8\", \"Topic8\", \"Topic8\", \"Topic8\", \"Topic8\", \"Topic8\", \"Topic8\", \"Topic8\", \"Topic8\", \"Topic8\", \"Topic8\", \"Topic8\", \"Topic8\", \"Topic8\", \"Topic8\", \"Topic8\", \"Topic8\", \"Topic8\", \"Topic8\", \"Topic8\", \"Topic8\", \"Topic8\", \"Topic8\", \"Topic8\", \"Topic8\", \"Topic8\", \"Topic8\", \"Topic8\", \"Topic8\", \"Topic8\", \"Topic8\", \"Topic8\", \"Topic8\", \"Topic8\", \"Topic8\", \"Topic8\", \"Topic8\", \"Topic8\", \"Topic8\", \"Topic8\", \"Topic8\", \"Topic8\", \"Topic8\", \"Topic8\", \"Topic8\", \"Topic8\", \"Topic8\", \"Topic8\", \"Topic8\", \"Topic8\", \"Topic8\", \"Topic8\", \"Topic8\", \"Topic8\", \"Topic8\", \"Topic8\", \"Topic8\", \"Topic8\", \"Topic8\", \"Topic8\", \"Topic8\", \"Topic8\", \"Topic8\", \"Topic8\", \"Topic8\", \"Topic8\", \"Topic8\", \"Topic8\", \"Topic8\", \"Topic8\", \"Topic8\", \"Topic8\", \"Topic8\", \"Topic8\", \"Topic8\", \"Topic9\", \"Topic9\", \"Topic9\", \"Topic9\", \"Topic9\", \"Topic9\", \"Topic9\", \"Topic9\", \"Topic9\", \"Topic9\", \"Topic9\", \"Topic9\", \"Topic9\", \"Topic9\", \"Topic9\", \"Topic9\", \"Topic9\", \"Topic9\", \"Topic9\", \"Topic9\", \"Topic9\", \"Topic9\", \"Topic9\", \"Topic9\", \"Topic9\", \"Topic9\", \"Topic9\", \"Topic9\", \"Topic9\", \"Topic9\", \"Topic9\", \"Topic9\", \"Topic9\", \"Topic9\", \"Topic9\", \"Topic9\", \"Topic9\", \"Topic9\", \"Topic9\", \"Topic9\", \"Topic9\", \"Topic9\", \"Topic9\", \"Topic9\", \"Topic9\", \"Topic9\", \"Topic9\", \"Topic9\", \"Topic9\", \"Topic9\", \"Topic9\", \"Topic9\", \"Topic9\", \"Topic9\", \"Topic9\", \"Topic9\", \"Topic9\", \"Topic9\", \"Topic9\", \"Topic9\", \"Topic9\", \"Topic9\", \"Topic9\", \"Topic9\", \"Topic9\", \"Topic9\", \"Topic9\", \"Topic9\", \"Topic9\", \"Topic9\", \"Topic9\", \"Topic9\", \"Topic9\", \"Topic9\", \"Topic9\", \"Topic9\", \"Topic9\", \"Topic9\", \"Topic9\", \"Topic9\", \"Topic9\", \"Topic9\", \"Topic10\", \"Topic10\", \"Topic10\", \"Topic10\", \"Topic10\", \"Topic10\", \"Topic10\", \"Topic10\", \"Topic10\", \"Topic10\", \"Topic10\", \"Topic10\", \"Topic10\", \"Topic10\", \"Topic10\", \"Topic10\", \"Topic10\", \"Topic10\", \"Topic10\", \"Topic10\", \"Topic10\", \"Topic10\", \"Topic10\", \"Topic10\", \"Topic10\", \"Topic10\", \"Topic10\", \"Topic10\", \"Topic10\", \"Topic10\", \"Topic10\", \"Topic10\", \"Topic10\", \"Topic10\", \"Topic10\", \"Topic10\", \"Topic10\", \"Topic10\", \"Topic10\", \"Topic10\", \"Topic10\", \"Topic10\", \"Topic10\", \"Topic10\", \"Topic10\", \"Topic10\", \"Topic10\", \"Topic10\", \"Topic10\", \"Topic10\", \"Topic10\"], \"Freq\": [46567.0, 79610.0, 37147.0, 9549.0, 27539.0, 37332.0, 32971.0, 6649.0, 40097.0, 63511.0, 15934.0, 20818.0, 4914.0, 27083.0, 24567.0, 5683.0, 8943.0, 10249.0, 6892.0, 23438.0, 6905.0, 4616.0, 4972.0, 33560.0, 52055.0, 6027.0, 4327.0, 4355.0, 4876.0, 22796.0, 267.5251524674688, 197.32858837393488, 188.2801490274757, 170.2918081198833, 163.16257565265173, 128.2164160192272, 122.23907115642253, 112.20138788940417, 90.67950557740818, 88.72318493677689, 201.12561792501018, 82.85209594160098, 81.59115712036623, 76.69720158254223, 72.25599481525425, 71.95728363898509, 69.8849763816877, 68.8219939206848, 104.86634274529754, 66.34420211315458, 66.82274062852197, 63.94793996506279, 62.4434634775947, 60.57180605838244, 58.91076964262148, 59.07981084574742, 57.7052895711347, 56.87756467500677, 52.42559214601165, 57.990076974597926, 60.976178173737885, 2546.576337252145, 66489.5091229108, 27679.53335802824, 72.87152581466104, 6116.410469071994, 2098.1874638660365, 14432.015858935241, 315.10316905285197, 2382.5823448865194, 22653.912929412472, 831.3139614797304, 11041.707885676407, 6590.646689411903, 14150.477808476353, 14226.738193963709, 1551.7850095734345, 4982.633271850078, 21100.827748332824, 6762.023141911501, 13269.07862223968, 14623.7011181493, 6788.674375871198, 8550.368039388506, 6038.825267367294, 2859.4895824898213, 2621.3363944524185, 26971.100925333165, 3633.0500325876515, 4355.919050192867, 1458.3747738363209, 4026.7194323620533, 12863.897664857053, 8888.23581498154, 17561.734568567237, 4990.441863814589, 9327.925626920043, 10368.601103677507, 10867.885738986603, 12571.131014584389, 9949.919538826482, 12442.031325272521, 7167.9875142384, 9554.334632139404, 7401.940148178802, 12258.103021485369, 8850.488984410993, 10394.530990854299, 8925.931530595673, 8807.617097087836, 8644.072186125019, 456.32436196428677, 303.52131233271814, 198.00848237966363, 151.45057178293314, 140.0343213011592, 120.00434345252306, 112.23242419245337, 106.9447144426648, 111.44172428228903, 109.49797154644881, 90.3048169424098, 98.4886858250102, 109.32041732010455, 111.14454099704108, 83.71909640641174, 73.84391645403494, 78.99446997248393, 73.6752937571985, 71.97873827650596, 84.22444539947952, 69.44797030599553, 75.41209455717764, 66.46220579424097, 66.21693988692704, 119.88362276223508, 64.2341861389026, 92.47809471902961, 60.8822136497549, 55.90006908213702, 55.87407222424049, 101.13584612920097, 113.91491823951048, 208.09727856299583, 174.37127350881735, 292.54011130962084, 129.94560145568605, 90.66726909713809, 1381.106255744035, 3135.0925399019925, 361.72657864568436, 423.3411548137242, 530.5161195068295, 515.4999130008121, 208.29090190866827, 4935.709896860786, 3961.4817427144753, 2210.2016051243895, 4159.297441464916, 2671.0892916264497, 760.6190684145246, 9476.897921199141, 1748.124513708178, 1050.068290346705, 3847.4952729996853, 990.4515980903516, 787.9860076699846, 8609.619718272626, 3142.5980782029374, 4209.342831884378, 6623.698498730555, 2741.350901369252, 4452.164156670659, 974.3856544170848, 3190.7124261400904, 18621.880296973413, 12738.271112479388, 2450.094731778419, 8001.795943563191, 7528.989291242426, 3439.7746457192934, 6456.931178290559, 9595.966415936318, 14589.830371674227, 3039.066108819003, 2226.1678210186046, 2930.1303961395374, 3647.442203206174, 3131.1491093147783, 6150.613854462305, 8690.838314669636, 10607.003097884897, 11806.740127511508, 8024.954285044271, 4119.892449330647, 3852.172035595994, 5815.434224325402, 7310.062571320107, 9422.377300131238, 6895.9869699502415, 10239.551485162548, 5022.854753930895, 9941.974052280795, 6569.607812484774, 4887.248425411, 5289.690869906412, 5653.827098875452, 6229.933409207517, 4847.690513277499, 5261.483725639199, 433.0677659410554, 183.93075181810525, 136.4509306655905, 170.07054029159286, 134.71308144477277, 126.66905354620596, 115.02417432794769, 110.60795042813818, 123.19880051011897, 162.7888276018306, 108.45460429357777, 187.30312888545615, 96.61847079342247, 95.25248041959335, 88.50269655915596, 89.89956362948435, 88.54633462591003, 120.54389511336129, 86.44013489572426, 122.20733764767701, 84.26236341536017, 114.2355382733928, 135.14885521978678, 78.09724152530711, 75.6124239943756, 77.67732177835559, 72.45132866230537, 72.55563935454455, 71.67694211173534, 70.38852590458221, 337.98666199470813, 133.52096993666314, 117.55748506584747, 136.40491491030687, 113.11869806579591, 133.1312285441253, 152.87496382826663, 658.2902382415674, 106.03242139684808, 319.00103523966516, 7661.572475280013, 112.67701332384303, 127.02696217867496, 156.58941212721655, 475.9870391627355, 4287.821735792354, 293.92074432284903, 3599.902638595342, 276.9765211287632, 1646.0377877705691, 798.5362175218214, 240.32107712549794, 807.489894182063, 298.92652690123833, 4427.254445832343, 2530.8595571793085, 1821.471429007686, 266.4635463545199, 5292.626922595582, 1941.8871534075502, 17002.371146659527, 5504.897909322072, 761.6171992628177, 1145.8218697109105, 1235.6837311813686, 899.6703178855008, 3155.2742184797103, 4504.733172423306, 6921.877364733439, 942.6812069379354, 10057.786091617922, 8177.915173868172, 7723.691666513862, 2177.919994447618, 1185.1683250594785, 3064.9095507076167, 3375.546476279216, 2473.5148975303587, 5725.281901855275, 5869.581989723163, 2365.354611171478, 2525.6120152217595, 5008.557324276133, 3531.937858543586, 2505.1358271665695, 3534.4486976308026, 3674.948740412677, 4251.330501942361, 3318.5229209721047, 4017.2467669176026, 3145.3766493548105, 3679.5418360728586, 2909.0983909532297, 2883.9362609948575, 2690.651665874266, 248.32637652242136, 220.65942686554772, 214.70447622901224, 182.46277178371153, 148.79961076129717, 140.9094993172384, 189.86256551332647, 132.6512377954862, 120.47949397911732, 120.12815805620819, 112.52604813146495, 111.43739276638513, 107.56067003033678, 112.50773358653494, 208.7112167179972, 131.151671233562, 100.71778198217294, 94.80448348076766, 108.49414917546207, 98.3354315225989, 83.66122449206163, 94.96076053044861, 106.82890366256385, 81.96563685018545, 82.71937904101553, 81.83360251736865, 80.78854816374952, 77.98313660886909, 74.19309402090884, 74.69789376197583, 116.12448926696742, 109.69472222939504, 103.09238586219065, 243.48326390957476, 111.11259091702998, 135.1185804642345, 99.26408332551645, 100.24608052154711, 137.0852005390507, 127.37046790059026, 254.45918862556996, 351.44571232717374, 273.37987486582017, 152.67767895590003, 1188.1479969651173, 340.5345163990923, 790.0207765051857, 583.0985140984541, 288.00540075956667, 1666.3357746592726, 292.8784396323835, 12199.977571020452, 175.07362756241295, 260.07297989844506, 233.88773074475043, 2510.3786854676096, 793.3070875646283, 383.95518748770655, 454.4803739402284, 216.57919740740766, 1524.5665191714022, 815.0494368682387, 456.78921343696004, 758.5891685784137, 392.647567327795, 5790.2785125835135, 1374.382553871919, 5902.299467419318, 365.71602085393863, 747.1561956685956, 847.7791432084106, 685.9447136623448, 1967.1900926028447, 556.8502322500538, 1829.197775752043, 1254.1861688355552, 943.2761056671592, 1976.198956912133, 890.8077232113552, 1225.6141740576752, 1774.04552149745, 2571.789262722752, 2518.9460436679533, 2425.4764344677424, 7842.685416241978, 1902.208586801066, 5934.863935140406, 2260.249035693185, 2990.2673837120933, 1600.1054223814835, 4116.084738091016, 1496.3923234851807, 2972.8725127070215, 2756.5407818221142, 2459.0838690431165, 1665.4030538635143, 2668.0522069680296, 2280.9609431385074, 2020.8967535692852, 2121.927415822591, 2266.796999226198, 2069.416761505292, 1801.1533964305968, 1879.8405095723674, 1722.4593684472854, 1738.2706102708053, 3180.874530157448, 960.3269453351024, 944.7425684379039, 659.6533767479946, 5675.024423500028, 644.7469800267526, 489.8237595703308, 381.681087917185, 328.9746990272552, 326.52679223772435, 265.89745800792974, 1712.2271282004717, 268.98339842367426, 763.1361083644063, 452.87264547330085, 355.8806448260341, 333.006828198767, 362.1362800716224, 336.43939799399135, 302.2893481878008, 205.0510706721433, 1013.240289576621, 395.9137269072277, 224.43809242414557, 188.84814728687067, 193.81853424060893, 166.43249369500683, 216.82096875752114, 218.28753216075646, 152.3644328231504, 3190.8552783939094, 4280.0415705440655, 4265.519471854217, 766.083430363449, 545.9767745518479, 612.2238215179846, 639.3295834032034, 324.19139137758066, 2086.7710899705094, 634.0650837266536, 501.2549175809068, 4551.727000261477, 3046.014755991443, 811.5584381387224, 706.2678890228885, 3322.921572002093, 1473.8942340357262, 819.8050394250787, 847.2433188349308, 2582.576109214933, 5592.605857581501, 1468.3877216044057, 878.7736472409091, 910.7053301327605, 4104.886117123905, 1156.6401804980949, 852.927451738474, 1659.9667072587845, 1037.750247988838, 1859.0208646540673, 1652.4575337258882, 1936.7540725295914, 1315.4747737618193, 8322.627959848056, 9216.895534774785, 2325.587898527829, 6116.403685461068, 1461.1736747366474, 3664.8244801610613, 2478.1630507898353, 3689.792240478538, 3388.65659198293, 2921.2588476616634, 2011.65246433546, 2806.9559346793526, 2741.6884948968973, 2910.787184663688, 2475.8547069112283, 2301.120609031054, 2891.682844476487, 2551.5251394058696, 2383.6305130966985, 2177.5563190585563, 2231.9036277630294, 322.1118921676296, 286.2615120062492, 212.46780203672876, 197.54004815586262, 179.22443327047466, 269.3791370531281, 127.92448209559832, 121.76648238846131, 123.47271977392673, 114.80414231686963, 106.37994534143735, 109.37577629562605, 118.45074513639608, 93.32475343289799, 88.92232433923023, 88.86433071193434, 97.22478027839006, 118.46645408339569, 81.56757107225665, 90.30083398306489, 80.81087941878104, 83.0701998940458, 78.65039715420102, 117.33110282059924, 80.73807525356541, 75.01105427275387, 75.63147180190018, 77.45555931960828, 75.09258489675271, 73.19539594611872, 260.8437223183663, 175.0268018113242, 161.61646086637046, 116.05526944388613, 79.63103708868333, 733.3887716093438, 207.51224361161786, 1263.5223185487798, 255.86233463220893, 118.1887796182225, 101.5669168744693, 4795.105205824506, 1692.5920312746812, 347.2560370193005, 156.867972522273, 882.5141093503554, 277.27023393483915, 1874.3352204600826, 426.38558348078624, 2212.23913604342, 2978.2793701662595, 1910.86876145532, 421.0773070085359, 636.0136993825988, 475.1469476814875, 4459.355146738784, 311.588535953268, 2950.1534584260694, 756.3698116346354, 598.9237789289526, 830.9639248229369, 3541.8488492887027, 1583.4706302616937, 2372.566683753826, 1822.6756414152908, 1199.127843644323, 1274.5657743490008, 2571.9268294341305, 4724.658096101324, 1495.53519508481, 1504.557019064936, 862.9663660476107, 833.3895764910121, 5254.883069376536, 1224.3364625593733, 1614.406131432624, 2142.0957942844225, 4142.083565607974, 1002.4664131447837, 2472.125418520602, 1596.090952539878, 2404.913215656093, 1459.5720910077016, 2017.2342661919881, 2931.5686511141744, 2594.559128193651, 1447.4655530280213, 2091.6832070425003, 1493.8527391161651, 1552.030434578244, 1743.4575223880477, 1637.638990238246, 423.8063920274348, 255.71646502381225, 223.3160937295436, 160.96925509302872, 156.2814447058634, 171.70173425229768, 344.83973333778283, 861.8051502925924, 128.0853188895503, 150.35341991543282, 110.99556060422002, 105.27498072346512, 105.22209912972401, 131.20804144415143, 104.1865370546211, 123.14058166341921, 116.55248026471257, 130.7903403638117, 194.84793871872265, 118.63056251935802, 94.27442307865202, 106.19542119410798, 86.74849061807224, 112.92047116381882, 81.18024185598874, 179.78150380705864, 80.55683305714886, 80.49609674416786, 96.15020661898586, 76.59166150992237, 1578.3923259959538, 186.17870097120715, 460.7858498245982, 126.70812789606832, 235.72559747534834, 401.22410223195664, 186.6296795362695, 244.16048252944248, 145.0195985646707, 4019.992182550027, 1130.5268822380408, 656.73074071303, 1785.3292286693836, 618.2432888986573, 369.6768225611978, 179.54789829263748, 257.202828208965, 2345.9551165287417, 4545.944631160624, 471.4405102909935, 24069.15090071669, 1725.2415417784816, 1107.5532948001435, 1220.6942771664044, 797.5315424887157, 1642.3968746418486, 1549.8630891018643, 9683.940751751177, 674.6248558715803, 1536.9200061525219, 2612.324280674073, 1667.3423421792465, 2014.478866404779, 627.6444071563707, 999.440304080114, 2423.998710281512, 1381.6457493992277, 1170.499912699616, 1431.5780781906365, 1152.1568176798291, 1099.7321238973614, 1438.2332015456634, 2789.4242337672154, 1695.549694360038, 1499.3454202816772, 972.2054800860186, 1808.082921327514, 1611.3756463462, 1291.6734429078235, 1337.7063939328445, 1326.899794616753, 745.8203451600643, 840.894139183179, 1124.1455575474392, 794.8764270381794, 477.3388617479365, 438.6500805377998, 440.8703167693505, 291.40143778228173, 269.59147540064, 239.82699085887145, 174.99305503236766, 160.21456144452108, 159.67877283062592, 157.4661402712256, 147.48785211918744, 152.1800565813717, 248.89826182517956, 161.99789283649247, 794.8642467481943, 160.6869801177696, 123.50452780243864, 120.93103613405309, 227.29696799134248, 111.92219816300818, 124.3130035592814, 115.59000600291341, 158.24466981215858, 139.28517456879732, 102.14727220463182, 100.09466811490834, 2089.3211774832002, 1322.1526038337354, 266.05774985056195, 175.79681002593225, 434.8810015146689, 4136.027484308682, 157.9572618157824, 1970.1662294325774, 390.48532201024193, 534.2976815355617, 226.1679488042739, 540.740694574003, 238.8484234785699, 2813.4293269087507, 659.9394268031224, 17131.97541699701, 1533.9718827448246, 641.7216049125813, 649.8852100386631, 1510.007414453918, 402.77332467795117, 3645.5446482125244, 2224.6269017630098, 1285.1109726077202, 7732.124767836414, 5483.691669479581, 5581.361162578487, 6845.856309695785, 5000.820577678647, 878.3364226697057, 1550.4761036017403, 1011.777121127378, 946.9123201577614, 2745.5437419501395, 3007.814358560758, 809.3333501595143, 942.5284247812767, 1101.4749387583681, 1916.2982122831802, 2529.7167872703853, 2077.0986528832505, 1663.6735204679976, 1656.454716652052, 1171.5776247851318, 1219.7536987300132, 1101.4563439961426, 1161.8574650862367, 1109.1105391245096, 2608.612885732131, 475.3863181820433, 560.1274300717313, 206.52248095635767, 213.90631362974736, 165.17646732420675, 178.68900756168776, 4887.844247690427, 144.66771692242284, 147.69651468739366, 157.79986664224964, 148.58822075998947, 152.16207827671295, 137.88845121147398, 178.75674058926958, 127.58949147143333, 127.13499215362359, 221.10948412392557, 119.13633318110972, 119.84950997682986, 113.1798937934889, 139.6861285744384, 105.75089557529635, 417.8291459448738, 103.21574620649268, 97.17809598907483, 93.09521636078158, 91.6921182851318, 236.0238533983906, 101.76515856342323, 884.409803590341, 563.4181849386342, 668.8054550673246, 626.6424863268775, 306.3134281756743, 257.7394901505517, 237.92089801784584, 256.9654071436866, 183.0205728996014, 323.25368771822485, 276.84115188521884, 497.27044657392264, 176.60801349418804, 220.15490712369626, 224.74708407676388, 306.1098315627444, 1089.9524185108892, 1188.4586857806555, 314.9039637239714, 1205.5318121425482, 571.0681946497602, 1337.821906924859, 578.4783407634362, 807.4840433892665, 1646.7442033841191, 403.546681477842, 324.12947729382, 1051.5395048966132, 5203.637333540795, 864.2542893366885, 720.8836216684014, 1741.4218268681725, 880.0198471841801, 473.7454970560906, 1647.8247515839528, 1091.4872519738176, 634.1013757570164, 1468.8768448448286, 920.5651127078627, 1046.009309604461, 1381.6304671534722, 1209.9620108350737, 1081.2599623391473, 1604.498487206816, 1632.758602227139, 994.29760467496, 1201.3428225342511, 764.8368217256657, 969.551350692753, 1064.625342349951, 924.4465974288629, 1012.0695279426315, 9541.210524222917, 1084.0311114277013, 716.2767002245957, 1125.9048721437232, 528.8603916956318, 663.0240378561746, 374.1060673843633, 357.89767920374567, 6629.907007410262, 908.8970770434245, 303.0380393383188, 245.08545338636185, 273.78885603466085, 211.92119122736196, 209.6759455014998, 199.87162470245113, 188.99240169828397, 174.4135812344634, 168.21456263138847, 168.3635966441758, 170.76498899386843, 173.349241611193, 153.77841972729678, 228.78268723728493, 135.8568965576096, 125.63248273821324, 334.87781989739125, 379.3108209424017, 123.31371246331226, 118.91189235025672, 1545.55790306411, 157.3616988219675, 1474.9968316869, 309.163580652229, 1045.1112818787187, 268.3060490077041, 692.5996923697056, 311.22437108971036, 178.26187007281735, 257.3686254686558, 517.0523231270689, 213.176720671064, 565.628904518408, 581.5095454725534, 251.1306056545288, 694.5569127932267, 280.4151866038432, 319.2073672330418, 311.7588802651106, 382.071860933544, 282.0775054133505], \"Term\": [\"oh\", \"love\", \"get\", \"la\", \"yeah\", \"want\", \"baby\", \"na\", \"got\", \"know\", \"little\", \"man\", \"da\", \"take\", \"back\", \"nigga\", \"gotta\", \"hey\", \"god\", \"gonna\", \"ya\", \"ah\", \"lord\", \"let\", \"like\", \"dance\", \"fuck\", \"shit\", \"em\", \"heart\", \"glorious\", \"cutting\", \"vibe\", \"ribbons\", \"clowns\", \"hitch\", \"noose\", \"checkin\", \"deeply\", \"distractions\", \"untrue\", \"mummy\", \"craving\", \"files\", \"believers\", \"flyer\", \"skeletal\", \"sowing\", \"patton\", \"gasp\", \"recover\", \"bough\", \"caravan\", \"crossfire\", \"avoiding\", \"infant\", \"submission\", \"outcome\", \"intoxicated\", \"mu\", \"rumour\", \"lovin\", \"love\", \"baby\", \"worthwhile\", \"ooh\", \"babe\", \"need\", \"mm\", \"loving\", \"let\", \"darlin\", \"give\", \"tonight\", \"heart\", \"gonna\", \"lover\", \"please\", \"want\", \"wanna\", \"feel\", \"make\", \"hold\", \"girl\", \"believe\", \"touch\", \"kiss\", \"know\", \"break\", \"cry\", \"darling\", \"mine\", \"come\", \"tell\", \"oh\", \"leave\", \"right\", \"cause\", \"say\", \"go\", \"take\", \"one\", \"good\", \"way\", \"chorus\", \"like\", \"yeah\", \"got\", \"never\", \"see\", \"time\", \"pum\", \"jealousy\", \"pulsing\", \"soaring\", \"doop\", \"fin\", \"safely\", \"jazz\", \"taller\", \"invincible\", \"marble\", \"melancholy\", \"tides\", \"ron\", \"jew\", \"trading\", \"mattered\", \"deceit\", \"civilization\", \"assured\", \"jolie\", \"anew\", \"treason\", \"lemonade\", \"calmer\", \"angle\", \"devoted\", \"stalking\", \"trampled\", \"aids\", \"sleepwalkin\", \"unbroken\", \"teardrops\", \"haunted\", \"seasons\", \"fairytale\", \"differences\", \"memories\", \"goodbye\", \"shared\", \"loneliness\", \"changes\", \"lonesome\", \"paths\", \"lost\", \"rain\", \"tomorrow\", \"days\", \"falling\", \"beginning\", \"long\", \"somewhere\", \"yesterday\", \"many\", \"memory\", \"sorrow\", \"find\", \"road\", \"remember\", \"gone\", \"tears\", \"fall\", \"sunshine\", \"times\", \"time\", \"life\", \"shine\", \"still\", \"would\", \"dreams\", \"always\", \"could\", \"never\", \"wish\", \"seems\", \"help\", \"end\", \"found\", \"ever\", \"day\", \"way\", \"see\", \"away\", \"left\", \"sun\", \"eyes\", \"back\", \"one\", \"heart\", \"know\", \"us\", \"love\", \"say\", \"mind\", \"world\", \"take\", \"like\", \"keep\", \"go\", \"mic\", \"hotter\", \"armor\", \"physical\", \"jelly\", \"crank\", \"mane\", \"bun\", \"willy\", \"cello\", \"pinch\", \"linda\", \"patron\", \"repeated\", \"heals\", \"bel\", \"license\", \"preaching\", \"volume\", \"roundabout\", \"lifeline\", \"static\", \"blank\", \"wired\", \"advance\", \"status\", \"awakening\", \"14\", \"vida\", \"civilized\", \"disco\", \"cooking\", \"faithless\", \"condition\", \"cinderella\", \"support\", \"disaster\", \"enemy\", \"rainin\", \"raining\", \"hey\", \"leaders\", \"replay\", \"spendin\", \"guilty\", \"stop\", \"silly\", \"bad\", \"sticky\", \"burn\", \"mirror\", \"benz\", \"radio\", \"louder\", \"better\", \"talk\", \"music\", \"careful\", \"look\", \"getting\", \"know\", \"think\", \"already\", \"talking\", \"control\", \"sorry\", \"head\", \"around\", \"say\", \"hang\", \"like\", \"one\", \"see\", \"looking\", \"beautiful\", \"hear\", \"said\", \"turn\", \"go\", \"want\", \"face\", \"something\", \"never\", \"world\", \"everything\", \"feel\", \"cause\", \"time\", \"right\", \"get\", \"chorus\", \"got\", \"could\", \"tell\", \"way\", \"countdown\", \"teenage\", \"creepy\", \"marie\", \"bond\", \"incredible\", \"annie\", \"pawn\", \"judas\", \"risen\", \"sells\", \"repent\", \"masters\", \"boarded\", \"dank\", \"spittin\", \"gauge\", \"excess\", \"limb\", \"swine\", \"tradition\", \"denver\", \"stripper\", \"footprints\", \"ranks\", \"tay\", \"dedication\", \"idol\", \"needin\", \"luxury\", \"disguises\", \"hopelessly\", \"orchids\", \"outlaw\", \"bastards\", \"bicycle\", \"halloween\", \"moonshine\", \"stupidly\", \"haa\", \"nuts\", \"billy\", \"mask\", \"material\", \"bang\", \"jokes\", \"law\", \"ghetto\", \"damned\", \"lady\", \"trigger\", \"man\", \"guts\", \"22\", \"tax\", \"hell\", \"lil\", \"hollywood\", \"hi\", \"singer\", \"drink\", \"luck\", \"sir\", \"wife\", \"likes\", \"home\", \"wants\", \"well\", \"poison\", \"evil\", \"family\", \"crime\", \"nobody\", \"drunk\", \"knows\", \"pay\", \"brother\", \"woman\", \"shot\", \"says\", \"black\", \"people\", \"old\", \"going\", \"like\", \"done\", \"got\", \"another\", \"said\", \"young\", \"one\", \"fight\", \"life\", \"right\", \"good\", \"made\", \"never\", \"make\", \"back\", \"see\", \"know\", \"time\", \"think\", \"get\", \"tell\", \"come\", \"niggas\", \"bitches\", \"hoes\", \"tang\", \"nigga\", \"pussy\", \"gangsta\", \"yang\", \"ballin\", \"dro\", \"bullshit\", \"wit\", \"killa\", \"dick\", \"homie\", \"dogg\", \"haters\", \"tryna\", \"shawty\", \"motherfucking\", \"homies\", \"niggaz\", \"snoop\", \"playa\", \"glock\", \"hittas\", \"freaky\", \"booty\", \"funk\", \"lambo\", \"bitch\", \"fuck\", \"shit\", \"ro\", \"dem\", \"rap\", \"p\", \"motherfuckers\", \"ass\", \"hood\", \"hoe\", \"em\", \"yo\", \"pop\", \"weed\", \"rock\", \"gon\", \"wu\", \"hook\", \"roll\", \"ya\", \"n\", \"bust\", \"block\", \"money\", \"g\", \"fuckin\", \"party\", \"club\", \"bout\", \"shake\", \"hit\", \"drop\", \"got\", \"like\", \"big\", \"get\", \"hot\", \"cause\", \"wanna\", \"go\", \"baby\", \"gonna\", \"put\", \"make\", \"back\", \"let\", \"chorus\", \"keep\", \"know\", \"come\", \"yeah\", \"girl\", \"see\", \"jesse\", \"sally\", \"neva\", \"hyde\", \"disciples\", \"runaway\", \"bluebird\", \"empire\", \"hunter\", \"getcha\", \"flick\", \"telescope\", \"daydream\", \"aggravation\", \"gripping\", \"thump\", \"trails\", \"scarecrow\", \"humans\", \"salome\", \"tuff\", \"wag\", \"bottoms\", \"claws\", \"dissolve\", \"stacked\", \"railway\", \"angie\", \"mossy\", \"fleece\", \"monster\", \"priest\", \"warrior\", \"gambler\", \"susan\", \"metal\", \"spider\", \"bye\", \"eagle\", \"stained\", \"wires\", \"dance\", \"dancing\", \"flies\", \"notes\", \"dust\", \"deadly\", \"burning\", \"beast\", \"moon\", \"fly\", \"death\", \"underground\", \"ghost\", \"garden\", \"run\", \"ashes\", \"fire\", \"flying\", \"bird\", \"wings\", \"light\", \"red\", \"sky\", \"dead\", \"magic\", \"calling\", \"sun\", \"night\", \"blood\", \"alive\", \"angels\", \"darkness\", \"come\", \"save\", \"black\", \"dream\", \"away\", \"across\", \"us\", \"coming\", \"eyes\", \"open\", \"hear\", \"like\", \"go\", \"bring\", \"see\", \"soul\", \"inside\", \"one\", \"back\", \"reign\", \"whip\", \"fox\", \"judgment\", \"sheena\", \"sean\", \"thy\", \"praise\", \"skeleton\", \"wavin\", \"clan\", \"lala\", \"alter\", \"majesty\", \"revival\", \"atm\", \"shoop\", \"israel\", \"shuffle\", \"collide\", \"reigns\", \"unh\", \"proclaim\", \"toughest\", \"causing\", \"dum\", \"chariot\", \"waterfall\", \"sticking\", \"surrounding\", \"holy\", \"nations\", \"worship\", \"reaper\", \"babylon\", \"savior\", \"jean\", \"claus\", \"woh\", \"lord\", \"glory\", \"christ\", \"jesus\", \"america\", \"sword\", \"spiritual\", \"sons\", \"whoa\", \"god\", \"bless\", \"oh\", \"peace\", \"freedom\", \"father\", \"grace\", \"power\", \"king\", \"yeah\", \"mercy\", \"kill\", \"sing\", \"born\", \"heaven\", \"knock\", \"joy\", \"free\", \"daddy\", \"mother\", \"blood\", \"son\", \"uh\", \"hands\", \"world\", \"name\", \"soul\", \"earth\", \"let\", \"got\", \"us\", \"life\", \"like\", \"thang\", \"motherfucker\", \"doo\", \"eh\", \"bimbo\", \"mc\", \"motherfuckin\", \"wa\", \"dit\", \"wah\", \"mony\", \"du\", \"unit\", \"daniel\", \"pad\", \"tony\", \"hah\", \"mack\", \"tha\", \"yall\", \"jo\", \"dada\", \"julie\", \"domingo\", \"wearin\", \"sucking\", \"breakdown\", \"ch\", \"altar\", \"shits\", \"c\", \"mon\", \"yup\", \"lisa\", \"ow\", \"ah\", \"oooo\", \"ha\", \"pump\", \"fever\", \"thugs\", \"ta\", \"steppin\", \"alright\", \"doctor\", \"get\", \"comin\", \"outta\", \"j\", \"goin\", \"ooo\", \"gotta\", \"round\", \"mama\", \"want\", \"back\", \"take\", \"got\", \"yeah\", \"lookin\", \"blue\", \"car\", \"drive\", \"gonna\", \"way\", \"feelin\", \"slow\", \"mean\", \"cause\", \"know\", \"go\", \"right\", \"time\", \"really\", \"well\", \"around\", \"baby\", \"make\", \"christmas\", \"jingle\", \"ra\", \"poke\", \"sleigh\", \"ohohoh\", \"che\", \"da\", \"coma\", \"culture\", \"oklahoma\", \"mistletoe\", \"presents\", \"doe\", \"indian\", \"deeds\", \"northern\", \"immortal\", \"gunna\", \"awe\", \"sarah\", \"soil\", \"idle\", \"rocker\", \"bungalow\", \"chief\", \"snowing\", \"german\", \"ling\", \"holly\", \"bells\", \"merry\", \"santa\", \"fa\", \"dee\", \"molly\", \"nigel\", \"eve\", \"maintain\", \"mississippi\", \"jah\", \"holiday\", \"naah\", \"bowl\", \"san\", \"fiddle\", \"mary\", \"snow\", \"ding\", \"tree\", \"horse\", \"year\", \"johnny\", \"brown\", \"river\", \"london\", \"birthday\", \"ring\", \"little\", \"country\", \"ho\", \"happy\", \"green\", \"california\", \"town\", \"white\", \"e\", \"boy\", \"land\", \"city\", \"old\", \"sweet\", \"big\", \"day\", \"go\", \"new\", \"man\", \"pretty\", \"hear\", \"like\", \"said\", \"one\", \"la\", \"di\", \"sa\", \"mi\", \"ang\", \"ay\", \"ako\", \"ka\", \"na\", \"ba\", \"ng\", \"sha\", \"ko\", \"bah\", \"tra\", \"classics\", \"yi\", \"ai\", \"jolene\", \"kung\", \"dah\", \"gloria\", \"ikaw\", \"tu\", \"millennium\", \"manic\", \"nana\", \"ee\", \"starter\", \"poppa\", \"boom\", \"les\", \"de\", \"deh\", \"gimme\", \"weh\", \"pa\", \"nuh\", \"que\", \"le\", \"hallelujah\", \"bananas\", \"monday\", \"mo\", \"yuh\", \"hello\", \"boogie\", \"monkey\", \"joe\", \"war\", \"man\"], \"Total\": [46567.0, 79610.0, 37147.0, 9549.0, 27539.0, 37332.0, 32971.0, 6649.0, 40097.0, 63511.0, 15934.0, 20818.0, 4914.0, 27083.0, 24567.0, 5683.0, 8943.0, 10249.0, 6892.0, 23438.0, 6905.0, 4616.0, 4972.0, 33560.0, 52055.0, 6027.0, 4327.0, 4355.0, 4876.0, 22796.0, 268.3366847772452, 198.1417437787783, 189.09399352377508, 171.11683585665799, 163.9945132754735, 129.0326346350438, 123.05007145854584, 113.01335479669461, 91.51809687076084, 89.54521699252152, 202.9903474222882, 83.66297531375174, 82.40738998324916, 77.51253067865245, 73.06702263301445, 72.77517136434645, 70.70548362924268, 69.63574030044393, 106.14445628405373, 67.15613390708316, 67.64447839930789, 64.75930852831988, 63.255255460555205, 61.382929226505745, 59.721846912709765, 59.89393602968091, 58.518906463165116, 57.69092305385356, 53.24508425226693, 58.898723718438845, 61.935845850644014, 2731.0139210223915, 79610.85864812112, 32971.76283838475, 74.56176225810752, 7549.535940841, 2515.2860285493625, 20146.600904526123, 350.0180674137984, 3039.1712168074723, 33560.14849024919, 998.6537858502456, 16436.332342813803, 9535.391370657071, 22796.069389999702, 23438.46788645757, 2102.822496913495, 7582.380671289577, 37332.091599938285, 10796.238553069907, 22874.920265746645, 26019.0903428935, 11149.2827312286, 14564.918284130017, 10059.007086395919, 4476.766935233433, 4103.776499239739, 63511.61429802037, 6154.616246556195, 7676.542477824042, 2131.1372481510734, 7306.589749644283, 29876.227345325453, 19146.207513079775, 46567.33964319494, 9606.546391403535, 21468.621774892177, 25721.36284932963, 28620.619887287863, 35710.69341292538, 27083.125030665706, 40208.23630028941, 17095.597069026127, 29429.85567544196, 19438.522910101306, 52055.719303442944, 27539.217683426472, 40097.17754914834, 33089.72434550443, 37422.55526043618, 37941.80250714238, 457.1505713915927, 304.3752370595214, 198.8306118163554, 152.27487752857905, 140.86272324573923, 120.82747080046042, 113.05048341580115, 107.76185357252288, 112.2961961955237, 110.38952451331956, 91.12581540264364, 99.38449725503821, 110.31832285819291, 112.22162604660954, 84.53566621875476, 74.6609073489455, 79.88319559713156, 74.51238449884222, 72.79766591593423, 85.23392960590506, 70.29822062117452, 76.33651844135463, 67.27928174455609, 67.03352674433714, 121.4615436887869, 65.08738334669748, 93.72724405315097, 61.70506316322593, 56.71879258357597, 56.6982825473796, 102.64764950813046, 116.26630254541017, 215.17712705359722, 179.7711991546824, 306.7907356708102, 134.07245676147673, 92.61516737846081, 1591.7864994631213, 3805.831334804968, 394.9354862548503, 468.8990372926548, 597.6572398036335, 595.6305818379593, 225.38308384515548, 6796.782775049101, 5399.652850304528, 2869.2349826495897, 5931.49458341207, 3671.51480547081, 932.6789564450936, 15237.446544678385, 2352.270500642313, 1338.878178999588, 5676.785341574157, 1257.6076597009521, 976.9535919575449, 14131.605715448692, 4631.987539866461, 6442.031941345589, 10769.224424849837, 4024.5370447652504, 7054.330947577306, 1262.1178640280048, 4947.197911108084, 37941.80250714238, 24892.88376452238, 3684.2031691972343, 14942.72931447079, 13934.567696654804, 5555.387781293886, 11783.506088684722, 19170.956723590294, 33089.72434550443, 5032.278310547777, 3458.529130432503, 4886.896269551699, 6470.530738185008, 5326.761667336414, 12896.654304874966, 20965.466499854017, 29429.85567544196, 37422.55526043618, 22210.755025585848, 8134.557290758464, 7459.828740581699, 15287.221800791329, 24567.712645974494, 40208.23630028941, 22796.069389999702, 63511.61429802037, 13854.537853697982, 79610.85864812112, 28620.619887287863, 13370.671134458868, 17777.241024255705, 27083.125030665706, 52055.719303442944, 14287.445394653374, 35710.69341292538, 434.22017466662834, 184.7616167891923, 137.2844990860691, 171.19846978656588, 135.61700665050606, 127.5610030567113, 115.87020717490329, 111.44113179721761, 124.15776837584896, 164.05621256239684, 109.29933205687492, 188.78512674023474, 97.45874672974742, 96.08390735429712, 89.33351355711781, 90.74848673465719, 89.38376108323075, 121.70073885839687, 87.27172300093778, 123.38737510759162, 85.0933061104668, 115.39872458563654, 136.60739035403765, 78.9454852024903, 76.45807586267122, 78.56207989934117, 73.29433377080713, 73.40249936132915, 72.51887438601098, 71.22056379538805, 344.8416396547743, 135.11539120920105, 118.95933450180185, 138.32628812227256, 114.54344742008581, 135.11803693768363, 155.40786819449858, 681.0169615916521, 107.86854468938877, 341.4742803673932, 10249.504490665848, 115.5630854804114, 131.88824032289727, 166.5415082116632, 589.1704724572894, 7512.419482720865, 345.25767955872783, 6340.870646762155, 324.9011822975848, 2650.2671292825144, 1142.341770969304, 277.2673568911706, 1196.8528585681172, 362.8859510802939, 9948.29348381061, 5014.985683419006, 3493.549043589699, 322.2898551763877, 13602.73791004498, 3965.7020430129637, 63511.61429802037, 15738.436306470892, 1275.484739303209, 2184.711473762593, 2431.6484098647115, 1622.4107021370792, 8685.221956264055, 14319.030377064593, 28620.619887287863, 1803.855320975804, 52055.719303442944, 40208.23630028941, 37422.55526043618, 6147.900116627125, 2571.904653296584, 11388.259282671113, 14519.005898114405, 8785.428447106171, 35710.69341292538, 37332.091599938285, 8470.103055122729, 9688.016442759814, 33089.72434550443, 17777.241024255705, 9696.38356987577, 22874.920265746645, 25721.36284932963, 37941.80250714238, 21468.621774892177, 37147.72569733747, 19438.522910101306, 40097.17754914834, 19170.956723590294, 19146.207513079775, 29429.85567544196, 249.21556604766238, 221.49170314238904, 215.5377040415328, 183.4331235706929, 149.63315751937805, 141.7426072753891, 191.04884096899931, 133.48367446864398, 121.31247808726224, 120.98531904959817, 113.35844474257622, 112.30847524963357, 108.40379671210518, 113.41029053971641, 210.41924334987002, 132.25797521277605, 101.59543767467187, 95.63972921855874, 109.54184314789319, 99.29621057258142, 84.49374547077043, 95.91635722280324, 107.91156238011443, 82.79812203202133, 83.5675941968036, 82.67353118453757, 81.62483770030437, 78.84874490156545, 75.02652359986581, 75.5493398834383, 117.47386355230475, 110.97840198120142, 104.40351249979688, 249.15506066194024, 112.705716070644, 137.6594816353476, 100.5025559863125, 101.56623919310633, 139.79549670557603, 129.9149162929468, 266.9127577408258, 375.64503062142217, 289.1164377646915, 157.1737591919201, 1384.780479664057, 367.79954240337185, 938.68121301163, 676.159379851079, 319.6007376597872, 2246.1785012287555, 327.675232064887, 20818.522517260597, 185.7122962336917, 291.4879321144358, 258.383003270759, 3848.581633194604, 1035.7162643271822, 456.0606996947455, 558.3629452099045, 236.87993304318692, 2315.603475452248, 1139.4373448027563, 574.0156100471534, 1062.7583783200455, 483.654387711954, 12672.828481111264, 2201.4583939547015, 14595.976114195331, 447.07185707635125, 1127.4989995199687, 1329.371456478424, 1013.6651658942109, 4263.850247970841, 788.4378600939081, 4118.683280378394, 2527.6597980007755, 1698.8066149834424, 5072.742986038017, 1605.9025331412017, 2594.9299645149076, 4483.198602047497, 8342.550395693686, 8366.500848494421, 8070.676285557551, 52055.719303442944, 5912.393048824928, 40097.17754914834, 8286.951669819211, 14519.005898114405, 4679.895729426276, 40208.23630028941, 4955.707415190986, 24892.88376452238, 21468.621774892177, 17095.597069026127, 8047.105389105819, 33089.72434550443, 26019.0903428935, 24567.712645974494, 37422.55526043618, 63511.61429802037, 37941.80250714238, 15738.436306470892, 37147.72569733747, 19146.207513079775, 29876.227345325453, 3183.084434637273, 961.2108954538484, 946.0420621893087, 660.5644700524053, 5683.212812052297, 645.9706747229897, 490.76372655615546, 382.5437442341848, 329.8431699449114, 327.5585723020199, 266.7631284070242, 1717.8343463021954, 269.8870572450008, 765.9310327214639, 454.5487295526828, 357.3050741883636, 334.3606444590317, 363.61534289312004, 337.82808502946705, 303.59627459972677, 205.94621191877587, 1017.7085377900322, 397.7187037214598, 225.52050659199196, 189.76165708293044, 194.77429124229687, 167.32273239503934, 217.98241513047523, 219.57015053634973, 153.26012548813833, 3210.5213040904123, 4327.988827881805, 4355.466493542725, 774.6539035672056, 550.5358392722632, 619.1809318377856, 647.0750305604876, 326.3126425280923, 2146.931304489632, 643.2420957409556, 508.0652057448726, 4876.827774359667, 3253.2225553565945, 833.3808209014468, 725.3708579620552, 3591.7784373254153, 1565.8156891501412, 853.1389774047456, 891.0014041443876, 2978.8683190000584, 6905.573994718059, 1676.5362954638572, 950.5828037691327, 995.6574399394239, 5859.177090439352, 1329.1092658185544, 922.7117045502074, 2195.4851020765473, 1227.7170868505996, 2832.414733040475, 2463.5003159907264, 3409.653665131078, 1849.7880480743931, 40097.17754914834, 52055.719303442944, 5717.798956182267, 37147.72569733747, 2703.539160163308, 25721.36284932963, 10796.238553069907, 35710.69341292538, 32971.76283838475, 23438.46788645757, 7764.749332117238, 26019.0903428935, 24567.712645974494, 33560.14849024919, 19438.522910101306, 14287.445394653374, 63511.61429802037, 29876.227345325453, 27539.217683426472, 14564.918284130017, 37422.55526043618, 322.9941104853304, 287.1107771589063, 213.30255281124073, 198.37241770450876, 180.13282330821028, 270.91997887702195, 128.7558899561951, 122.6241659578938, 124.35466738404973, 115.63649529272293, 107.21115885382324, 110.24719230695435, 119.39579991526017, 94.15581358054786, 89.75670242738421, 89.73223657567951, 98.21377981561172, 119.67267950107735, 82.40349763429609, 91.22784444175075, 81.64337522760849, 83.93837760123635, 79.48320074562886, 118.59748634182309, 81.6226477472722, 75.84532046041429, 76.47964550563292, 78.32758376553795, 75.9532502798599, 74.04295634835903, 264.5808057493153, 177.89792680630808, 165.79019667650277, 118.27944328738387, 80.56797704974294, 786.4497413514597, 215.00226729792215, 1389.5556194935132, 272.92299486721566, 121.47082682149023, 103.69049621063584, 6027.837191235325, 2064.7678630722958, 390.5574977957583, 165.5566064818759, 1092.5426531833473, 309.0540503786139, 2525.028263745193, 498.9786430156889, 3318.0330889060556, 4824.88411165384, 2910.6682457935603, 523.8643279107364, 846.6592123592206, 603.2597557629247, 8425.640382944106, 369.8989322676419, 5659.769497510359, 1109.5149939949308, 846.9825603426815, 1314.8985213963701, 8795.510873612036, 3135.237221896069, 5615.092776738695, 3951.369984411817, 2251.2629257884787, 2470.064767074676, 7459.828740581699, 19818.693178554393, 3651.1947020838497, 3688.1436634486886, 1584.3823618370866, 1513.6725530412825, 29876.227345325453, 2843.151999105579, 4483.198602047497, 7258.515733293844, 22210.755025585848, 2131.7422929149484, 13854.537853697982, 5574.451611707938, 15287.221800791329, 5004.032600782771, 11388.259282671113, 52055.719303442944, 35710.69341292538, 5483.117063039686, 37422.55526043618, 6486.381810586022, 8331.063064699985, 40208.23630028941, 24567.712645974494, 424.6457624642916, 256.5507161891878, 224.25276873678553, 161.8130422508758, 157.11749476758408, 172.6548532300059, 346.9732425877505, 867.6833850349927, 129.00420690624722, 151.47444256788364, 111.83316197268655, 106.10887510741898, 106.05628878118047, 132.25243915869865, 105.03714769699724, 124.14665808226042, 117.50840469156662, 131.87655789155184, 196.47055428739495, 119.64732425100583, 95.11297490177037, 107.19794365494161, 87.58715198766252, 114.06139043166648, 82.014436202276, 181.62911191550802, 81.38994779198003, 81.33665685991147, 97.17507025758206, 77.42698237804933, 1627.2185535037124, 188.25574180948604, 479.4296868682524, 128.65782329798438, 242.71185297844562, 420.2980422868862, 192.81116838575943, 256.01021890988386, 148.56327945466617, 4972.373379325286, 1312.6368844798212, 741.2205088035192, 2186.366589705928, 710.6497329173824, 409.7532244356474, 187.59766046838388, 278.18141023447316, 3222.241583359915, 6892.042470116736, 555.3650952822896, 46567.33964319494, 2689.0469441234154, 1628.7649450346846, 1891.1972984391173, 1125.4533465183165, 2840.5608544892716, 2653.3944618858873, 27539.217683426472, 953.6450141579675, 2775.0114120086646, 5620.0906843103285, 3197.400620595791, 4467.490689813335, 958.1660349043079, 1866.6772068009261, 7339.063774688574, 3158.07165989338, 2543.6947908325333, 3651.1947020838497, 2670.4173997117564, 2508.859695430357, 4526.062563902153, 17777.241024255705, 6459.595296694917, 6486.381810586022, 2397.714701173207, 33560.14849024919, 40097.17754914834, 13854.537853697982, 24892.88376452238, 52055.719303442944, 746.764426830365, 841.9883563756504, 1125.8248200616115, 796.6349488650391, 478.48086130725414, 439.78092191415885, 442.01259616755266, 292.2435377110318, 270.47466591503604, 240.71398038057092, 175.8282709049003, 161.04861664843696, 160.51080529436123, 158.29579476532209, 148.3172516307612, 153.05891791261527, 250.338853370131, 162.9816233822826, 799.7547796515635, 161.7400957200247, 124.3364576677125, 121.77762365570571, 228.95628004156805, 112.77807068068213, 125.2873289538845, 116.50478576252577, 159.54640312413704, 140.43673589429355, 102.9974257370302, 100.93484153519532, 2125.9422210154753, 1352.587125627662, 269.80418420777295, 178.30827246697896, 452.44483811848886, 4616.090037184798, 160.59390436766444, 2263.7826253527683, 414.5879106331796, 583.8720888178524, 235.1993266882535, 607.0455767040511, 252.1621484747491, 4288.611474281473, 833.8819639810736, 37147.72569733747, 2260.0841948129896, 847.7926585864266, 877.8028656569386, 2591.2790991742054, 494.85212695639393, 8943.504158799902, 5589.2498365707115, 2658.6472052335266, 37332.091599938285, 24567.712645974494, 27083.125030665706, 40097.17754914834, 27539.217683426472, 1729.0725603802532, 5547.9690713995615, 2461.8136451922473, 2149.6142133662283, 23438.46788645757, 29429.85567544196, 1623.1225543049293, 2555.728957490958, 4275.469016677918, 25721.36284932963, 63511.61429802037, 35710.69341292538, 21468.621774892177, 37941.80250714238, 9990.662438117188, 14595.976114195331, 14319.030377064593, 32971.76283838475, 26019.0903428935, 2612.4363328119143, 476.3217446445957, 561.457194952723, 207.33634246699773, 214.86862543487536, 165.99904486102244, 179.6367694384198, 4914.72429181484, 145.48226770761946, 148.54965276001542, 158.7143056436063, 149.46403300072683, 153.0934393129904, 138.7388893538588, 179.866761113693, 128.40318447534528, 127.99139914298337, 222.60052036941104, 119.95374845671721, 120.71451351955754, 114.02132076852902, 140.74195392852621, 106.56638391220892, 421.1123152919419, 104.03729120336699, 98.01370337208543, 93.918123641741, 92.50693721159595, 238.16181299430028, 102.69266390611195, 895.4449240457108, 568.8076562028156, 676.462542248391, 636.0324173467176, 309.3390327252342, 260.64328572884466, 240.48095289505991, 260.2687306700734, 185.72569599349922, 332.38068956256984, 283.62399457905974, 523.2365519727596, 179.38502965700934, 225.81393139785297, 232.14226473030146, 324.4727970653689, 1306.0892062100168, 1449.5495284747317, 340.5059359330733, 1527.2606225043562, 694.5822160606873, 1925.3856419898534, 716.3771042596092, 1112.559848863038, 2747.3714757977987, 478.340800507422, 369.31901693081426, 1795.037560154935, 15934.963417704212, 1411.4960030235695, 1133.2560841598086, 4138.1337790330535, 1727.4333643438108, 663.2938764726193, 5109.771461573396, 3029.804189202105, 1212.2463391843035, 6518.011056918482, 2707.71933851506, 3963.409980250283, 8366.500848494421, 6230.3831020110965, 5717.798956182267, 20965.466499854017, 35710.69341292538, 8135.119740092458, 20818.522517260597, 2986.1089861804157, 11388.259282671113, 52055.719303442944, 14519.005898114405, 40208.23630028941, 9549.164332408884, 1085.452233001759, 717.2986606176772, 1127.797529814195, 529.8287734177165, 664.342204964772, 374.97136505658216, 358.80342236745275, 6649.023120011784, 911.9607799237859, 304.0807329275524, 245.95362679260552, 274.761966361033, 212.80932284405836, 210.59343773262526, 200.75327768866194, 189.82847751760696, 175.24979702841114, 169.04876921982768, 169.20897159638136, 171.64654740222673, 174.2995314322309, 154.64273647034236, 230.1239835972353, 136.72300691113972, 126.45910391389904, 337.09823689036585, 381.83443697459944, 124.14994720103346, 119.73959302026233, 1560.2614519507408, 158.73233815083262, 1558.129545394561, 316.34938909782545, 1103.8795990255587, 275.9781484198134, 754.6471444851675, 336.80646892646337, 180.5334192586018, 279.98709430733857, 667.9438446670551, 224.4232159700974, 756.3096659964853, 867.5449550563463, 282.9784702759892, 1336.401081905416, 338.45440696491903, 511.72816690714285, 668.6726867188488, 2538.512688028092, 20818.522517260597], \"loglift\": [30.0, 29.0, 28.0, 27.0, 26.0, 25.0, 24.0, 23.0, 22.0, 21.0, 20.0, 19.0, 18.0, 17.0, 16.0, 15.0, 14.0, 13.0, 12.0, 11.0, 10.0, 9.0, 8.0, 7.0, 6.0, 5.0, 4.0, 3.0, 2.0, 1.0, 1.5374, 1.5363, 1.5361, 1.5356, 1.5353, 1.534, 1.5338, 1.5332, 1.5312, 1.5312, 1.5312, 1.5306, 1.5304, 1.5298, 1.5292, 1.5291, 1.5287, 1.5286, 1.5283, 1.5282, 1.5282, 1.5278, 1.5275, 1.5271, 1.5267, 1.5267, 1.5264, 1.5262, 1.5249, 1.5248, 1.5248, 1.4705, 1.3603, 1.3654, 1.5175, 1.3299, 1.3591, 1.2068, 1.4353, 1.297, 1.1474, 1.357, 1.1426, 1.171, 1.0635, 1.0411, 1.2365, 1.1205, 0.9698, 1.0725, 0.9958, 0.9642, 1.0443, 1.0077, 1.0301, 1.0921, 1.0922, 0.6839, 1.0133, 0.9738, 1.1611, 0.9446, 0.6977, 0.773, 0.5652, 0.8855, 0.7068, 0.6318, 0.5721, 0.4963, 0.539, 0.3674, 0.6712, 0.4154, 0.5749, 0.0943, 0.4052, 0.1904, 0.2301, 0.0937, 0.0612, 1.604, 1.603, 1.6016, 1.6004, 1.5999, 1.5989, 1.5985, 1.5982, 1.5981, 1.5977, 1.5967, 1.5967, 1.5967, 1.5961, 1.5961, 1.5948, 1.5946, 1.5945, 1.5945, 1.5939, 1.5936, 1.5936, 1.5936, 1.5935, 1.5927, 1.5926, 1.5924, 1.5924, 1.5912, 1.5911, 1.5909, 1.5854, 1.5723, 1.5753, 1.5582, 1.5745, 1.5845, 1.4638, 1.4119, 1.5179, 1.5036, 1.4866, 1.4613, 1.5269, 1.2858, 1.2961, 1.3448, 1.2509, 1.2877, 1.4019, 1.1309, 1.3089, 1.3628, 1.2168, 1.367, 1.3908, 1.1102, 1.2178, 1.1802, 1.1197, 1.2218, 1.1455, 1.347, 1.1672, 0.8941, 0.9358, 1.1979, 0.9812, 0.9902, 1.1264, 1.0042, 0.9137, 0.7869, 1.1015, 1.1652, 1.0943, 1.0326, 1.0744, 0.8654, 0.7252, 0.5853, 0.4522, 0.5878, 0.9255, 0.9449, 0.6393, 0.3936, 0.1548, 0.4101, -0.2192, 0.5912, -0.4746, 0.1341, 0.5993, 0.3936, 0.0392, -0.5172, 0.5249, -0.3093, 2.211, 2.2091, 2.2075, 2.207, 2.2069, 2.2066, 2.2063, 2.2061, 2.2059, 2.2059, 2.2059, 2.2057, 2.205, 2.2049, 2.2043, 2.2042, 2.2042, 2.2041, 2.204, 2.204, 2.2038, 2.2035, 2.2029, 2.2028, 2.2025, 2.2023, 2.2021, 2.202, 2.2019, 2.2019, 2.1935, 2.2018, 2.2018, 2.1996, 2.2011, 2.1988, 2.1972, 2.1797, 2.1965, 2.1455, 1.9226, 2.1883, 2.1761, 2.152, 2.0003, 1.6528, 2.0526, 1.6475, 2.054, 1.7373, 1.8556, 2.0706, 1.8201, 2.0197, 1.404, 1.5297, 1.5623, 2.0234, 1.2697, 1.4996, 0.8958, 1.1632, 1.698, 1.5683, 1.5367, 1.624, 1.2011, 1.0572, 0.7942, 1.5647, 0.5697, 0.621, 0.6356, 1.1759, 1.4389, 0.9011, 0.7547, 0.9462, 0.3831, 0.3636, 0.938, 0.8692, 0.3255, 0.5975, 0.8602, 0.3461, 0.2678, 0.0248, 0.3465, -0.0107, 0.3923, -0.1749, 0.3281, 0.3207, -0.1786, 2.2294, 2.2292, 2.2291, 2.2277, 2.2274, 2.2271, 2.2267, 2.2267, 2.2261, 2.2259, 2.2256, 2.2252, 2.2252, 2.225, 2.2248, 2.2246, 2.2243, 2.2242, 2.2234, 2.2232, 2.2231, 2.223, 2.2229, 2.2229, 2.2228, 2.2228, 2.2227, 2.2219, 2.2218, 2.2216, 2.2214, 2.2213, 2.2203, 2.2099, 2.2187, 2.2143, 2.2206, 2.2199, 2.2134, 2.2132, 2.1852, 2.1664, 2.177, 2.2039, 2.0798, 2.1559, 2.0606, 2.0849, 2.1289, 1.9344, 2.1207, 1.6986, 2.174, 2.1189, 2.1334, 1.8057, 1.9663, 2.0609, 2.0271, 2.1434, 1.815, 1.8979, 2.0045, 1.8958, 2.0245, 1.4497, 1.7619, 1.3276, 2.0321, 1.8215, 1.7831, 1.8424, 1.4594, 1.8852, 1.4213, 1.5322, 1.6446, 1.2903, 1.6437, 1.4829, 1.3059, 1.0562, 1.0326, 1.0308, 0.3402, 1.0989, 0.3225, 0.9338, 0.6529, 1.1598, -0.0462, 1.0355, 0.1079, 0.1804, 0.2939, 0.6577, -0.2849, -0.2013, -0.2649, -0.637, -1.0999, -0.6758, 0.0653, -0.7507, -0.1754, -0.6112, 2.3928, 2.3926, 2.3921, 2.3921, 2.3921, 2.3916, 2.3916, 2.3913, 2.3909, 2.3904, 2.3903, 2.3902, 2.3902, 2.3899, 2.3898, 2.3895, 2.3895, 2.3894, 2.3894, 2.3892, 2.3892, 2.3891, 2.389, 2.3887, 2.3887, 2.3886, 2.3882, 2.3882, 2.3877, 2.3877, 2.3874, 2.3824, 2.3727, 2.3824, 2.3852, 2.3822, 2.3815, 2.387, 2.3651, 2.3791, 2.38, 2.3245, 2.3277, 2.367, 2.3668, 2.3157, 2.333, 2.3537, 2.3432, 2.2508, 2.1826, 2.261, 2.315, 2.3043, 2.0377, 2.2545, 2.3149, 2.1139, 2.2254, 1.9724, 1.9942, 1.8279, 2.0526, 0.8212, 0.6622, 1.4939, 0.5896, 1.7782, 0.445, 0.9218, 0.1236, 0.1183, 0.3112, 1.0429, 0.1668, 0.2007, -0.0514, 0.3328, 0.5675, -0.6959, -0.0669, -0.0535, 0.4931, -0.4259, 2.4408, 2.4406, 2.4396, 2.4393, 2.4385, 2.4378, 2.4371, 2.4365, 2.4364, 2.4363, 2.4358, 2.4356, 2.4356, 2.4347, 2.4342, 2.4338, 2.4334, 2.4334, 2.4333, 2.4333, 2.4333, 2.4331, 2.433, 2.4328, 2.4326, 2.4325, 2.4324, 2.4323, 2.4321, 2.432, 2.4293, 2.4273, 2.418, 2.4246, 2.4318, 2.3737, 2.4081, 2.3485, 2.379, 2.4162, 2.4229, 2.2148, 2.2448, 2.326, 2.3896, 2.2301, 2.335, 2.1455, 2.2863, 2.0382, 1.9611, 2.0227, 2.2251, 2.1575, 2.2048, 1.8073, 2.272, 1.792, 2.0604, 2.097, 1.9846, 1.534, 1.7605, 1.5821, 1.6698, 1.8136, 1.7819, 1.3787, 1.0097, 1.551, 1.5469, 1.836, 1.8468, 0.7056, 1.601, 1.4222, 1.2232, 0.7642, 1.6891, 0.72, 1.1929, 0.594, 1.2114, 0.7127, -0.4332, -0.1785, 1.1117, -0.4408, 0.9752, 0.7631, -0.6947, -0.2646, 2.7884, 2.7871, 2.7862, 2.7852, 2.785, 2.7848, 2.7842, 2.7836, 2.7832, 2.783, 2.7829, 2.7825, 2.7825, 2.7825, 2.7823, 2.7822, 2.7822, 2.7821, 2.7821, 2.7818, 2.7815, 2.781, 2.7808, 2.7803, 2.7802, 2.7802, 2.7801, 2.78, 2.7798, 2.7795, 2.7599, 2.7793, 2.7507, 2.7751, 2.7612, 2.7439, 2.7578, 2.743, 2.7662, 2.5778, 2.641, 2.6694, 2.5877, 2.6511, 2.6875, 2.7465, 2.712, 2.473, 2.3743, 2.6265, 2.1304, 2.3466, 2.4047, 2.3526, 2.446, 2.2425, 2.2527, 1.7452, 2.4442, 2.1995, 2.0243, 2.1393, 1.9939, 2.3673, 2.1657, 1.6826, 1.9637, 2.0142, 1.8541, 1.9498, 1.9656, 1.6439, 0.9383, 1.4528, 1.3257, 1.8877, -0.1307, -0.4238, 0.4177, -0.1332, -0.8791, 2.8252, 2.8251, 2.8249, 2.8242, 2.824, 2.8239, 2.8238, 2.8235, 2.8232, 2.8227, 2.8217, 2.8212, 2.8212, 2.8212, 2.8208, 2.8207, 2.8207, 2.8204, 2.8203, 2.8199, 2.8197, 2.8195, 2.8192, 2.8188, 2.8186, 2.8185, 2.8182, 2.8182, 2.8181, 2.8181, 2.8091, 2.8037, 2.8124, 2.8122, 2.7868, 2.7166, 2.8099, 2.6875, 2.7665, 2.7377, 2.7873, 2.7108, 2.7722, 2.4049, 2.5925, 2.0525, 2.4389, 2.5479, 2.5258, 2.2864, 2.6205, 1.929, 1.9052, 2.0995, 1.252, 1.3268, 1.2469, 1.0588, 1.1204, 2.1491, 1.5516, 1.9372, 2.0066, 0.682, 0.5456, 2.1305, 1.8289, 1.4702, 0.2295, -0.3967, -0.0181, 0.2689, -0.3049, 0.6831, 0.3443, 0.2615, -0.5192, -0.3288, 2.9892, 2.9887, 2.9883, 2.9867, 2.9861, 2.9857, 2.9853, 2.9851, 2.985, 2.9849, 2.9849, 2.9848, 2.9845, 2.9845, 2.9844, 2.9843, 2.9839, 2.9839, 2.9838, 2.9834, 2.9832, 2.9831, 2.983, 2.9828, 2.9827, 2.9821, 2.9818, 2.9818, 2.9816, 2.9816, 2.9782, 2.9811, 2.9792, 2.9758, 2.9808, 2.9794, 2.9799, 2.9779, 2.976, 2.9628, 2.9664, 2.9397, 2.975, 2.9653, 2.9583, 2.9324, 2.8097, 2.792, 2.9125, 2.7541, 2.7948, 2.6266, 2.7768, 2.6701, 2.4788, 2.8206, 2.8601, 2.4559, 1.8715, 2.5001, 2.5383, 2.1251, 2.3162, 2.6541, 1.8589, 1.9697, 2.3426, 1.5006, 1.9118, 1.6585, 1.1897, 1.3518, 1.3252, 0.4206, -0.0945, 0.8887, 0.1382, 1.6286, 0.5271, -0.8991, 0.2366, -0.6914, 3.9408, 3.9403, 3.9402, 3.9399, 3.9398, 3.9396, 3.9393, 3.9391, 3.9387, 3.9382, 3.9382, 3.9381, 3.938, 3.9374, 3.9372, 3.9372, 3.9372, 3.9368, 3.9366, 3.9366, 3.9364, 3.9361, 3.936, 3.9357, 3.9352, 3.935, 3.935, 3.935, 3.9348, 3.9347, 3.9321, 3.9329, 3.8868, 3.9186, 3.8869, 3.9134, 3.8558, 3.8626, 3.9289, 3.8574, 3.6855, 3.8902, 3.6511, 3.5415, 3.8222, 3.2871, 3.7535, 3.4696, 3.1785, 2.0479, -0.3598], \"logprob\": [30.0, 29.0, 28.0, 27.0, 26.0, 25.0, 24.0, 23.0, 22.0, 21.0, 20.0, 19.0, 18.0, 17.0, 16.0, 15.0, 14.0, 13.0, 12.0, 11.0, 10.0, 9.0, 8.0, 7.0, 6.0, 5.0, 4.0, 3.0, 2.0, 1.0, -8.339699745178223, -8.644000053405762, -8.690999984741211, -8.791399955749512, -8.834199905395508, -9.075200080871582, -9.122900009155273, -9.208600044250488, -9.421600341796875, -9.443400382995605, -8.625, -9.511899948120117, -9.527199745178223, -9.589099884033203, -9.648699760437012, -9.652799606323242, -9.682100296020508, -9.697400093078613, -9.276200294494629, -9.734100341796875, -9.726900100708008, -9.77079963684082, -9.794699668884277, -9.82509994506836, -9.852899551391602, -9.850000381469727, -9.873600006103516, -9.887999534606934, -9.969499588012695, -9.868599891662598, -9.818400382995605, -6.086400032043457, -2.8241000175476074, -3.700500011444092, -9.640199661254883, -5.21019983291626, -6.280099868774414, -4.3516998291015625, -8.175999641418457, -6.1529998779296875, -3.9007999897003174, -7.205900192260742, -4.619500160217285, -5.135499954223633, -4.371399879455566, -4.366000175476074, -6.5817999839782715, -5.415200233459473, -3.9718000888824463, -5.109799861907959, -4.435699939727783, -4.338500022888184, -5.105899810791016, -4.875199794769287, -5.2230000495910645, -5.9704999923706055, -6.057499885559082, -3.7263998985290527, -5.731100082397461, -5.549600124359131, -6.643799781799316, -5.628200054168701, -4.466700077056885, -4.836400032043457, -4.155399799346924, -5.413599967956543, -4.788099765777588, -4.682400226593018, -4.635300159454346, -4.489799976348877, -4.723599910736084, -4.500100135803223, -5.051499843597412, -4.764200210571289, -5.019400119781494, -4.514999866485596, -4.840700149536133, -4.679900169372559, -4.832200050354004, -4.8454999923706055, -4.864299774169922, -7.740300178527832, -8.148099899291992, -8.575200080871582, -8.843299865722656, -8.921600341796875, -9.076000213623047, -9.142900466918945, -9.191200256347656, -9.149999618530273, -9.16759967803955, -9.360300064086914, -9.273599624633789, -9.16919994354248, -9.152700424194336, -9.436100006103516, -9.561599731445312, -9.494099617004395, -9.563899993896484, -9.5871000289917, -9.430000305175781, -9.622900009155273, -9.540599822998047, -9.666899681091309, -9.670599937438965, -9.07699966430664, -9.701000213623047, -9.33650016784668, -9.754599571228027, -9.84000015258789, -9.840399742126465, -9.247099876403809, -9.128100395202637, -8.525500297546387, -8.702300071716309, -8.184900283813477, -8.996399879455566, -9.356300354003906, -6.632900238037109, -5.8130998611450195, -7.972599983215332, -7.815299987792969, -7.589700222015381, -7.6184000968933105, -8.5246000289917, -5.359300136566162, -5.579100131988525, -6.162700176239014, -5.530399799346924, -5.973299980163574, -7.229400157928467, -4.706900119781494, -6.397200107574463, -6.906899929046631, -5.60830020904541, -6.965400218963623, -7.193999767303467, -4.8028998374938965, -5.810699939727783, -5.518499851226807, -5.065100193023682, -5.947299957275391, -5.462399959564209, -6.9816999435424805, -5.795499801635742, -4.031400203704834, -4.411200046539307, -6.059599876403809, -4.876100063323975, -4.936999797821045, -5.720399856567383, -5.09060001373291, -4.694399833679199, -4.275400161743164, -5.844200134277344, -6.1554999351501465, -5.88070011138916, -5.6616997718811035, -5.8144001960754395, -5.139200210571289, -4.793499946594238, -4.594200134277344, -4.487100124359131, -4.873199939727783, -5.539899826049805, -5.607100009918213, -5.195199966430664, -4.9664998054504395, -4.712699890136719, -5.024799823760986, -4.629499912261963, -5.341800212860107, -4.658999919891357, -5.073299884796143, -5.369100093841553, -5.289999961853027, -5.223400115966797, -5.126399993896484, -5.377299785614014, -5.295400142669678, -7.184800148010254, -8.041099548339844, -8.339699745178223, -8.119500160217285, -8.352499961853027, -8.41409969329834, -8.510499954223633, -8.549699783325195, -8.441900253295898, -8.163200378417969, -8.569299697875977, -8.02299976348877, -8.684900283813477, -8.69909954071045, -8.772600173950195, -8.756999969482422, -8.772199630737305, -8.463700294494629, -8.796199798583984, -8.449999809265137, -8.821700096130371, -8.517399787902832, -8.349300384521484, -8.897700309753418, -8.930100440979004, -8.90310001373291, -8.972800254821777, -8.97130012512207, -8.983499526977539, -9.00160026550293, -7.432700157165527, -8.36139965057373, -8.488800048828125, -8.340100288391113, -8.527199745178223, -8.364299774169922, -8.226099967956543, -6.765999794006348, -8.591899871826172, -7.490499973297119, -4.311699867248535, -8.531200408935547, -8.411299705505371, -8.202099800109863, -7.0903000831604, -4.892099857330322, -7.572400093078613, -5.066999912261963, -7.631700038909912, -5.849599838256836, -6.57289981842041, -7.77370023727417, -6.561699867248535, -7.555500030517578, -4.860099792480469, -5.419400215148926, -5.748300075531006, -7.670400142669678, -4.681600093841553, -5.684299945831299, -3.5146000385284424, -4.642300128936768, -6.620200157165527, -6.2118000984191895, -6.136300086975098, -6.453700065612793, -5.198800086975098, -4.842800140380859, -4.4131999015808105, -6.4070000648498535, -4.039599895477295, -4.246500015258789, -4.303599834442139, -5.5696001052856445, -6.177999973297119, -5.22790002822876, -5.131400108337402, -5.442299842834473, -4.603000164031982, -4.578100204467773, -5.486999988555908, -5.42140007019043, -4.736800193786621, -5.086100101470947, -5.429599761962891, -5.085400104522705, -5.04640007019043, -4.900700092315674, -5.148399829864502, -4.957300186157227, -5.202000141143799, -5.045100212097168, -5.280099868774414, -5.28879976272583, -5.358099937438965, -7.72160005569458, -7.839700222015381, -7.867099761962891, -8.029800415039062, -8.233699798583984, -8.288200378417969, -7.989999771118164, -8.348600387573242, -8.444899559020996, -8.447799682617188, -8.513099670410156, -8.522899627685547, -8.558300018310547, -8.513299942016602, -7.895400047302246, -8.359999656677246, -8.62399959564209, -8.684499740600586, -8.549599647521973, -8.647899627685547, -8.809599876403809, -8.682900428771973, -8.565099716186523, -8.829999923706055, -8.820899963378906, -8.831600189208984, -8.844499588012695, -8.879799842834473, -8.929699897766113, -8.922900199890137, -8.48169994354248, -8.538599967956543, -8.600700378417969, -7.741300106048584, -8.525799751281738, -8.3302001953125, -8.638500213623047, -8.628700256347656, -8.315699577331543, -8.389200210571289, -7.697199821472168, -7.374300003051758, -7.625500202178955, -8.208000183105469, -6.156199932098389, -7.405799865722656, -6.564300060272217, -6.868000030517578, -7.573400020599365, -5.817999839782715, -7.556600093841553, -3.8271000385284424, -8.071100234985352, -7.6753997802734375, -7.781499862670898, -5.408100128173828, -6.560100078582764, -7.285799980163574, -7.117199897766113, -7.858399868011475, -5.906899929046631, -6.533100128173828, -7.112100124359131, -6.604899883270264, -7.263400077819824, -4.572400093078613, -6.0106000900268555, -4.553199768066406, -7.334499835968018, -6.620100021362305, -6.49370002746582, -6.70550012588501, -5.6519999504089355, -6.914000034332275, -5.724699974060059, -6.102099895477295, -6.38700008392334, -5.64739990234375, -6.444200038909912, -6.125100135803223, -5.755300045013428, -5.383999824523926, -5.404699802398682, -5.442500114440918, -4.269000053405762, -5.6855998039245605, -4.547699928283691, -5.5131001472473145, -5.2332000732421875, -5.858500003814697, -4.913700103759766, -5.92549991607666, -5.238999843597412, -5.314599990844727, -5.428800106048584, -5.81850004196167, -5.3471999168396, -5.504000186920166, -5.625, -5.576300144195557, -5.510200023651123, -5.60129976272583, -5.740200042724609, -5.697400093078613, -5.784800052642822, -5.775700092315674, -5.010900020599365, -6.208499908447266, -6.224899768829346, -6.584099769592285, -4.432000160217285, -6.606900215148926, -6.881700038909912, -7.131199836730957, -7.279799938201904, -7.287300109863281, -7.492700099945068, -5.630199909210205, -7.481100082397461, -6.438300132751465, -6.96019983291626, -7.201200008392334, -7.267600059509277, -7.183800220489502, -7.257400035858154, -7.3643999099731445, -7.752500057220459, -6.154900074005127, -7.094600200653076, -7.662199974060059, -7.834799766540527, -7.808899879455566, -7.96120023727417, -7.696700096130371, -7.690000057220459, -8.049500465393066, -5.007699966430664, -4.714099884033203, -4.71750020980835, -6.434500217437744, -6.773200035095215, -6.658699989318848, -6.6153998374938965, -7.294400215148926, -5.432400226593018, -6.623600006103516, -6.858699798583984, -4.652500152587891, -5.054200172424316, -6.376800060272217, -6.5157999992370605, -4.967199802398682, -5.780099868774414, -6.366700172424316, -6.333799839019775, -5.219200134277344, -4.446599960327148, -5.783899784088135, -6.297299861907959, -6.261600017547607, -4.755799770355225, -6.022500038146973, -6.327099800109863, -5.661200046539307, -6.13100004196167, -5.547999858856201, -5.665800094604492, -5.506999969482422, -5.893799781799316, -4.048999786376953, -3.947000026702881, -5.324100017547607, -4.357100009918213, -5.78879976272583, -4.869200229644775, -5.260499954223633, -4.862500190734863, -4.9475998878479, -5.0960001945495605, -5.469099998474121, -5.135900020599365, -5.1595001220703125, -5.099599838256836, -5.26140022277832, -5.33459997177124, -5.106200218200684, -5.231299877166748, -5.2993998527526855, -5.389800071716309, -5.365200042724609, -7.250899791717529, -7.368899822235107, -7.666999816894531, -7.739799976348877, -7.837100028991699, -7.429599761962891, -8.174300193786621, -8.223699569702148, -8.209699630737305, -8.282500267028809, -8.358699798583984, -8.331000328063965, -8.251299858093262, -8.489700317382812, -8.538000106811523, -8.538599967956543, -8.448699951171875, -8.251099586486816, -8.624300003051758, -8.522600173950195, -8.633600234985352, -8.606100082397461, -8.660699844360352, -8.2608003616333, -8.634499549865723, -8.708100318908691, -8.699899673461914, -8.67609977722168, -8.706999778747559, -8.732600212097168, -7.4618000984191895, -7.860799789428711, -7.940499782562256, -8.271699905395508, -8.64840030670166, -6.428100109100342, -7.6905999183654785, -5.884099960327148, -7.481100082397461, -8.253499984741211, -8.404999732971191, -4.5503997802734375, -5.591700077056885, -7.1757001876831055, -7.970399856567383, -6.243000030517578, -7.4008002281188965, -5.489699840545654, -6.970399856567383, -5.323999881744385, -5.026700019836426, -5.470399856567383, -6.982900142669678, -6.570499897003174, -6.862100124359131, -4.623000144958496, -7.28410005569458, -5.036099910736084, -6.397200107574463, -6.6305999755859375, -6.303199768066406, -4.853400230407715, -5.658400058746338, -5.254000186920166, -5.5177001953125, -5.936399936676025, -5.875400066375732, -5.173299789428711, -4.565199851989746, -5.7154998779296875, -5.709499835968018, -6.265399932861328, -6.300300121307373, -4.458799839019775, -5.915599822998047, -5.638999938964844, -5.356200218200684, -4.696800231933594, -6.115499973297119, -5.212900161743164, -5.650400161743164, -5.240499973297119, -5.7399001121521, -5.416299819946289, -5.042500019073486, -5.164599895477295, -5.748199939727783, -5.380000114440918, -5.716599941253662, -5.678400039672852, -5.562099933624268, -5.62470006942749, -6.6296000480651855, -7.134799957275391, -7.270299911499023, -7.597700119018555, -7.627299785614014, -7.533199787139893, -6.8358001708984375, -5.919899940490723, -7.826200008392334, -7.665900230407715, -7.969399929046631, -8.022299766540527, -8.02280044555664, -7.80210018157959, -8.032699584960938, -7.865600109100342, -7.920599937438965, -7.805300235748291, -7.406700134277344, -7.902900218963623, -8.132699966430664, -8.01360034942627, -8.215900421142578, -7.952199935913086, -8.28219985961914, -7.487199783325195, -8.289999961853027, -8.29069995880127, -8.11299991607666, -8.340399742126465, -5.314799785614014, -7.452199935913086, -6.546000003814697, -7.836999893188477, -7.216300010681152, -6.6844000816345215, -7.44980001449585, -7.181099891662598, -7.702000141143799, -4.379899978637695, -5.648499965667725, -6.1915998458862305, -5.1915998458862305, -6.251999855041504, -6.766300201416016, -7.488500118255615, -7.1290998458862305, -4.918499946594238, -4.256899833679199, -6.523099899291992, -2.5901999473571777, -5.225800037384033, -5.669000148773193, -5.571700096130371, -5.997399806976318, -5.275000095367432, -5.333000183105469, -3.500699996948242, -6.16480016708374, -5.341400146484375, -4.8109002113342285, -5.259900093078613, -5.070799827575684, -6.2368998527526855, -5.771699905395508, -4.885700225830078, -5.44789981842041, -5.613699913024902, -5.412399768829346, -5.629499912261963, -5.67609977722168, -5.407700061798096, -4.745299816131592, -5.243199825286865, -5.366099834442139, -5.7993998527526855, -5.178899765014648, -5.294099807739258, -5.515200138092041, -5.480199813842773, -5.48829984664917, -6.02839994430542, -5.908400058746338, -5.618100166320801, -5.964700222015381, -6.474599838256836, -6.559199810028076, -6.554100036621094, -6.968200206756592, -7.046000003814697, -7.163000106811523, -7.478099822998047, -7.566400051116943, -7.569699764251709, -7.583700180053711, -7.649099826812744, -7.617800235748291, -7.125800132751465, -7.555300235748291, -5.964700222015381, -7.563399791717529, -7.826600074768066, -7.847700119018555, -7.216599941253662, -7.925099849700928, -7.820099830627441, -7.8927998542785645, -7.578700065612793, -7.706399917602539, -8.016500473022461, -8.036800384521484, -4.998300075531006, -5.455900192260742, -7.059199810028076, -7.473499774932861, -6.567800045013428, -4.315400123596191, -7.580599784851074, -5.057000160217285, -6.67549991607666, -6.3618998527526855, -7.22160005569458, -6.349899768829346, -7.166999816894531, -4.700699806213379, -6.150700092315674, -2.894200086593628, -5.307300090789795, -6.178699970245361, -6.166100025177002, -5.322999954223633, -6.644499778747559, -4.4415998458862305, -4.935500144958496, -5.484300136566162, -3.68969988822937, -4.033299922943115, -4.015699863433838, -3.811500072479248, -4.125500202178955, -5.864799976348877, -5.296599864959717, -5.723400115966797, -5.789700031280518, -4.725100040435791, -4.633900165557861, -5.946700096130371, -5.794300079345703, -5.638500213623047, -5.084700107574463, -4.807000160217285, -5.0040998458862305, -5.226099967956543, -5.230400085449219, -5.5767998695373535, -5.536499977111816, -5.638500213623047, -5.585100173950195, -5.6315999031066895, -4.612100124359131, -6.314499855041504, -6.1504998207092285, -7.1483001708984375, -7.113100051879883, -7.371699810028076, -7.293000221252441, -3.9842000007629395, -7.504199981689453, -7.483500003814697, -7.417300224304199, -7.477499961853027, -7.453700065612793, -7.552199840545654, -7.292600154876709, -7.629799842834473, -7.633399963378906, -7.079999923706055, -7.698400020599365, -7.692399978637695, -7.74970006942749, -7.539299964904785, -7.817599773406982, -6.443600177764893, -7.841800212860107, -7.902100086212158, -7.945000171661377, -7.96019983291626, -7.014699935913086, -7.855999946594238, -5.693699836730957, -6.144599914550781, -5.973199844360352, -6.038300037384033, -6.7540998458862305, -6.926700115203857, -7.006700038909912, -6.929699897766113, -7.269100189208984, -6.700200080871582, -6.855199813842773, -6.269499778747559, -7.304699897766113, -7.0843000411987305, -7.063700199127197, -6.754700183868408, -5.484799861907959, -5.3983001708984375, -6.726399898529053, -5.383999824523926, -6.131199836730957, -5.279900074005127, -6.118299961090088, -5.7846999168396, -5.0721001625061035, -6.478400230407715, -6.697500228881836, -5.520699977874756, -3.921600103378296, -5.716800212860107, -5.898200035095215, -5.016200065612793, -5.698699951171875, -6.317999839782715, -5.071499824523926, -5.483399868011475, -6.026500225067139, -5.186399936676025, -5.65369987487793, -5.525899887084961, -5.247600078582764, -5.380300045013428, -5.492800235748291, -5.098100185394287, -5.080599784851074, -5.576600074768066, -5.387499809265137, -5.839000225067139, -5.601799964904785, -5.508299827575684, -5.649499893188477, -5.558899879455566, -2.364300012588501, -4.539299964904785, -4.95359992980957, -4.501399993896484, -5.256999969482422, -5.030900001525879, -5.6031999588012695, -5.647500038146973, -2.7283999919891357, -4.7154998779296875, -5.813899993896484, -6.026100158691406, -5.91540002822876, -6.171500205993652, -6.182199954986572, -6.230000019073486, -6.285999774932861, -6.366300106048584, -6.402500152587891, -6.401599884033203, -6.387400150299072, -6.372399806976318, -6.492199897766113, -6.094900131225586, -6.616099834442139, -6.694399833679199, -5.713900089263916, -5.589399814605713, -6.7129998207092285, -6.749300003051758, -4.184599876403809, -6.469200134277344, -4.231299877166748, -5.793799877166748, -4.575799942016602, -5.9355998039245605, -4.987299919128418, -5.787199974060059, -6.3445000648498535, -5.977200031280518, -5.279600143432617, -6.165599822998047, -5.189799785614014, -5.162099838256836, -6.001699924468994, -4.984399795532227, -5.89139986038208, -5.761899948120117, -5.7855000495910645, -5.582099914550781, -5.885499954223633]}, \"token.table\": {\"Topic\": [3, 2, 4, 8, 1, 2, 3, 4, 5, 6, 7, 8, 9, 10, 3, 6, 1, 2, 3, 4, 5, 6, 7, 8, 9, 10, 10, 2, 10, 1, 2, 3, 4, 5, 6, 7, 8, 9, 1, 2, 3, 4, 5, 6, 7, 8, 9, 1, 2, 3, 4, 5, 6, 7, 8, 9, 10, 8, 7, 1, 2, 3, 4, 5, 6, 7, 8, 9, 10, 3, 4, 5, 7, 9, 2, 10, 1, 2, 3, 4, 5, 6, 7, 9, 10, 6, 2, 4, 1, 2, 3, 4, 5, 6, 7, 8, 9, 10, 3, 1, 2, 3, 4, 5, 6, 7, 8, 9, 10, 1, 2, 3, 4, 6, 7, 9, 2, 3, 4, 5, 7, 8, 9, 2, 7, 1, 3, 1, 2, 3, 4, 5, 6, 7, 8, 9, 10, 9, 10, 8, 10, 1, 2, 3, 4, 5, 6, 7, 8, 9, 1, 2, 3, 4, 5, 6, 7, 8, 9, 10, 3, 7, 1, 2, 3, 4, 5, 6, 7, 8, 9, 10, 1, 2, 3, 4, 5, 6, 7, 8, 9, 10, 10, 5, 3, 10, 2, 4, 5, 6, 8, 9, 10, 4, 5, 1, 3, 4, 5, 6, 7, 8, 1, 2, 3, 4, 5, 6, 7, 8, 9, 1, 2, 3, 4, 6, 7, 8, 9, 3, 1, 2, 3, 4, 5, 6, 7, 8, 9, 10, 1, 1, 2, 3, 6, 7, 9, 3, 7, 1, 2, 3, 4, 5, 6, 7, 8, 9, 10, 4, 8, 9, 1, 2, 3, 4, 5, 6, 7, 8, 9, 10, 2, 4, 5, 6, 7, 8, 9, 8, 1, 2, 3, 4, 5, 6, 7, 8, 9, 10, 4, 5, 9, 3, 4, 5, 6, 7, 8, 10, 5, 1, 2, 3, 4, 5, 6, 7, 8, 9, 10, 3, 1, 2, 3, 4, 5, 6, 7, 9, 1, 3, 4, 5, 6, 8, 9, 10, 1, 2, 3, 4, 5, 6, 7, 8, 9, 10, 1, 2, 3, 4, 5, 6, 7, 8, 9, 10, 6, 4, 4, 4, 5, 8, 10, 4, 10, 5, 1, 2, 3, 4, 5, 6, 7, 8, 9, 10, 6, 1, 1, 2, 3, 4, 5, 6, 7, 8, 9, 10, 1, 4, 9, 1, 2, 3, 4, 5, 6, 7, 8, 9, 10, 1, 2, 3, 4, 5, 6, 7, 8, 9, 10, 8, 1, 2, 3, 4, 5, 6, 7, 8, 9, 10, 1, 2, 3, 4, 5, 6, 7, 8, 9, 10, 1, 2, 3, 4, 5, 6, 7, 8, 9, 10, 5, 3, 9, 1, 2, 3, 4, 5, 6, 7, 8, 9, 10, 1, 2, 3, 4, 5, 6, 7, 8, 9, 3, 4, 5, 6, 7, 9, 10, 1, 2, 3, 5, 6, 1, 3, 5, 7, 8, 9, 10, 1, 2, 3, 4, 5, 6, 7, 8, 9, 1, 2, 3, 4, 5, 6, 7, 8, 9, 10, 2, 4, 1, 2, 3, 4, 5, 6, 7, 8, 9, 10, 1, 1, 2, 3, 4, 7, 1, 2, 3, 4, 5, 6, 7, 8, 9, 10, 7, 3, 8, 1, 2, 3, 4, 5, 6, 7, 8, 9, 7, 9, 1, 9, 1, 2, 3, 4, 5, 6, 7, 8, 9, 10, 1, 4, 5, 6, 7, 9, 10, 1, 9, 3, 1, 2, 3, 4, 5, 6, 7, 8, 9, 10, 2, 3, 7, 10, 5, 7, 6, 1, 1, 3, 4, 5, 6, 7, 8, 9, 10, 7, 9, 1, 2, 3, 4, 5, 6, 7, 8, 9, 10, 1, 2, 3, 4, 5, 6, 7, 8, 9, 10, 1, 2, 3, 4, 5, 6, 7, 8, 9, 10, 3, 6, 1, 2, 3, 4, 5, 6, 7, 8, 10, 1, 3, 1, 2, 3, 4, 5, 6, 7, 8, 9, 10, 4, 1, 2, 3, 4, 5, 6, 7, 8, 9, 10, 3, 1, 4, 1, 2, 3, 4, 5, 6, 7, 8, 9, 10, 1, 1, 2, 3, 4, 5, 6, 7, 8, 9, 10, 9, 1, 8, 9, 10, 8, 1, 2, 3, 4, 5, 6, 7, 8, 9, 10, 10, 1, 3, 4, 7, 8, 1, 2, 3, 4, 5, 6, 7, 8, 9, 10, 1, 2, 3, 4, 5, 6, 7, 8, 9, 10, 8, 4, 10, 1, 2, 3, 4, 6, 7, 9, 10, 1, 2, 3, 4, 8, 9, 1, 2, 3, 4, 6, 7, 8, 9, 1, 2, 3, 4, 5, 6, 7, 8, 9, 10, 6, 1, 2, 3, 4, 5, 6, 7, 8, 9, 10, 4, 8, 9, 10, 1, 2, 3, 4, 5, 6, 7, 8, 9, 10, 3, 5, 6, 7, 10, 1, 2, 3, 4, 5, 6, 7, 8, 9, 10, 2, 4, 8, 9, 9, 1, 5, 10, 5, 7, 4, 2, 9, 10, 5, 8, 2, 9, 5, 6, 9, 10, 3, 8, 6, 1, 2, 3, 4, 6, 1, 8, 1, 2, 3, 4, 5, 6, 7, 8, 9, 9, 5, 8, 1, 2, 3, 4, 5, 6, 7, 8, 9, 10, 8, 2, 1, 2, 3, 4, 5, 6, 7, 8, 9, 10, 1, 2, 3, 4, 5, 6, 7, 8, 9, 10, 1, 2, 3, 4, 5, 6, 7, 8, 9, 10, 1, 2, 3, 4, 5, 6, 7, 8, 9, 10, 5, 1, 2, 3, 4, 5, 6, 7, 8, 9, 10, 1, 2, 3, 4, 5, 6, 7, 8, 9, 8, 7, 9, 1, 2, 3, 4, 5, 6, 7, 8, 9, 10, 1, 2, 3, 4, 5, 7, 8, 9, 10, 4, 5, 6, 7, 9, 10, 1, 2, 3, 4, 5, 6, 7, 8, 9, 10, 2, 7, 10, 7, 8, 1, 2, 3, 4, 5, 6, 7, 8, 9, 10, 6, 1, 2, 3, 4, 5, 6, 7, 8, 9, 10, 1, 3, 5, 3, 7, 9, 1, 2, 3, 4, 5, 6, 7, 8, 9, 10, 1, 2, 3, 4, 5, 6, 7, 8, 9, 10, 1, 2, 3, 4, 6, 7, 8, 4, 1, 2, 3, 4, 5, 6, 7, 8, 9, 10, 1, 8, 9, 1, 2, 3, 4, 5, 6, 7, 8, 9, 10, 2, 6, 3, 9, 1, 2, 3, 4, 5, 6, 7, 8, 9, 10, 1, 2, 3, 4, 5, 6, 7, 8, 9, 1, 2, 3, 4, 5, 6, 7, 8, 9, 10, 1, 2, 3, 4, 5, 6, 7, 8, 9, 10, 1, 2, 3, 4, 5, 6, 7, 8, 9, 10, 1, 2, 3, 4, 5, 6, 7, 8, 9, 1, 2, 3, 4, 5, 7, 8, 9, 2, 5, 9, 10, 1, 2, 3, 4, 5, 6, 7, 8, 9, 10, 1, 2, 1, 2, 3, 4, 5, 6, 7, 8, 9, 10, 1, 2, 3, 4, 5, 6, 7, 8, 9, 10, 6, 6, 1, 2, 3, 4, 6, 7, 9, 1, 2, 3, 4, 5, 6, 7, 8, 9, 10, 1, 1, 2, 3, 4, 5, 6, 7, 8, 9, 10, 4, 1, 2, 3, 4, 5, 6, 7, 8, 9, 10, 7, 5, 1, 2, 3, 4, 5, 6, 7, 8, 9, 10, 1, 2, 3, 4, 5, 6, 7, 8, 1, 3, 4, 5, 6, 7, 8, 9, 10, 3, 4, 5, 7, 8, 5, 3, 4, 5, 7, 8, 9, 6, 10, 5, 1, 2, 3, 4, 5, 6, 7, 9, 10, 1, 4, 9, 1, 2, 3, 4, 5, 6, 7, 8, 9, 10, 6, 1, 2, 3, 4, 5, 6, 7, 8, 9, 10, 2, 4, 7, 8, 1, 2, 3, 4, 5, 6, 7, 8, 9, 10, 1, 3, 5, 8, 10, 1, 2, 3, 4, 5, 6, 7, 8, 9, 10, 1, 2, 3, 4, 5, 6, 7, 8, 9, 10, 5, 10, 1, 1, 2, 4, 6, 7, 9, 1, 2, 3, 4, 5, 6, 7, 8, 9, 10, 1, 2, 3, 4, 5, 6, 7, 8, 9, 10, 1, 2, 3, 4, 5, 6, 7, 8, 9, 10, 1, 2, 3, 4, 5, 6, 7, 8, 9, 10, 1, 3, 5, 8, 1, 2, 3, 4, 5, 6, 7, 8, 9, 10, 1, 2, 3, 4, 5, 6, 7, 8, 9, 10, 1, 2, 3, 4, 5, 6, 7, 8, 9, 10, 1, 2, 3, 4, 5, 6, 7, 8, 9, 10, 1, 2, 3, 4, 5, 6, 7, 8, 9, 10, 1, 2, 3, 4, 5, 6, 7, 8, 9, 10, 1, 2, 3, 4, 5, 6, 7, 8, 9, 1, 2, 3, 4, 5, 6, 7, 8, 9, 10, 6, 1, 3, 4, 6, 7, 8, 10, 9, 1, 4, 5, 1, 3, 4, 5, 7, 8, 9, 10, 4, 7, 7, 8, 6, 7, 9, 10, 2, 4, 1, 2, 3, 4, 5, 6, 7, 8, 9, 10, 1, 2, 3, 4, 5, 6, 7, 8, 9, 10, 1, 2, 3, 4, 5, 6, 7, 8, 9, 10, 5, 2, 3, 1, 2, 3, 4, 5, 6, 7, 8, 9, 10, 3, 1, 2, 3, 4, 5, 6, 7, 8, 9, 10, 1, 2, 3, 4, 5, 6, 7, 8, 9, 10, 1, 2, 3, 4, 5, 6, 7, 8, 9, 10, 1, 2, 3, 4, 5, 6, 7, 8, 9, 10, 1, 2, 3, 4, 5, 6, 7, 8, 9, 10, 1, 2, 3, 4, 5, 6, 7, 8, 9, 10, 1, 2, 3, 4, 5, 6, 7, 8, 9, 10, 2, 4, 5, 7, 8, 9, 10, 1, 2, 3, 4, 5, 6, 7, 8, 9, 10, 1, 5, 1, 2, 3, 4, 5, 7, 8, 9, 10, 5, 7, 8, 9, 5, 1, 2, 3, 4, 5, 6, 7, 8, 9, 10, 2, 5, 8, 9, 9, 1, 3, 4, 5, 7, 9, 1, 2, 4, 6, 7, 8, 9, 10, 1, 2, 3, 4, 5, 6, 7, 8, 9, 10, 5, 5, 4, 5, 6, 8, 10, 1, 3, 4, 5, 6, 7, 8, 4, 2, 3, 4, 5, 6, 7, 8, 9, 1, 2, 3, 4, 5, 6, 7, 8, 9, 3, 6, 6, 6, 9, 4, 10, 1, 9, 4, 9, 1, 1, 2, 3, 4, 5, 6, 7, 8, 9, 10, 1, 2, 7, 1, 3, 4, 5, 6, 7, 8, 5, 6, 7, 9, 2, 2, 3, 5, 7, 3, 6, 1, 2, 3, 4, 6, 7, 8, 9, 10, 2, 9, 8, 1, 2, 3, 4, 5, 7, 8, 9, 10, 4, 5, 6, 7, 8, 9, 10, 1, 2, 3, 4, 5, 6, 7, 9, 10, 2, 1, 2, 3, 4, 6, 7, 8, 9, 10, 4, 7, 7, 8, 10, 1, 2, 3, 4, 5, 6, 7, 8, 9, 10, 1, 2, 3, 4, 5, 6, 7, 8, 9, 10, 5, 1, 2, 3, 4, 5, 6, 7, 8, 9, 10, 1, 2, 3, 4, 5, 6, 7, 8, 9, 10, 1, 3, 4, 5, 6, 7, 8, 1, 2, 3, 4, 5, 6, 7, 8, 9, 10, 1, 2, 3, 4, 5, 6, 7, 8, 9, 10, 10, 10, 1, 6, 9, 10, 1, 2, 3, 4, 5, 6, 7, 8, 9, 7, 5, 1, 2, 3, 4, 5, 6, 7, 8, 9, 10, 2, 3, 4, 5, 6, 7, 8, 9, 1, 4, 8, 9, 10, 3, 10, 1, 2, 3, 4, 5, 6, 7, 8, 9, 10, 1, 2, 3, 4, 5, 6, 7, 8, 9, 10, 2, 9, 10, 1, 2, 3, 4, 5, 6, 7, 8, 9, 10, 3, 1, 2, 3, 4, 5, 6, 7, 8, 9, 10, 3, 1, 2, 3, 4, 5, 6, 7, 8, 9, 10, 1, 2, 3, 4, 5, 6, 7, 8, 9, 10, 1, 3, 4, 5, 6, 7, 8, 9, 10, 4, 6, 7, 9, 4, 3, 6, 9, 1, 4, 8, 1, 2, 3, 4, 5, 6, 7, 8, 9, 10, 2, 3, 4, 5, 6, 7, 9, 10, 1, 2, 3, 4, 6, 7, 1, 2, 4, 5, 6, 7, 8, 9, 1, 2, 3, 4, 5, 6, 7, 8, 9, 10, 1, 2, 3, 4, 5, 6, 7, 8, 9, 10, 1, 2, 3, 4, 5, 6, 7, 8, 9, 10, 1, 2, 3, 4, 5, 6, 7, 8, 9, 10, 1, 2, 3, 4, 5, 6, 7, 8, 9, 10, 1, 2, 3, 4, 5, 6, 7, 8, 9, 10, 3, 4, 5, 6, 7, 1, 2, 3, 4, 5, 6, 7, 8, 9, 10, 1, 2, 3, 4, 5, 6, 7, 8, 9, 1, 2, 3, 4, 5, 6, 7, 8, 9, 10, 1, 2, 3, 4, 5, 6, 7, 8, 9, 10, 1, 2, 3, 4, 5, 6, 7, 8, 9, 10, 4, 8, 1, 2, 3, 4, 5, 6, 7, 8, 9, 10, 1, 2, 3, 4, 5, 6, 7, 8, 9, 9, 10, 7, 1, 2, 3, 4, 5, 6, 7, 8, 9, 10, 1, 2, 3, 4, 5, 6, 7, 8, 9, 10, 1, 2, 3, 4, 5, 6, 7, 8, 9, 10, 3, 10, 1, 2, 3, 4, 5, 6, 7, 8, 9, 10, 2, 4, 1, 2, 3, 4, 5, 6, 7, 9, 10, 1, 2, 4, 7, 4, 1, 3, 4, 2, 8, 1, 2, 3, 4, 5, 6, 7, 8, 9, 10, 2, 1, 2, 3, 4, 6, 7, 8, 9, 1, 2, 3, 4, 6, 7, 8, 9, 1, 2, 3, 4, 5, 6, 7, 8, 1, 9, 10, 3, 4, 5, 6, 7, 8, 7, 9, 10, 3, 10, 1, 2, 3, 4, 5, 6, 7, 8, 9, 10, 1, 2, 3, 4, 5, 6, 7, 8, 9, 10, 1, 2, 3, 4, 5, 6, 7, 8, 5, 6, 7, 8, 9, 9, 1, 4, 5, 7, 9, 3, 5, 10, 7, 9, 1, 7, 8, 9, 10, 1, 2, 4, 5, 6, 7, 8, 10, 1, 2, 3, 4, 5, 6, 7, 8, 9, 10, 1, 3, 4, 6, 7, 8, 10, 6, 7, 8, 8, 1, 2, 3, 4, 5, 6, 7, 8, 9, 10, 4, 6, 1, 2, 3, 4, 5, 6, 7, 8, 9, 10, 8, 5, 8, 8, 5, 1, 1, 1, 2, 3, 4, 5, 6, 7, 8, 9, 10, 1, 2, 3, 4, 5, 6, 7, 8, 9, 10, 3, 5, 10, 7, 9, 1, 2, 3, 4, 5, 6, 7, 8, 9, 10, 9, 10, 3, 7, 1, 2, 3, 4, 5, 6, 7, 8, 9, 10, 4, 6, 1, 2, 3, 4, 5, 6, 7, 8, 9, 10, 1, 2, 3, 4, 5, 6, 7, 8, 9, 10, 10, 2, 4, 9, 5, 8, 10, 5, 10, 5, 8, 1, 2, 3, 4, 5, 6, 7, 8, 9, 10, 1, 2, 3, 4, 5, 6, 7, 8, 9, 10, 1, 9, 1, 6, 4, 5, 6, 8, 9, 10, 4, 7, 1, 2, 3, 4, 5, 6, 7, 8, 9, 10, 9, 9, 1, 2, 3, 4, 5, 6, 7, 8, 9, 10, 1, 2, 3, 4, 5, 6, 7, 8, 9, 10, 1, 2, 3, 4, 5, 6, 7, 8, 9, 10, 1, 2, 4, 7, 8, 1, 8, 1, 2, 3, 4, 5, 6, 7, 8, 9, 10, 4, 1, 4, 5, 9, 1, 2, 3, 4, 5, 6, 7, 8, 1, 3, 4, 6, 7, 8, 3, 5, 9, 2, 5, 10, 8, 1, 2, 3, 4, 5, 6, 7, 8, 9, 10, 2, 4, 3, 1, 4, 1, 2, 3, 4, 5, 6, 7, 8, 9, 10, 1, 2, 3, 4, 5, 6, 7, 8, 9, 10, 1, 2, 3, 4, 5, 6, 7, 8, 9, 10, 3, 3, 5, 1, 2, 3, 4, 5, 6, 7, 8, 9, 10, 1, 2, 3, 4, 7, 8, 9, 9, 3, 4, 5, 6, 8, 9, 10, 10, 1, 2, 3, 4, 5, 6, 7, 8, 9, 10, 1, 2, 7, 3, 9, 1, 2, 3, 4, 5, 6, 7, 8, 9, 10, 3, 4, 6, 7, 2, 2, 2, 7, 8, 5, 1, 2, 3, 4, 5, 6, 7, 8, 9, 10, 8, 10, 9, 1, 2, 3, 4, 5, 6, 7, 8, 9, 10, 6, 1, 2, 3, 4, 5, 6, 7, 8, 9, 10, 3, 10, 1, 3, 4, 7, 4, 5, 6, 8, 1, 2, 3, 4, 5, 6, 7, 8, 9, 10, 4, 5, 7, 1, 1, 2, 3, 4, 5, 6, 7, 8, 9, 10, 7, 7, 1, 2, 3, 4, 5, 6, 7, 8, 9, 10, 3, 4, 3, 7, 8, 7, 1, 1, 2, 3, 4, 5, 6, 7, 8, 9, 10, 1, 2, 3, 4, 5, 6, 7, 8, 9, 10, 4, 1, 2, 3, 4, 5, 6, 7, 8, 9, 10, 4, 5, 8, 1, 2, 3, 4, 5, 6, 7, 8, 9, 10, 1, 2, 3, 4, 5, 6, 7, 8, 9, 10, 7, 9, 1, 2, 3, 4, 5, 6, 7, 8, 9, 10, 2, 1, 2, 3, 4, 5, 6, 7, 8, 9, 10, 3, 1, 1, 2, 3, 4, 5, 6, 7, 8, 9, 10, 1, 6, 10, 2, 1, 2, 3, 4, 5, 6, 7, 8, 9, 10, 6, 6, 2, 8, 9, 10, 5, 7, 8, 9, 9, 1, 2, 3, 4, 5, 6, 7, 8, 9, 10, 1, 4, 7, 9, 1, 2, 3, 4, 5, 6, 7, 8, 9, 10, 1, 2, 3, 4, 5, 6, 7, 8, 9, 10, 6, 7, 1, 2, 3, 4, 6, 7, 9, 1, 2, 3, 4, 5, 6, 7, 8, 9, 10, 1, 2, 3, 4, 5, 6, 7, 8, 9, 4, 10, 1, 2, 3, 4, 5, 6, 7, 8, 9, 10, 1, 2, 3, 7, 9, 5, 7, 1, 2, 3, 4, 5, 6, 7, 8, 9, 10, 1, 3, 4, 5, 6, 7, 8, 10, 8, 7, 1, 2, 3, 4, 5, 6, 7, 8, 9, 10, 3, 7, 1, 2, 3, 4, 5, 7, 8, 1, 2, 3, 4, 5, 6, 7, 8, 9, 10, 2, 3, 4, 5, 7, 8, 1, 3, 4, 5, 6, 7, 8, 10, 1, 7, 1, 2, 3, 4, 5, 6, 7, 8, 9, 10, 2, 9, 1, 2, 3, 4, 5, 6, 7, 8, 9, 10, 5, 8, 1, 2, 3, 4, 5, 6, 7, 8, 9, 9, 2, 9, 1, 2, 3, 4, 5, 6, 7, 8, 9, 10, 1, 2, 3, 4, 5, 6, 7, 8, 9, 1, 2, 3, 4, 5, 6, 7, 8, 9, 10, 2, 4, 5, 7, 9, 1, 2, 3, 4, 6, 7, 1, 2, 3, 4, 5, 6, 7, 8, 9, 10, 1, 2, 3, 4, 5, 6, 7, 8, 9, 10, 1, 3, 7, 3, 4, 5, 6, 4, 7, 4, 6, 6, 10, 2, 10, 3, 3, 1, 2, 4, 5, 8, 9, 7, 1, 3, 7, 1, 2, 3, 4, 5, 6, 7, 8, 9, 10, 1, 2, 3, 4, 5, 6, 7, 8, 9, 10, 4, 2, 3, 4, 7, 1, 8, 1, 2, 3, 4, 5, 6, 7, 8, 9, 10, 1, 2, 3, 4, 6, 7, 8, 9, 10, 2, 3, 7, 6, 1, 2, 3, 4, 5, 6, 7, 8, 9, 10, 4, 3, 4, 6, 7, 10, 5, 8, 9, 1, 2, 3, 4, 5, 6, 7, 8, 9, 10, 1, 2, 3, 4, 5, 6, 7, 8, 9, 10, 1, 2, 3, 4, 5, 6, 7, 8, 9, 10, 2, 5, 3, 4, 7, 4, 1, 2, 3, 1, 2, 3, 4, 5, 6, 7, 8, 9, 10, 4, 6, 1, 2, 3, 4, 5, 6, 7, 8, 9, 10, 7, 8, 8, 1, 2, 3, 4, 5, 6, 7, 8, 9, 10, 4, 8, 10, 6, 1, 7, 2, 1, 2, 3, 4, 5, 6, 7, 8, 9, 10, 1, 2, 3, 4, 5, 6, 7, 8, 9, 10, 1, 2, 3, 4, 5, 6, 7, 8, 9, 1, 2, 3, 4, 5, 6, 7, 8, 9, 10, 8, 1, 2, 3, 4, 5, 6, 7, 8, 9, 10, 7, 1, 2, 3, 4, 5, 6, 7, 8, 9, 10, 10, 2, 4, 6, 2, 2, 1, 2, 3, 4, 5, 6, 7, 8, 9, 2, 3, 4, 6, 5, 8, 10, 6, 1, 2, 3, 4, 5, 6, 7, 8, 9, 10, 1, 2, 3, 4, 5, 7, 8, 9, 1, 2, 2, 3, 4, 6, 7, 8, 9, 7, 8, 1, 4, 1, 2, 3, 4, 5, 6, 7, 8, 9, 10, 1, 3, 3, 8, 6, 8, 1, 2, 3, 4, 5, 6, 7, 8, 9, 10, 1, 2, 3, 4, 5, 6, 7, 8, 9, 10, 1, 2, 3, 4, 5, 6, 7, 8, 9, 10, 1, 2, 3, 4, 5, 6, 7, 8, 9, 10, 6, 9, 7, 7, 1, 2, 3, 4, 5, 6, 7, 8, 9, 10, 8, 3, 4, 5, 7, 8, 5, 8, 9, 10, 1, 2, 3, 4, 5, 6, 7, 8, 9, 10, 7, 1, 2, 3, 4, 5, 6, 7, 8, 9, 10, 1, 2, 3, 4, 5, 7, 8, 9, 10, 1, 2, 3, 4, 5, 6, 7, 8, 9, 10, 3, 1, 2, 3, 4, 5, 6, 7, 8, 9, 3, 3, 6, 1, 2, 3, 4, 5, 6, 7, 8, 9, 10, 5, 8, 1, 7, 1, 2, 3, 4, 5, 6, 7, 8, 9, 10, 1, 2, 3, 4, 5, 6, 7, 8, 9, 10, 1, 2, 4, 7, 1, 8, 1, 2, 3, 4, 5, 6, 7, 8, 9, 10, 5, 7, 9, 1, 2, 3, 4, 5, 6, 7, 8, 9, 10, 8, 5, 1, 2, 3, 4, 5, 6, 7, 8, 9, 10, 1, 2, 3, 4, 5, 6, 7, 8, 9, 10, 1, 2, 3, 4, 6, 7, 8, 9, 10, 3, 5, 7, 8, 9, 10, 1, 2, 3, 4, 5, 6, 7, 8, 9, 10, 5, 10, 1, 7, 8], \"Freq\": [0.9945165441935728, 0.07204414895555802, 0.8919751775450042, 0.03430673759788477, 0.036120688816803484, 0.19373824001740053, 0.0229858928834204, 0.06426668010262439, 0.020640393609601994, 0.470038054473209, 0.06379758024786071, 0.0229858928834204, 0.10460926761230101, 0.00046909985476368166, 0.9940087968798222, 0.987724458675522, 0.03791087231624424, 0.004765938234042133, 0.001083167780464121, 0.021446722053189596, 0.0019497020048354179, 0.003249503341392363, 0.025346126062860432, 0.8959963879999209, 0.003249503341392363, 0.0049825717901349565, 0.992868482305811, 0.9876842381108091, 0.997409495371905, 0.1607854937639552, 0.2765618948385064, 0.09869463698158464, 0.017895181430726884, 0.02169112900694168, 0.40806436444309035, 0.009761008053123755, 0.005151643139148649, 0.001355695562933855, 0.10035400350609117, 0.06193723653891564, 0.5974199271221989, 0.06977739306282901, 0.12309045742543995, 0.00862417217630471, 0.020384406962174768, 0.013328266090652732, 0.004704093914348023, 0.25066388187568533, 0.04337068095709532, 0.01655547498899875, 0.016788650693069156, 0.008394325346534578, 0.00046635140814080993, 0.006762095418041744, 0.6559232555500492, 0.0006995271122112148, 0.00046635140814080993, 0.9903160129499081, 0.9900403003601244, 0.21640418232131042, 0.5479693353916476, 0.12568415451680812, 0.05821696826369371, 0.011456692005245845, 0.0034794397941857753, 0.01620909757779227, 0.011711285160917975, 0.006789150817923464, 0.0021216096306010826, 0.08020829018819405, 0.007035814928788952, 0.014071629857577903, 0.8696267251983144, 0.026736096729398015, 0.9824917553401207, 0.998435771216481, 0.027139913341462367, 0.13065028050424907, 0.0037869646522970743, 0.0012623215507656914, 0.0012623215507656914, 0.5446917491553959, 0.24741502395007553, 0.042287771950650664, 0.0018934823261485371, 0.983050878097914, 0.9832934849922392, 0.9945100898614219, 0.22674200054083246, 0.31652169633773475, 0.08809029291900357, 0.2727178931465042, 0.009895073999120948, 0.0351154455334658, 0.015807984071766392, 0.026909774412243553, 0.007360969682272901, 0.0008447014389493492, 0.9906435242535008, 0.1927504815145033, 0.20238800559022846, 0.31461627508073814, 0.04651152923502145, 0.04567348366321926, 0.06564690312450475, 0.01829732831768111, 0.07689068121285077, 0.036664493766345736, 0.0005586970478681255, 0.002703441163967583, 0.12706173470647641, 0.002703441163967583, 0.008110323491902749, 0.843473643157886, 0.013517205819837915, 0.005406882327935166, 0.00046578108852799073, 0.003726248708223926, 0.0027946865311679445, 0.9720851317579167, 0.0013973432655839722, 0.01863124354111963, 0.0009315621770559815, 0.9855230233827026, 0.9907636814395709, 0.9879131850398929, 0.9823406025511531, 0.2784236732554249, 0.3613114453225719, 0.07455847395067652, 0.02161115186976131, 0.00346678894577421, 0.1864862313428153, 0.03700909757696624, 0.016208363902320982, 0.020035338712591215, 0.0008104181951160491, 0.994080964262497, 0.9979796482072922, 0.002193076768243414, 0.9967533911666318, 0.8340999696205432, 0.017890609453252833, 0.009144089276107003, 0.013517349364679918, 0.025046853234553967, 0.009541658375068178, 0.025841991432476313, 0.06361105583378784, 0.0011927072968835222, 0.8395062203885492, 0.005428887769131152, 0.0037001357979553106, 0.0023959895740858156, 0.10278491983008645, 0.001334475205819948, 0.0030328981950453362, 0.03524227702642681, 0.00639941519154566, 0.00021230287365317356, 0.024720671555059318, 0.9723464144989998, 0.15292428945824543, 0.29754499758844133, 0.046443070075022096, 0.08226244050974554, 0.11160990196819509, 0.06667287360463295, 0.007448800897220898, 0.22321980393639018, 0.0110714417707327, 0.0008547804308286276, 0.1704813203454942, 0.028544975932039272, 0.5677453776538197, 0.09415110846092511, 0.09399340141157682, 0.0014193634441345493, 0.00678140312197618, 0.031225995770960087, 0.004415797381751931, 0.001261656394786266, 0.9961969577589822, 0.997443724709982, 0.04455866990753942, 0.9490996690305897, 0.0007221361180962029, 0.857897708298289, 0.09243342311631397, 0.0021664083542886087, 0.009387769535250638, 0.0007221361180962029, 0.03610680590481014, 0.9848657536626194, 0.008872664447410986, 0.004008187580760077, 0.0020040937903800385, 0.03607368822684069, 0.07615556403444146, 0.8537439547018963, 0.02204503169418042, 0.004008187580760077, 0.23523422581958106, 0.07931864804494965, 0.46074802908463397, 0.012442140869796024, 0.003888169021811257, 0.09759304244746256, 0.05054619728354635, 0.027217183152678803, 0.033049436685395686, 0.03430976948592045, 0.8159292055870456, 0.04074285126453053, 0.013938343853655182, 0.013938343853655182, 0.057897736007490756, 0.001072180296435014, 0.022515786225135295, 0.991752074755299, 0.600357465516384, 0.22079714040600906, 0.08609199621413952, 0.023958627121948756, 0.003678295450257693, 0.04712194711951747, 0.006461870385587839, 0.010239579226393037, 0.0010935472960225574, 0.00019882678109501043, 0.9853966591963975, 0.001116763268344745, 0.001116763268344745, 0.001116763268344745, 0.00893410614675796, 0.001116763268344745, 0.9872187292167547, 0.8655905357593238, 0.12983858036389856, 0.18696673987622878, 0.07941060457108641, 0.44500094485594877, 0.11067224763641283, 0.038599585006705295, 0.005729625899432817, 0.023521622113461038, 0.1045405427264935, 0.0053275468889463036, 0.00020103950524325673, 0.9806807231601204, 0.007264301653037929, 0.007264301653037929, 0.010493548384580064, 0.06086258063056437, 0.049494569880602635, 0.1713946236148077, 0.4067998923755538, 0.015390537630717427, 0.022036451607618135, 0.0717059139612971, 0.18905876339551747, 0.00279827956922135, 0.0026620876585155932, 0.9343927681389732, 0.013310438292577966, 0.0026620876585155932, 0.00798626297554678, 0.026620876585155932, 0.00798626297554678, 0.9969050772413168, 0.015348604102002191, 0.054310445284007754, 0.009445294832001348, 0.02361323708000337, 0.007083971124001011, 0.7072164505461009, 0.16883464512202412, 0.002361323708000337, 0.0035419855620005057, 0.008264632978001181, 0.09206133028987601, 0.02707686184996353, 0.8772903239388185, 0.0009344276881694589, 0.0006229517921129725, 0.9939195843162477, 0.00031147589605648625, 0.00031147589605648625, 0.0037377107526778354, 0.00031147589605648625, 0.9987402395670134, 0.0022305503029540013, 0.01472163199949641, 0.017621347393336612, 0.39569962374403983, 0.10974307490533687, 0.36001081889677583, 0.05665597769503164, 0.01405246690861021, 0.023866888241607816, 0.005353320727089604, 0.9882335036935274, 0.03421172875537377, 0.05581913639034667, 0.009003086514572043, 0.023408024937887312, 0.0072024692116576345, 0.0036012346058288173, 0.8480907496726865, 0.016205555726229677, 0.003013084500410624, 0.030130845004106243, 0.029126483503969368, 0.9149733266246929, 0.014061061001916246, 0.005021807500684374, 0.0010043615001368747, 0.003013084500410624, 0.007394839827246207, 0.007942605740375554, 0.01396803078479839, 0.11996073497532735, 0.03533090139684299, 0.40972890302075277, 0.3922003938006136, 0.008216488696940229, 0.004929893218164138, 0.0005477659131293486, 0.05930097946941233, 0.42321793250510686, 0.014059198779982256, 0.014780183332801858, 0.00504689186973722, 0.08345396198886902, 0.015501167885621461, 0.2793815142175961, 0.1036415294678179, 0.001261722967434305, 0.9941292786182266, 0.9963822459340872, 0.9957686014926468, 0.0029546077091076274, 0.1625034240009195, 0.0029546077091076274, 0.8272901585501357, 0.008331936922332184, 0.9908595755327351, 0.9954931450324229, 0.07662474274316856, 0.06599110497472883, 0.0018765243120775973, 0.09726651017602213, 0.013448424236556114, 0.062238056350573646, 0.5213610047055591, 0.011259145872465584, 0.14855817470614313, 0.0009382621560387987, 0.9939207185783162, 0.9882749129727377, 0.12286336317225587, 0.026479173097468937, 0.05754806953183249, 0.012003891804185918, 0.65633043717593, 0.0017652782064979291, 0.010238613597687988, 0.10556363674857616, 0.0035305564129958582, 0.0035305564129958582, 0.004428424738056299, 0.02214212369028149, 0.9742534423723856, 0.14084050977876103, 0.015802366565590836, 0.2548323384994794, 0.06612446592009369, 0.21279497501431544, 0.011046314492451846, 0.033752627615825086, 0.03636078520432066, 0.22537549985294114, 0.0027615786231129616, 0.5902886312420923, 0.0880639796678266, 0.05443068854007733, 0.09505060536103056, 0.07084113493574243, 0.04549430683946762, 0.015760527726529854, 0.037532803142560786, 0.0016247966728381291, 0.0008123983364190646, 0.9903075024327948, 0.3257271328454716, 0.12657034165439937, 0.019879203516324974, 0.028268592156241935, 0.14499052105943444, 0.2639009861295618, 0.02243249571108231, 0.005106584389514672, 0.06292041479937721, 0.00036475602782247657, 0.010595673363430739, 0.08299944134687412, 0.0176594556057179, 0.5550955545397326, 0.10065889695259202, 0.005886485201905966, 0.2107361702282336, 0.011184321883621336, 0.002943242600952983, 0.0011772970403811933, 0.02067304516112501, 0.0008988280504836961, 0.006291796353385872, 0.016178904908706528, 0.0683109318367609, 0.11055585020949461, 0.014381248807739137, 0.02696484151451088, 0.7253542367403427, 0.009887108555320656, 0.9971393032778508, 0.9960415710958472, 0.9900296211928534, 0.06754036150629814, 0.06867232287232548, 0.6210694694936689, 0.0490516591945182, 0.008678370472876297, 0.08074657744328381, 0.06188055467616142, 0.03810936598958722, 0.003395884098082029, 0.001131961366027343, 0.12989953606044044, 0.058217170124648616, 0.03326695435694207, 0.004752422050991724, 0.0015841406836639078, 0.7421699102965408, 0.022574004742210687, 0.00039603517091597694, 0.007128633076487585, 0.02419568280512046, 0.011571848298101088, 0.9246958776391688, 0.021039724178365617, 0.0042079448356731235, 0.01262383450701937, 0.0010519862089182809, 0.08060130766181457, 0.007916199859642504, 0.000719654532694773, 0.000719654532694773, 0.9096433293261931, 0.0032926576888135687, 0.00047037966983050984, 0.0037630373586440787, 0.0009407593396610197, 0.9826231302759351, 0.004703796698305098, 0.0037630373586440787, 0.0030152547323909445, 0.015076273661954723, 0.0030152547323909445, 0.015076273661954723, 0.18242291130965213, 0.0015076273661954723, 0.024122037859127556, 0.04070593888727775, 0.7146153715766539, 0.11578643759155871, 0.21578381551154124, 0.10971372233326018, 0.006477562942185103, 0.006477562942185103, 0.5161807969553753, 0.007287258309958241, 0.0020242384194328446, 0.013359973568256774, 0.00769210599384481, 0.9879670252460176, 0.008233058543716813, 0.006093068835366141, 0.014623365204878738, 0.1129248757487858, 0.1819796558829354, 0.18969754307439918, 0.051181778217075584, 0.012186137670732282, 0.4110790440927023, 0.012186137670732282, 0.008530296369512597, 0.9801557127322337, 0.1085978954591812, 0.021719579091836243, 0.8253440054897772, 0.003102797013119463, 0.037233564157433556, 0.40312793924409973, 0.14089455606332504, 0.14287734369004404, 0.06597628632435502, 0.1424885618024521, 0.006026119257675326, 0.019711241700912197, 0.07449060966261888, 0.0032657678557724353, 0.001127467474016674, 0.9876310043786187, 0.9935618862224123, 0.989769515183157, 0.013385598746580034, 0.8884691168042498, 0.04684959561303012, 0.01505879858990254, 0.0033463996866450085, 0.0016731998433225043, 0.005019599529967513, 0.020078398119870052, 0.005019599529967513, 0.9952088949242641, 0.9964552388666837, 0.9910333181550305, 0.9896575342303193, 0.38079025007365763, 0.12001940737933577, 0.16179212867895884, 0.08637487569220093, 0.12737593342101816, 0.05056968600680971, 0.0301977677375354, 0.019445921984307293, 0.010854734229335554, 0.01250094984705469, 0.008094757131970378, 0.008094757131970378, 0.0013491261886617297, 0.012142135697955568, 0.8863759059507564, 0.08094757131970379, 0.004047378565985189, 0.00076556889631346, 0.9986846252409085, 0.9865252229189048, 0.0050461597714241595, 0.025735414834263212, 0.06383392110851561, 0.2813234072568969, 0.1042031992799089, 0.09259703180563333, 0.023464642937122342, 0.13145246204559935, 0.26391415604548357, 0.008073855634278655, 0.9890426992967691, 0.9828621997588415, 0.9925499560417504, 0.9962477440102863, 0.042967034858370334, 0.9530869550402147, 0.9865301838082909, 0.9939356917764501, 0.0016290398019388154, 0.0065161592077552614, 0.021177517425204597, 0.8454716572062452, 0.002443559702908223, 0.0032580796038776307, 0.1172908657395947, 0.0016290398019388154, 0.0016290398019388154, 0.9945897306516625, 0.9966850413097169, 0.43057645302102543, 0.13565969870135386, 0.030157756854162308, 0.058173342300259806, 0.08541908489658402, 0.17589235545907095, 0.024367199766737135, 0.030325113995417367, 0.026877556885563078, 0.002610771403578979, 0.03185722025986631, 0.03805167975484031, 0.020353224054914583, 0.0358393727923496, 0.1517642576268631, 0.006194459494974004, 0.018583378484922013, 0.6787357760921516, 0.01814091709242387, 0.0008849227849962863, 0.10745451601767053, 0.30191310593946497, 0.10207282072463195, 0.0749849544163377, 0.04502685061842288, 0.28630618958965304, 0.03569857877715599, 0.03354590065994055, 0.012557289017090046, 0.0005381695293038591, 0.9831826028598681, 0.007229283844557854, 0.24797992898716342, 0.02590835078970364, 0.5082971678741857, 0.017683477523131055, 0.018094721186459686, 0.11062454543540126, 0.050171726926092765, 0.02015093950310283, 0.0012337309899858877, 0.007401081335372711, 0.9917448989399433, 0.22455843294991118, 0.5005488321921829, 0.1517399492337495, 0.056074405440454014, 0.010067311860472208, 0.014761913246184637, 0.017787323028088203, 0.010693258711900532, 0.012675423741423558, 0.0010432447523805398, 0.9951224312873382, 0.0007084681769256853, 0.012043959007736652, 0.007084681769256854, 0.09280933117726478, 0.013460895361588022, 0.004250809061554112, 0.23521143473932754, 0.02125404530777056, 0.6121165048637922, 0.0007084681769256853, 0.9956020802340204, 0.9950563901692315, 0.9975052901118906, 0.10259798156155023, 0.024662976336911113, 0.14501830086103734, 0.6767520706848409, 0.007892152427811557, 0.022689938229958222, 0.013811266748670222, 0.005919114320858667, 0.0009865190534764446, 0.0009865190534764446, 0.9937616332206514, 0.5674429618000019, 0.23461082970656644, 0.021363784604040478, 0.018628178038888953, 0.0066436159439394165, 0.09483436092525284, 0.030221939195959696, 0.002084271668686876, 0.024099391169192002, 0.00013026697929292974, 0.9962998717950328, 0.994237742350481, 0.0030520531996029855, 0.9945624026439595, 0.002034702133068657, 0.9936143962054619, 0.037047924366589595, 0.0063329785242033495, 0.004749733893152512, 0.03419808403069809, 0.266618395868961, 0.0003166489262101675, 0.43760881602245144, 0.05003053034120646, 0.16212425021960575, 0.00126659570484067, 0.9962332629929826, 0.06257807834376734, 0.0031289039171883675, 0.9011243281502498, 0.009386711751565103, 0.02190232742031857, 0.07000852654308613, 0.0023225577526142316, 0.006801776275513108, 0.004811012487558052, 0.07896696358888389, 0.7954760302703744, 0.0018248668056254679, 0.03301349948358801, 0.0031520426642621716, 0.003483836628921348, 0.03583937997266716, 0.0014529478367297495, 0.06150812508822607, 0.0004843159455765832, 0.002905895673459499, 0.8199468958611553, 0.01356084647614433, 0.046494330775351984, 0.016951058095180414, 0.0014529478367297495, 0.9918140922995261, 0.993255163704252, 0.004752417051216517, 0.04624514057505731, 0.33362565700577057, 0.005945803788221654, 0.02047999082609681, 0.5503171728431819, 0.04029933678683566, 0.0013212897307159231, 0.0006606448653579616, 0.832120212003696, 0.14519546418837054, 0.001001348028885314, 0.003004044086655942, 0.011014828317738454, 0.006008088173311884, 0.6841417657473389, 0.23461651774600098, 0.0009384660709840039, 0.0037538642839360157, 0.00046923303549200197, 0.0014076991064760058, 0.011730825887300048, 0.06240799372043626, 0.22589528356227975, 0.41453883222968185, 0.07068767108093298, 0.07755610875681311, 0.01678951431881809, 0.07078306604865353, 0.03582081037906928, 0.009491799288195454, 0.07650676411188698, 0.0018602018705508678, 0.9883094722238904, 0.07165141837751125, 0.7011723506636924, 0.027986201060392627, 0.04804859820609578, 0.02579451061590405, 0.0171963404106027, 0.01938803085509128, 0.0043833808889771585, 0.08345282846321898, 0.0008429578632648382, 0.003850770956583482, 0.011552312869750446, 0.03722411924697366, 0.946647860160106, 0.0012653839098148328, 0.01898075864722249, 0.22346679847329948, 0.16627144574966904, 0.04656612788118585, 0.46135897351848804, 0.04757843500903772, 0.009869994496555696, 0.02075229612096326, 0.0037961517294444985, 0.006471359937039664, 0.012942719874079328, 0.8962833512799935, 0.03559247965371815, 0.04529951955927765, 0.0017178185824598528, 0.045350410576940114, 0.008245529195807294, 0.13158490341642473, 0.009963347778267146, 0.6565502622161558, 0.13570766801432838, 0.005840583180363499, 0.004122764597903647, 0.00034356371649197053, 0.9931234988346107, 0.9923450052960774, 0.006465398117981672, 0.9892059120511959, 0.9968600118681425, 0.9943388587779258, 0.018966371381689648, 0.9767681261570169, 0.9917610463321354, 0.007265648691077915, 0.9904462883147799, 0.981571590303333, 0.010669256416340575, 0.9986620940492767, 0.9961732419810051, 0.002611201158534745, 0.9825604442103892, 0.010797367518795486, 0.008810419095277246, 0.011747225460369663, 0.9250940050041109, 0.049925708206571065, 0.984506137157193, 0.012869361270028667, 0.9937111777442582, 0.008699645445959893, 0.008699645445959893, 0.980160053578148, 0.9874536896315791, 0.9923716301240301, 0.9939112661643664, 0.9982450633096072, 0.00719526294987258, 0.00119921049164543, 0.07794868195695295, 0.10672973375644328, 0.00479684196658172, 0.00239842098329086, 0.00119921049164543, 0.7914789244859838, 0.00599605245822715, 0.9946742448544889, 0.9963474512884314, 0.9931008690254585, 0.1540831254750661, 0.20955981609616564, 0.1408904978273656, 0.3216971511016199, 0.06511745697903452, 0.01894326021208277, 0.06291868570441778, 0.01014817511361577, 0.015729671426104444, 0.0008456812594679808, 0.9983791261046175, 0.9938754325781833, 0.25377089031452965, 0.39209118014937644, 0.01873661296567646, 0.012536998381445277, 0.001102153703863321, 0.2951016542094042, 0.007577306714060332, 0.0017909997687778967, 0.016532305557949815, 0.0008266152778974908, 0.22050665916154813, 0.6192187000128372, 0.01764053273292385, 0.022320674070230178, 0.0018000543605024336, 0.06588198959438907, 0.013140396831667765, 0.001980059796552677, 0.03726112526240038, 0.00036001087210048673, 0.009932615943888232, 0.038003052307050623, 0.029797847831664694, 0.6585756223665024, 0.08809798489361736, 0.05657272559345036, 0.01381929174801841, 0.07902907468398028, 0.02591117202753452, 0.0004318528671255753, 0.13258192945872782, 0.07257116138793523, 0.04279837722878232, 0.08140995668518375, 0.14886392079576458, 0.047915574506136725, 0.023259987624338216, 0.4405441656049658, 0.009769194802222051, 0.0004651997524867643, 0.9982947406990622, 0.037842173362980236, 0.03946398079282224, 0.042707595652506265, 0.022164701541174135, 0.7108922567474144, 0.042707595652506265, 0.049735427848488306, 0.029733136213770182, 0.02270530401778814, 0.0010812049532280066, 0.003804992316886813, 0.003804992316886813, 0.060879877070189006, 0.7064602401686516, 0.12302808491267361, 0.015219969267547252, 0.0025366615445912085, 0.052001561664119775, 0.03297660007968571, 0.9934888192754486, 0.9910305572805649, 0.0055057253182253605, 0.0036611842918399377, 0.12814145021439782, 0.010068256802559829, 0.005491776437759907, 0.006407072510719891, 0.8082064324236663, 0.01647532931327972, 0.0009152960729599844, 0.020136513605119657, 0.0009152960729599844, 0.009898978130199644, 0.0008249148441833037, 0.008249148441833037, 0.0016498296883666074, 0.27799630248977336, 0.10723892974382948, 0.005774403909283126, 0.5229960112122145, 0.06516827269048099, 0.007328074356552673, 0.007328074356552673, 0.9379935176387422, 0.025648260247934356, 0.007328074356552673, 0.018320185891381683, 0.040038124616338634, 0.14972590351318302, 0.0075071483655634935, 0.009175403557910937, 0.0008341275961737215, 0.3699355889030455, 0.40538601174042865, 0.0008341275961737215, 0.01668255192347443, 0.0004170637980868608, 0.0026189361230048573, 0.0026189361230048573, 0.992576790618841, 0.001255280102165608, 0.9979476812216582, 0.00676669374577882, 0.00512628314074153, 0.005331334466371191, 0.02050513256296612, 0.9333936342662178, 0.003280821210074579, 0.009022258327705092, 0.011277822909631365, 0.003075769884444918, 0.0024606159075559342, 0.9949099269869194, 0.13291027193871752, 0.5636322811168637, 0.12054652571186007, 0.06707332328070163, 0.006181873113428721, 0.06815515107555166, 0.027200241699086376, 0.009272809670143083, 0.003245483384550079, 0.0017000151061928985, 0.029367844162437023, 0.966202072944178, 0.0029367844162437023, 0.0038421826449357, 0.0038421826449357, 0.9874409397484749, 0.32667387218462357, 0.47694540417935427, 0.07118125199750402, 0.04094085082209382, 0.016283292940605494, 0.012096160470164081, 0.018919635607179717, 0.016128213960218775, 0.02047042541104691, 0.0003876974509667975, 0.3611655804211206, 0.26009697139407945, 0.25834374042116137, 0.033723913420247414, 0.025679677191564543, 0.014335241484447677, 0.01567594752256149, 0.02588593965896667, 0.0045377742828467465, 0.0004125249348042497, 0.010643024965085544, 0.04966744983706587, 0.010643024965085544, 0.662528304076575, 0.12328170584557421, 0.13392473081065975, 0.00886918747090462, 0.9933110515495416, 0.2610677107984009, 0.3803830464276375, 0.11316640934132637, 0.05174256057167004, 0.0030090490345092563, 0.15732093321727741, 0.015568558048113109, 0.008634662446852648, 0.0077188649146107, 0.001308282188917068, 0.011005728338818492, 0.0031444938110909977, 0.9857988097770278, 0.10861733251800082, 0.30743427595312406, 0.2792173819620347, 0.08276168488599844, 0.04368305764310902, 0.11086051655913344, 0.03789800406334594, 0.023494401272915393, 0.004368305764310902, 0.0017709347693152307, 0.9696249560883196, 0.022375960525115066, 0.9919356097121801, 0.008406233980611695, 0.19803437212990083, 0.6311016640818313, 0.02523272601225651, 0.03288759794855905, 0.01998772116701218, 0.0635070856937692, 0.018995422953047035, 0.006946087497756006, 0.0022681102033488996, 0.0008505413262558375, 0.12120337887155441, 0.7274926403728581, 0.0751733316147169, 0.007898647162415905, 0.0005447342870631659, 0.046574781543900684, 0.01198415431538965, 0.0016342028611894977, 0.006809178588289573, 0.01128352796120341, 0.07898469572842387, 0.010531292763789848, 0.6378954474066995, 0.04062070066033228, 0.009026822368962729, 0.02407152631723394, 0.0248237615146475, 0.1624828026413291, 0.0007522351974135606, 0.008989014532767573, 0.07244088182289163, 0.005816421168261371, 0.19828708528163766, 0.007402717850514473, 0.049703962710597176, 0.6456227496770123, 0.0010575311215020675, 0.009517780093518608, 0.0010575311215020675, 0.5800675956833503, 0.13433926607392685, 0.15449234178498453, 0.024262379652141036, 0.017049239755558564, 0.04725699532245849, 0.020415371707297052, 0.01980334771607187, 0.0015300599780629482, 0.0007431719893448605, 0.3326920684872403, 0.05421648523495769, 0.009241446346867787, 0.018482892693735573, 0.06961889581307067, 0.0018482892693735575, 0.012938024885614902, 0.498422006307736, 0.0024643856924980766, 0.017127038938008987, 0.05138111681402696, 0.0017127038938008988, 0.0017127038938008988, 0.0017127038938008988, 0.006850815575203595, 0.91458387928968, 0.006850815575203595, 0.021573457199833508, 0.027737302114071653, 0.9430682718784362, 0.006163844914238145, 0.19674284987271085, 0.1725283452729926, 0.11300102146535188, 0.30187415734315426, 0.028048467828006983, 0.10331521962546457, 0.05952732380764072, 0.01695015321980278, 0.002825025536633797, 0.005448263534936608, 0.9933877700267938, 0.9931516335235806, 0.22290460570637174, 0.6092725889307494, 0.03573550027991039, 0.052081838031710986, 0.007430153523545725, 0.02342267444089176, 0.010968321868091309, 0.02589939228207367, 0.011605192170109514, 0.0007076336689091166, 0.2081356847691736, 0.06466694450383492, 0.018198620994248623, 0.015018279461273137, 0.013781479976227114, 0.5212226401265383, 0.10495127058819109, 0.00795085383243872, 0.04505483838381941, 0.0010601138443251626, 0.9859141719915653, 0.9887030523056412, 0.01280221229452557, 0.010241769835620456, 0.005120884917810228, 0.05889017655481762, 0.8884735332400745, 0.017923097212335797, 0.002560442458905114, 0.05761796419701138, 0.1583457721097723, 0.024249287090109106, 0.043109843715749524, 0.03129608846672201, 0.617216897045683, 0.036477560067172676, 0.0066322836485768494, 0.022383957313946868, 0.0024871063682163188, 0.9893484089447817, 0.024334957297677907, 0.1748511746573894, 0.05407768288372868, 0.018927189009305036, 0.005407768288372868, 0.6813788043349813, 0.02613754672713553, 0.011716831291474548, 0.0018025894294576227, 0.0009012947147288114, 0.9903606263954554, 0.17853248547452596, 0.5877867634287496, 0.07809622918759496, 0.06889739449963304, 0.004693283004062197, 0.026094653502585816, 0.02647011614291079, 0.014455311652511566, 0.014643042972674054, 0.00018773132016248787, 0.9944135863122566, 0.9920947239140439, 0.22373425962900514, 0.22359800246723352, 0.026570146545466508, 0.05818180807648307, 0.013216944691847442, 0.06622098062100883, 0.3302873601344144, 0.052595264443846525, 0.005450286470864925, 0.00013625716177162312, 0.045433197850672166, 0.18480260206827462, 0.009823394129875063, 0.03499584158767991, 0.0006139621331171914, 0.042363387185086206, 0.6802700434938481, 0.0012279242662343829, 0.0004621084017397604, 0.005083192419137365, 0.001155271004349401, 0.9889119797230873, 0.0002310542008698802, 0.0002310542008698802, 0.003465813013048203, 0.0002310542008698802, 0.0002310542008698802, 0.0021675242550162907, 0.003251286382524436, 0.9244490947644479, 0.0021675242550162907, 0.06719325190550501, 0.9928489800070078, 0.005266685125160821, 0.0007523835893086887, 0.8705078128301529, 0.012038137428939019, 0.11060038762837725, 0.0015047671786173774, 0.9807283224875729, 0.008454554504203215, 0.9984437999085328, 0.006630642872805793, 0.11272092883769848, 0.011603625027410138, 0.04641450010964055, 0.0016576607182014482, 0.787388841145688, 0.011603625027410138, 0.016576607182014483, 0.004972982154604345, 0.9827843885610988, 0.9941391297847588, 0.9945200086947381, 0.1356476044066721, 0.047432244287468985, 0.10813582593800393, 0.050608750999115604, 0.1646399580375484, 0.008318140456769534, 0.021266443238990067, 0.46118570325364283, 0.0019651270334762974, 0.000780666903709762, 0.9944957230750404, 0.11069918900575479, 0.08018756743469253, 0.48969891810746197, 0.11725540521110701, 0.05118891883409618, 0.03656351345292584, 0.020677297263033925, 0.08750027012527771, 0.0057997297201192715, 0.0002521621617443162, 0.0014789412523127984, 0.8622227500983615, 0.010352588766189589, 0.12571000644658786, 0.031890044549051026, 0.07441010394778573, 0.09330790812500116, 0.009448902088607712, 0.002362225522151928, 0.7511877160443131, 0.015354465893987531, 0.01771669141613946, 0.004724451044303856, 0.001181112761075964, 0.0027176876922521504, 0.004529479487086918, 0.01540023025609552, 0.029894564614773658, 0.9466612128011658, 0.5870269803927501, 0.007483735773428043, 0.08108524723319742, 0.0876077692375613, 0.14953739921583742, 0.00411948758170351, 0.006797154509810791, 0.04600094466235586, 0.026227404270179014, 0.00398217132898006, 0.671804376408081, 0.10519378435152799, 0.016548704073808915, 0.03401002050462935, 0.10312519634230187, 0.003346245309042244, 0.024823056110713372, 0.03705206169466775, 0.0037721310756476203, 0.0003650449428046084, 0.9959862435086263, 0.9925442631913433, 0.9987452897932138, 0.021331108649362683, 0.04723316915216023, 0.034282138900761455, 0.025902060502797544, 0.8616244243724712, 0.009141903706869722, 0.3520234080766957, 0.14732281838290479, 0.1603161253073807, 0.029879005362965103, 0.10333039342956067, 0.0726673092004634, 0.029234940580070822, 0.0581618501770183, 0.04572859958549392, 0.001344135199083716, 0.03453257884465254, 0.09082938805358189, 0.022054420102467165, 0.10403302114124315, 0.0184270483750877, 0.05774775789988113, 0.6596012749066825, 0.004497940941950541, 0.007835122931139651, 0.0004352846072855362, 0.06213147786794091, 0.05364146225865706, 0.01312093321434777, 0.03241642323544743, 0.21456584903462825, 0.006946376407595878, 0.02161094882363162, 0.5827237986372098, 0.01196320381308179, 0.0007718196008439864, 0.13146358030722358, 0.19205329828105236, 0.19007081262137698, 0.3004704827945497, 0.020816099426591482, 0.03395006692194087, 0.012638346080430542, 0.11039967017317268, 0.007434321223782672, 0.0004956214149188449, 0.020436632626518292, 0.0006386447695786966, 0.9413623903589988, 0.037680041405143104, 0.1074357775783963, 0.6150860766458921, 0.07382147206121441, 0.07391432925877568, 0.034914306283039764, 0.05320717420261113, 0.023214299390318993, 0.006964289817095699, 0.011421435300036946, 0.00027857159268382793, 0.60699359996223, 0.0238496817585497, 0.03379060456667506, 0.05153920494513065, 0.12462418679199226, 0.004010501047054869, 0.030164087662423324, 0.11715782845970925, 0.005461107808755566, 0.0024318995710864632, 0.41928924570800813, 0.10698661138392117, 0.10031822773287305, 0.14383820524497656, 0.09768597102851194, 0.014857626731282655, 0.04697115852448808, 0.038664926257393054, 0.02603009407645977, 0.005381502595582694, 0.1395227358458888, 0.8237359263217731, 0.01970660110817639, 0.0023647921329811666, 0.001839282770096463, 0.008408149806155259, 0.0005255093628847037, 0.001839282770096463, 0.0021020374515388148, 0.00026275468144235185, 0.2592451797201568, 0.06521656036250217, 0.09177703332084436, 0.14801540564109003, 0.2075707196547249, 0.007806035714517469, 0.0401773914890979, 0.17073520927024471, 0.007382065723633134, 0.002094910543193187, 0.4071111205798973, 0.009504104710049786, 0.020014526389398962, 0.013417559590658521, 0.13182752297821998, 0.006149714812385155, 0.0031307639044869883, 0.4076701855628414, 0.00044725198635528403, 0.0007826909761217471, 0.008885308334579867, 0.24256891753403034, 0.006219715834205906, 0.006219715834205906, 0.0008885308334579867, 0.025767394170281614, 0.7090476050994733, 0.0008885308334579867, 0.0008885308334579867, 0.002894467655427808, 0.014472338277139039, 0.016787912401481284, 0.06078382076398396, 0.06078382076398396, 0.2512397924911337, 0.023155741243422463, 0.053837098390957225, 0.5094263073552942, 0.0075256159041123, 0.9915694047695612, 0.05601095360798527, 0.8079155732545754, 0.08825968447318891, 0.015275714620359619, 0.022064921118297227, 0.00848650812242201, 0.0016973016244844021, 0.9920490316560524, 0.021538692273593917, 0.9423177869697339, 0.03230803841039088, 0.002650431155714437, 0.0004417385259524062, 0.05521731574405077, 0.04063994438762137, 0.0022086926297620307, 0.8702248961262402, 0.0022086926297620307, 0.026062573031191964, 0.9775628821068251, 0.015394691056800395, 0.003994585684713831, 0.9946518354937438, 0.001497131844217327, 0.22007838109994704, 0.002994263688434654, 0.774017163460358, 0.009949995700966954, 0.9850495743957285, 0.19487136723085466, 0.1354378096513763, 0.09080740581845949, 0.07556236688543344, 0.05346810756220729, 0.11091318180259528, 0.31771544906799204, 0.010826187068380814, 0.009942416695451768, 0.00044188518646452306, 0.10034064145570566, 0.05709992303832974, 0.5227691983023781, 0.039914509308347, 0.1081017960434398, 0.01164173188160121, 0.008315522772572291, 0.03658830019931809, 0.11586295063117394, 0.0005543681848381528, 0.26727023800048244, 0.19912357695515148, 0.027790305036216528, 0.050264203891591634, 0.008699573750467782, 0.006283025486448954, 0.003141512743224477, 0.01184108649369226, 0.42072105276567806, 0.004833096528037657, 0.9959306082172646, 0.9678969758124791, 0.022250505191091476, 0.06689523916898457, 0.1108779953868023, 0.3632607221654842, 0.07184617769612112, 0.06712551537954906, 0.14208042191829082, 0.04893369474495429, 0.10949633812341536, 0.0175009920029013, 0.0019573477897981716, 0.996266646817775, 0.21689003900345533, 0.14980340345744728, 0.26913682977554276, 0.007639446717935471, 0.029416260350671068, 0.17711223023075684, 0.04987592799755572, 0.010273738689637357, 0.085175440418361, 0.004741725549063396, 0.6207210444010753, 0.302508291320835, 0.011712545502126298, 0.015616727336168397, 0.0013160163485535167, 0.018555830514604583, 0.016143133875589806, 0.004474455585081956, 0.008466371842360957, 0.00043867211618450557, 0.22674921344767843, 0.1900395678352211, 0.005595982562874591, 0.017459465596168722, 0.0020145537226348527, 0.10162304334180257, 0.45081235526517704, 0.0004476786050299673, 0.00492446465532964, 0.0004476786050299673, 0.014810651152197553, 0.03845572579868838, 0.020527042824975555, 0.6521883226669448, 0.05560490081702239, 0.10263521412487778, 0.08860407092805904, 0.025983598512627284, 0.0005196719702525457, 0.0005196719702525457, 0.05761743315129229, 0.18257991803786128, 0.21400760884765707, 0.003741391763070928, 0.0067345051735276705, 0.013469010347055341, 0.0007482783526141856, 0.0014965567052283712, 0.0007482783526141856, 0.520053455066859, 0.19235112598087356, 0.5995625522595315, 0.025783236035734118, 0.08512560468940787, 0.03601467890705718, 0.0055249791505144535, 0.03683319433676303, 0.016984195166396283, 0.0014324020019852288, 0.0006138865722793837, 0.046636400855798565, 0.0010732226138363686, 0.7475483333831143, 0.029074576265748896, 0.06419822544584823, 0.0006829598451685983, 0.011903014444366998, 0.07941847342389129, 0.013171368442537253, 0.00634176999085127, 0.0017909497909537524, 0.8130912050930036, 0.03581899581907505, 0.0017909497909537524, 0.06984704184719634, 0.0017909497909537524, 0.07342894142910385, 0.011731396771778072, 0.028448637171561826, 0.11027512965471388, 0.10499600110741375, 0.5680928886733532, 0.026395642736500663, 0.03607404507321757, 0.10763556538106381, 0.004985843628005681, 0.001466424596472259, 0.9919971049342323, 0.9960246743173428, 0.0035296523494648463, 0.0008824130873662116, 0.0008824130873662116, 0.035296523494648464, 0.22678016345311638, 0.05206237215460648, 0.03970858893147952, 0.6362198359910386, 0.004412065436831058, 0.9860938996314177, 0.005904753890008489, 0.0019682512966694965, 0.003936502593338993, 0.9988985033214092, 0.608918094881955, 0.28432322297478235, 0.01874560050527745, 0.009417646186861877, 0.04385932367024245, 0.01103209981889534, 0.007803192554828412, 0.012556861582482502, 0.0031392153956206256, 0.00026907560533891075, 0.009555907325565258, 0.03631244783714798, 0.0019111814651130517, 0.9498571881611867, 0.99325498161441, 0.0065780717391522355, 0.002192690579717412, 0.8419931826114861, 0.13594681594247954, 0.004385381159434824, 0.004385381159434824, 0.0024581823943607547, 0.007374547183082265, 0.0036872735915411325, 0.006145455985901887, 0.9697529545753178, 0.0006145455985901887, 0.009832729577443019, 0.0006145455985901887, 0.1939582788217821, 0.17494121405528515, 0.013809071925879523, 0.45688300829052825, 0.017517794100258596, 0.04797666131962714, 0.011915256347473188, 0.03164250195587251, 0.05065956672236945, 0.0006312718594687782, 0.9965928195328873, 0.995405538611465, 0.0031092492441686117, 0.9856320104014499, 0.0015546246220843058, 0.006218498488337223, 0.0015546246220843058, 0.004489330747846718, 0.03479231329581207, 0.0011223326869616796, 0.9506157858565427, 0.005611663434808398, 0.0011223326869616796, 0.0011223326869616796, 0.9911838523195968, 0.011517714987538669, 0.017276572481308004, 0.06622686117834735, 0.012957429360981003, 0.05182971744392401, 0.0057588574937693345, 0.010078000614096335, 0.8220769072355725, 0.08729298375901622, 0.011096565732078333, 0.02071358936654622, 0.08618332718580839, 0.5404027511522148, 0.1031980613083285, 0.049564660269949885, 0.08655321271021099, 0.014795420976104444, 0.9958778408501303, 0.9951033918962179, 0.9891064210733156, 0.9981226336361766, 0.9946851540662625, 0.9892357842521777, 0.9958437332071809, 0.004492352481209277, 0.9928098983472503, 0.9947608747315738, 0.9951810934475819, 0.9850746821975782, 0.3837445443842801, 0.2741546885748188, 0.12123302778483669, 0.015844316502572717, 0.003000817519426651, 0.18629075160600647, 0.009122485259057019, 0.005761569637299169, 0.0007201962046623962, 0.00012003270077706603, 0.9766159774230441, 0.9874125328517753, 0.9933531940356475, 0.0034176238394423913, 0.0034176238394423913, 0.010252871518327173, 0.17315960786508117, 0.05696039732403985, 0.012531287411288767, 0.7404851652125181, 0.0035257947815175122, 0.014103179126070049, 0.0035257947815175122, 0.9766451544803508, 0.9929302109488107, 0.9987671892656366, 0.010372843112482872, 0.015559264668724308, 0.9698608310171486, 0.9954503740663136, 0.9969222024394295, 0.038877286361859706, 0.002744279037307744, 0.0009147596791025814, 0.11937613812288686, 0.0009147596791025814, 0.8164230135990539, 0.0009147596791025814, 0.013264015346987429, 0.006403317753718069, 0.9936634293817641, 0.9972251011853723, 0.9972939741567057, 0.0014954999955313886, 0.014954999955313885, 0.016450499950845274, 0.3275144990213741, 0.046360499861473045, 0.025423499924033605, 0.04486499986594166, 0.055333499834661376, 0.46659599860579326, 0.17867684385626856, 0.004187738527881294, 0.0013959128426270981, 0.0055836513705083924, 0.0027918256852541962, 0.8068376230384626, 0.0013959128426270981, 0.002718872333188722, 0.019032106332321056, 0.002718872333188722, 0.9271354656173543, 0.013594361665943612, 0.032626467998264665, 0.002718872333188722, 0.002718872333188722, 0.9937960552764281, 0.981532667403199, 0.16714191337596035, 0.1392849278133003, 0.0010714225216407714, 0.002142845043281543, 0.006428535129844628, 0.5351755495595654, 0.0005357112608203857, 0.14357061789986336, 0.004821401347383471, 0.9891810132975921, 0.9949754220082256, 0.004367646084302407, 0.9914556611366464, 0.9977608285836528, 0.29676403883836966, 0.33931888214349437, 0.10841686230203647, 0.021557387726938174, 0.1610504842846907, 0.02477699758226011, 0.012388498791130055, 0.021557387726938174, 0.012808447902693787, 0.0013998303718791023, 0.015135072893123245, 0.02162153270446178, 0.06090065045090068, 0.10126084483256266, 0.1473867812687478, 0.05513490839637753, 0.5538715961126293, 0.03999983550325429, 0.003243229905669267, 0.0014414355136307853, 0.9967132279181675, 0.007160639050439505, 0.035426319512700706, 0.010175644966414033, 0.041456331344649766, 0.05200885205056061, 0.188437869748408, 0.5841573962200648, 0.004522508873961792, 0.050501349092573346, 0.02675817750427394, 0.6386800062053973, 0.10965509454117847, 0.03801376610760854, 0.01242757738133356, 0.012671255369202846, 0.06067581897945209, 0.0031678138423007116, 0.09332866935393634, 0.029972392507922118, 0.0014620679272157131, 0.054270343662508595, 0.016698567280771875, 0.04487739956707442, 0.1753349564481047, 0.026091511376206057, 0.6554187657702961, 0.027135171831254298, 0.4246624857217757, 0.1612303531122681, 0.2676990687123811, 0.03569425883842888, 0.04553497863287884, 0.0063925315784746925, 0.010533506467979233, 0.039835233727933426, 0.00702233764531949, 0.0014013184987296738, 0.20467706366646174, 0.21341772118958466, 0.03714779447327242, 0.44407396138310623, 0.0060699010577242515, 0.017481315046245845, 0.05220114909642856, 0.0060699010577242515, 0.017966907130863782, 0.0009711841692358801, 0.9972268128259361, 0.9928551566446184, 0.0005236060272866509, 0.00010472120545733019, 0.00010472120545733019, 0.9991450212683873, 0.14869699795331837, 0.0151368201509366, 0.0017808023706984237, 0.7417041873958935, 0.01825322429965884, 0.006678008890119089, 0.0035616047413968475, 0.0151368201509366, 0.04897206519420665, 0.9895496478848125, 0.9917778646981739, 0.007386289899221312, 0.08678890631585041, 0.006647660909299181, 0.07755604394182378, 0.0025852014647274593, 0.17357781263170083, 0.3017299423831906, 0.0022158869697663937, 0.34013864985914144, 0.0011079434848831969, 0.005326621999771557, 0.008522595199634492, 0.8416062759639061, 0.03622102959844659, 0.06818076159707594, 0.03515570519849228, 0.005326621999771557, 0.0010653243999543115, 0.0035715931924430477, 0.0035715931924430477, 0.0035715931924430477, 0.07143186384886095, 0.9178994504578633, 0.9778208978260116, 0.01730656456329224, 0.5194374540745804, 0.21308386142097516, 0.0734915516185679, 0.06349836612935753, 0.04892497062425907, 0.04236694264696477, 0.008015367527804147, 0.02591982486263938, 0.004892497062425907, 0.0004163827287170985, 0.09453495408700953, 0.5064811584375543, 0.08383984224621652, 0.16325412097210487, 0.02089849440154957, 0.05396728848400154, 0.02827443360209648, 0.028766162882132938, 0.019546238881449303, 0.0003687969600273454, 0.9845819428794346, 0.006299913499981129, 0.9890864194970372, 0.6750268106406639, 0.057270306791354995, 0.04910586139029814, 0.011620925935810846, 0.08673978307473174, 0.035548114465185486, 0.053873420748579516, 0.021454017112266178, 0.008432620614960178, 0.0009535118716562746, 0.9957065905643262, 0.19869132266021727, 0.5117125087031636, 0.04909033487480499, 0.1194317230628439, 0.012453358274295867, 0.04053367257665977, 0.05375030119679958, 0.011127678199935338, 0.0021291225436699383, 0.001044475210102234, 0.9871516790163555, 0.11289850177766951, 0.3427885023763077, 0.01932804159335732, 0.02285256682508718, 0.01591721072394132, 0.4027054313157154, 0.04945704760653196, 0.006707967376518128, 0.026490786419130913, 0.000795860536197066, 0.23547844817100166, 0.11967945277413447, 0.19321604109185306, 0.1506654812371648, 0.1770602754765967, 0.05632426252548351, 0.025491915542741002, 0.019287025776120546, 0.020458847063315123, 0.002362852759425127, 0.03308147389232203, 0.028946289655781773, 0.8125637024801597, 0.016540736946161014, 0.00620277635481038, 0.0310138817740519, 0.05996017142983367, 0.008270368473080507, 0.004135184236540254, 0.7656537097205338, 0.016413761746846247, 0.11682736302167035, 0.09944808587795079, 0.9859246192725502, 0.9905441346410141, 0.004198825947062858, 0.9909229235068343, 0.005608264754991615, 0.005608264754991615, 0.9870545968785244, 0.40194632595666063, 0.03821784738604314, 0.04072805082683415, 0.08001273467521347, 0.044054070385882244, 0.010919384967440897, 0.016818363053299774, 0.037213766009726736, 0.32657746764691054, 0.00345152973108764, 0.031358395487251056, 0.029267835788100986, 0.008362238796600282, 0.006271679097450212, 0.039720634283851336, 0.039720634283851336, 0.8445861184566285, 0.0020905596991500704, 0.08743886580942284, 0.9021131765216064, 0.00426531052728892, 0.00213265526364446, 0.00213265526364446, 0.00213265526364446, 0.021825608684976214, 0.8646298825202116, 0.06044014712762644, 0.001678892975767401, 0.010073357854604406, 0.005036678927302203, 0.03357785951534802, 0.003357785951534802, 0.15350340971774473, 0.62195460192179, 0.026973023255234325, 0.04646447801631606, 0.0408861155426058, 0.014634998019263393, 0.017194481977789278, 0.02874497368805994, 0.04784266168629154, 0.0018375782266339686, 0.16923063689259804, 0.1966515871797132, 0.3891128414737278, 0.08917322439214657, 0.05219537454115752, 0.0440352526058498, 0.012938571717244681, 0.03844814209158505, 0.007277946590950133, 0.0008821753443575919, 0.09889694852504867, 0.021398754944016378, 0.02602551276974965, 0.04626757825733271, 0.2596767829692798, 0.006361792010383247, 0.017928686574716423, 0.5077866713742265, 0.014458618205416471, 0.0005783447282166589, 0.17632036621224526, 0.24333511794605067, 0.3542673040685149, 0.1280111883847205, 0.023910603167158723, 0.02992891825004901, 0.025862489139988006, 0.010572715686158618, 0.007156915233707373, 0.0006506286576097611, 0.07561781292679602, 0.02614445659703054, 0.0006033336137776278, 0.06898114317524211, 0.003418890478073224, 0.0014077784321477982, 0.8084670424620213, 0.0024133344551105114, 0.009452226615849503, 0.003418890478073224, 0.05399613495774091, 0.7262259459166461, 0.0692974920029863, 0.027513016994816213, 0.0055908804588396584, 0.05723296048654281, 0.0406074475431512, 0.013977201147099145, 0.005296623592584939, 0.00029425686625471885, 0.8239503323561892, 0.002755686730288258, 0.019289807112017807, 0.14880708343556595, 0.002755686730288258, 0.8351875752764439, 0.12488246162428043, 0.00430845748713822, 0.006456405680434534, 0.004949073614963437, 0.0034543026500379317, 0.005237978927512064, 0.006167500367885908, 0.008315448561182222, 0.0010425713452841758, 0.7380556382091272, 0.039946310315442456, 0.01949760384444215, 0.1436164966102812, 0.002377756566395384, 0.024253116977232918, 0.004755513132790768, 0.019973155157721228, 0.007133269699186153, 0.9326206579886259, 0.0036616437298336315, 0.0076894518326506255, 0.004027808102816994, 0.0208713692600517, 0.0014646574919334526, 0.0014646574919334526, 0.02709616360076887, 0.0014646574919334526, 0.00036616437298336315, 0.7840953437638982, 0.18722209425164, 0.008554963884960702, 0.007896889739963726, 0.001645185362492443, 0.0009871112174954658, 0.006580741449969772, 0.0013161482899939543, 0.0009871112174954658, 0.0006580741449969771, 0.05441282075122137, 0.06757721286845235, 0.08512973569142698, 0.7152653050362164, 0.016674896681825903, 0.00965388755263605, 0.031594541081354344, 0.01053151369378478, 0.007898635270338586, 0.0008776261411487318, 0.992728726891779, 0.9939770916382386, 0.17670950375834588, 0.3073154731324819, 0.12153438444139399, 0.20690669743856951, 0.028208901092225395, 0.05567219246395144, 0.05268975358195404, 0.010438536086990895, 0.03914451032621585, 0.0013669511542488077, 0.33270214305939916, 0.048417267815052754, 0.02709590217172677, 0.005330341410831495, 0.0048861462932622045, 0.5325899459655803, 0.0048861462932622045, 0.014658438879786613, 0.029761072877142518, 0.9853240771078083, 0.010768569148719218, 0.9905299352763107, 0.5620488574841433, 0.09750533037727514, 0.0633381097602481, 0.08766640070578029, 0.10788232651517987, 0.014066594764715295, 0.01364382825539325, 0.042622550803467926, 0.009800496352465575, 0.00142203280408324, 0.055667408488295524, 0.008274885045557442, 0.007522622768688585, 0.03874150725874621, 0.2226696339531821, 0.0007522622768688584, 0.06281390011854968, 0.4833285128882416, 0.11885743974527964, 0.0007522622768688584, 0.10961392664191218, 0.03857142116277629, 0.02238391315299346, 0.5860166104431764, 0.08694180859853683, 0.020510581365511173, 0.03069382082567129, 0.034008177065063025, 0.05768901222477499, 0.013545629847948833, 0.9924898108312715, 0.9963695463617105, 0.09230576258758028, 0.6776722684626362, 0.045624413187372696, 0.052670654606271954, 0.03206039845599162, 0.01796791561819311, 0.01462095094421596, 0.01092167419929385, 0.05548915117383166, 0.0007046241418899257, 0.9876454833608986, 0.9921872149217336, 0.007656444867971766, 0.011484667301957649, 0.0022969334603915297, 0.0030625779471887063, 0.003828222433985883, 0.13245649621591155, 0.003828222433985883, 0.8345524906089224, 0.0007656444867971766, 0.04150576872341883, 0.006917628120569805, 0.9442562384577784, 0.006917628120569805, 0.9962750685460071, 0.006362385204383451, 0.019087155613150355, 0.9734449362706681, 0.9889439125396822, 0.9982242933350545, 0.3185615413623761, 0.08630632067747193, 0.17518545850251077, 0.08326571859398375, 0.05753754711831462, 0.006782881570858228, 0.005847311699015713, 0.257515607224652, 0.004443956891251942, 0.004443956891251942, 0.9860692835072119, 0.052770896114731194, 0.8675786611243307, 0.009423374306202, 0.007538699444961599, 0.0364370473173144, 0.0069104744912147995, 0.0006282249537468, 0.0182185236586572, 0.0596370413470878, 0.7872089457815589, 0.10575635332216902, 0.015108050474595574, 0.020674174333657102, 0.0023854816538835116, 0.0015903211025890078, 0.006361284410356031, 0.03879850410864844, 0.02411798904051119, 0.0639651013683123, 0.029361030136274495, 0.005243041095763303, 0.1300274191749299, 0.7078105479280459, 0.0010486082191526606, 0.007032254148445831, 0.9897897713937508, 0.0017580635371114578, 0.00890075949159953, 0.006357685351142521, 0.01780151898319906, 0.9320366724774936, 0.02034459312365607, 0.015258444842742051, 0.0008866839778987193, 0.0008866839778987193, 0.998406159113958, 0.9971899632080312, 0.9947118855306508, 0.3171119801961683, 0.3655014734006308, 0.15025423778634486, 0.05429794755245713, 0.022811121216941354, 0.01959512707815946, 0.03163640745824981, 0.0355255166493349, 0.0025428790864787084, 0.0006731150523031875, 0.5511463128467082, 0.2891910005078457, 0.013960000971036564, 0.05720863143032631, 0.04311176770467174, 0.004927059166248199, 0.01587607953568864, 0.013960000971036564, 0.0034215688654501385, 0.007253725994754294, 0.025386448028940425, 0.06828079125025355, 0.6994404129352896, 0.051648290817499484, 0.02363565850970315, 0.11292592399080395, 0.007878552836567718, 0.011380131875042259, 0.009025795102441586, 0.0030085983674805286, 0.012034393469922114, 0.0030085983674805286, 0.9717772726962107, 0.996895353407702, 0.8999535433340949, 0.0028569953756637937, 0.00857098612699138, 0.03999793525929311, 0.0457119260106207, 0.0011526780187835347, 0.32736055733452385, 0.6708586069320173, 0.007673322542751638, 0.9898586080149613, 0.011829182532382356, 0.0007393239082738972, 0.9773862067380922, 0.005914591266191178, 0.0036966195413694865, 0.010577677847683594, 0.1018101492839546, 0.0806547935885874, 0.014544307040564941, 0.0013222097309604493, 0.013222097309604492, 0.029088614081129883, 0.7483707077236142, 0.017579260433699662, 0.010069673452313398, 0.012629759923240533, 0.15992006821724838, 0.7006103308770594, 0.0035841210592979893, 0.009045638863942544, 0.04403348729994672, 0.04044936624064874, 0.0018773967453465659, 0.01563330009436761, 0.15242467592008418, 0.12115807573134897, 0.005862487535387853, 0.009770812558979755, 0.07034985042465425, 0.6233778412629084, 0.9864661166966585, 0.007559127331008878, 0.003779563665504439, 0.9952893189437761, 0.04490612239467594, 0.210968360243444, 0.005424900691974275, 0.009945651268619503, 0.0018083002306580915, 0.666660018369283, 0.012055334871053943, 0.02079545265256805, 0.026220353344542327, 0.0009041501153290457, 0.9845791356896807, 0.9874495130050719, 0.02594650908507725, 0.02476712230848283, 0.02004957520210515, 0.2390223867231359, 0.057789952053126606, 0.06329375701056723, 0.459960842871824, 0.031057185116986404, 0.0770532694041688, 0.000786257851062947, 0.9988261638439934, 0.9929128013239843, 0.003064545683098717, 0.9977091237301101, 0.9947421140070597, 0.9847412021568561, 0.9920756426452028, 0.08243765763885588, 0.03835641015141211, 0.5212464394456825, 0.007442288536841156, 0.06011079202833241, 0.1491320126036247, 0.04293628002023744, 0.049519842956673846, 0.04665742428865802, 0.0020036930676110803, 0.017297567656879387, 0.005964678502372202, 0.008947017753558304, 0.004175274951660542, 0.8756148041482393, 0.0017894035507116607, 0.023262246159251588, 0.02147284260853993, 0.008350549903321083, 0.032805731763047116, 0.002556766564525026, 0.00015039803320735447, 0.9971389601647602, 0.005574601191147534, 0.9867044108331136, 0.1109976658083915, 0.16177484068308107, 0.20666929407838586, 0.08468022761114387, 0.0755465284720991, 0.05898202325383147, 0.26255514813254116, 0.019970291337911443, 0.015326037538397154, 0.0037154030396114313, 0.0029664943051162535, 0.9937755922139448, 0.005311922974503457, 0.9880176732576431, 0.7163491284903408, 0.07157534945143233, 0.06963953902937556, 0.032958413339633195, 0.05901739979039739, 0.009530143616279478, 0.01087032006231878, 0.025761169462755466, 0.003524167691436682, 0.0007941786346899565, 0.986317857330822, 0.9938934026148604, 0.2697514160831227, 0.440922379638445, 0.1513762988080172, 0.08062926037528247, 0.02417668976770089, 0.00855250400532419, 0.009912442804757365, 0.008975596076258956, 0.005016663126797935, 0.0006950798308214006, 0.1816814069393405, 0.15943219539940776, 0.08887392233906846, 0.1589405001167573, 0.09502011337219907, 0.09010316054569459, 0.0706811968810019, 0.028764174035051205, 0.12218627773863631, 0.004302333723191419, 0.9964459013330191, 0.004158333489456755, 0.004158333489456755, 0.9896833704907076, 0.9985548997857551, 0.0005278704316048045, 0.0007038272421397392, 0.9993451525776097, 0.00031416068927306187, 0.9953733926608723, 0.0029477987936649725, 0.34568374101544685, 0.15051446496118492, 0.042283312650845783, 0.06761293431042166, 0.029366214752735376, 0.2384112795647331, 0.05060878590548726, 0.035522019219803615, 0.03854946403967324, 0.0014632649962703194, 0.35156018922413407, 0.07035894380736506, 0.02462563033257777, 0.46132014156362355, 0.06473022830277586, 0.009615722320339892, 0.00445606644113312, 0.01196102044725206, 0.00023452981269121687, 0.0011726490634560844, 0.9914663076087721, 0.9922541737208775, 0.04832184090989924, 0.9483161278567726, 0.0029690641132499593, 0.04453596169874939, 0.008907192339749879, 0.0029690641132499593, 0.017814384679499758, 0.9233789392207374, 0.9516218038803369, 0.04121196788458152, 0.37713127128503254, 0.027744767253175154, 0.021925237898987485, 0.0036506272701546253, 0.004788764007320479, 0.007580420155085781, 0.5168643986197158, 0.02140985522555389, 0.01535410881270916, 0.003564730157915693, 0.9939816228348852, 0.9954994249528439, 0.038008721418730886, 0.23737522244528156, 0.018765312146983487, 0.3010816643200726, 0.03633538148205719, 0.11008186297689039, 0.038845391387067725, 0.05271020800522113, 0.16518255660593106, 0.0016733399366736866, 0.3094390887249746, 0.23433009917752054, 0.20339116441029112, 0.10236708641633141, 0.03243116634764241, 0.043349327410997486, 0.02795447160640343, 0.020020773703874343, 0.025168972656299173, 0.0015171021067532109, 0.8101160187759424, 0.003179003343790487, 0.0035763787617642978, 0.0013245847265793695, 0.00913963461339765, 0.04675784084825175, 0.023312691187796903, 0.09868156213016303, 0.0007947508359476218, 0.0030465448711325498, 0.1576228447874759, 0.0161664456192283, 0.0020208057024035373, 0.0060624171072106115, 0.8143846980686255, 0.006226886406040639, 0.9838480521544208, 0.2929637188556039, 0.209031411952907, 0.0653472960885283, 0.03337308393511995, 0.013389201339239742, 0.2917646858998511, 0.039368248713884016, 0.00759387538643448, 0.045763091144565685, 0.0011990329557528127, 0.9865568459701046, 0.9880237129641938, 0.975296264721303, 0.016054259501585236, 0.004013564875396309, 0.005897668432676437, 0.011795336865352874, 0.01769300529802931, 0.003538601059605862, 0.1769300529802931, 0.003538601059605862, 0.022411140044170462, 0.7572606267556545, 0.013261285121411167, 0.002210214186901861, 0.008840856747607444, 0.0066306425607055835, 0.0066306425607055835, 0.9614431713023096, 0.004636247511206608, 0.9875207198870074, 0.004636247511206608, 0.07950735709857218, 0.0013251226183095361, 0.9183099744885086, 0.9911186890514899, 0.03370553502276507, 0.0004554802030103387, 0.02550689136857897, 0.1093152487224813, 0.7560971369971623, 0.0027328812180620323, 0.028695252789651342, 0.036438416240827096, 0.005465762436124065, 0.0018219208120413548, 0.9228731653299316, 0.0709902434869178, 0.9952929137184626, 0.989217936347132, 0.996376527162821, 0.07002524633259435, 0.14479796699282224, 0.034023566014706866, 0.49611106723770243, 0.15468853850872538, 0.02888046882643722, 0.030462960268981727, 0.03679292603915975, 0.0027693600244528844, 0.0015824914425445053, 0.04127856534545705, 0.20899597949681858, 0.0026031527695333278, 0.0066938214073714135, 0.013759521781819018, 0.06210378750172367, 0.6414912182064272, 0.0014875158683047586, 0.02045334318919043, 0.001115636901228569, 0.10320584942998208, 0.20305541107362327, 0.20341501333644552, 0.30829900665959803, 0.0267304348697863, 0.027449639395430773, 0.06245092631012853, 0.011027802726548607, 0.0519025932673429, 0.0025172158397556606, 0.9929995297968491, 0.9881121683689814, 0.9932577901009116, 0.6571814600219108, 0.11342084198652283, 0.03679583129562776, 0.07451485549114581, 0.044972682694656145, 0.011210199498667955, 0.017936319197868728, 0.0255856317969598, 0.016749356898009767, 0.0015826163998119466, 0.00223677689429961, 0.00894710757719844, 0.12749628297507776, 0.8186603433136572, 0.00671033068289883, 0.03578843030879376, 0.00223677689429961, 0.9983777929956912, 0.002399863243596908, 0.001199931621798454, 0.9743444769003446, 0.002399863243596908, 0.002399863243596908, 0.015599111083379903, 0.002399863243596908, 0.9938233210786245, 0.12497531937714056, 0.056678947661182054, 0.045765609912755696, 0.012673553514301578, 0.015841941892876972, 0.15771533262241963, 0.578054857513422, 0.006336776757150789, 0.0003520431531750438, 0.001760215765875219, 0.004609976483344422, 0.0011524941208361054, 0.993449932160723, 0.9942421150029975, 0.9928576997296734, 0.26455832779583266, 0.007702331062410318, 0.06664190788781102, 0.21733968954366506, 0.056595389110754075, 0.01908838567640818, 0.011386054613997863, 0.09778611609668753, 0.2561862288149519, 0.00267907167388185, 0.005621200977169235, 0.005621200977169235, 0.9837101710046161, 0.9932963685387872, 0.995822515412654, 0.997483167552235, 0.009648134683645256, 0.045828639747314964, 0.9406931316554125, 0.9984973393360218, 0.21404425679596503, 0.05383303209429205, 0.13162047559896284, 0.17399145062054677, 0.2591197621380756, 0.022537752671055282, 0.05615120094045773, 0.07804501782091143, 0.009401462542783061, 0.001287871581203159, 0.005539140642805686, 0.985967034419412, 0.9974046196828137, 0.005013147570352332, 0.014203918115998275, 0.6742683482123887, 0.0016710491901174441, 0.13451945980445423, 0.05180252489364076, 0.04678937732328843, 0.02088811487646805, 0.04261175434799482, 0.00835524595058722, 0.993728455428084, 0.05259597382894403, 0.7335656772410116, 0.052410776737997045, 0.011667416729660119, 0.0022223650913638323, 0.06852292365038483, 0.059263069103035526, 0.011111825456819161, 0.008519066183561358, 0.000185197090946986, 0.9826775757958975, 0.009270543167885826, 0.05856956482485867, 0.9341845589564958, 0.0029284782412429336, 0.0029284782412429336, 0.9932079629399537, 0.9884025307167132, 0.0016150368148965903, 0.008075184074482952, 0.3746498315986938, 0.11490729539815668, 0.2195049641186042, 0.07767252720293519, 0.060156171197118614, 0.007206729328107388, 0.014613645581995537, 0.11730953850752582, 0.011110374380832223, 0.0031028973496017923, 0.007772554939654933, 0.007772554939654933, 0.9871144773361765, 0.9904725645823816, 0.003508506445119208, 0.012758205254978939, 0.033171333662945245, 0.06028251982977549, 0.05326550693953707, 0.5049059729657915, 0.021369993802089725, 0.11163429598106572, 0.19679531605805015, 0.0019137307882468408, 0.9984792913968007, 0.988298390383438, 0.10819567589017776, 0.6533652795147177, 0.12371872838518175, 0.01707535774450438, 0.006209220998001593, 0.007606295722551952, 0.00900337044710231, 0.005433068373251394, 0.06752527835326733, 0.001862766299400478, 0.9887191582425936, 0.9883492742045944, 0.9629364959989642, 0.007582177133850111, 0.022746531401550335, 0.9901258962211243, 0.993473255562103, 0.434494589257202, 0.08896705247440564, 0.15459772102751432, 0.1284199809800714, 0.07252445062965947, 0.01038725272345155, 0.02524614787493605, 0.0775084687525712, 0.0073595781628042365, 0.0006055349121294625, 0.09526263059656562, 0.033425484419847586, 0.06852224306068755, 0.03175421019885521, 0.05626623210674343, 0.10027645325954275, 0.017269833616921252, 0.006128005476972057, 0.5860601601613277, 0.005013822662977138, 0.9918558792311467, 0.022203040446973573, 0.23331391682803376, 0.003639842696225176, 0.008371638201317904, 0.0007279685392450352, 0.06333326291431807, 0.06733708988016575, 0.0014559370784900704, 0.5994820920682865, 0.0003639842696225176, 0.007745394391444471, 0.9888286839744107, 0.0025817981304814904, 0.009715052040338032, 0.6785424125062763, 0.017055313581926766, 0.07577740591463665, 0.024179685078174657, 0.05505196156191551, 0.013816962901814089, 0.0980140805847437, 0.0267703656222648, 0.0012953402720450708, 0.013363853265888738, 0.0016704816582360923, 0.007795581071768431, 0.005846685803826323, 0.925168425053089, 0.0038977905358842154, 0.026170879312365447, 0.0005568272194120307, 0.015312748533830845, 0.00027841360970601536, 0.007123990182809564, 0.9926092988047992, 0.021148971103612843, 0.020813273149587242, 0.013763616115049629, 0.022827460873740848, 0.8671078152481266, 0.017120595655305635, 0.026520138368022455, 0.0006713959080512014, 0.009063844758691219, 0.0006713959080512014, 0.9891141655165274, 0.036498636841248155, 0.08212193289280835, 0.1994900984215279, 0.027910722290366237, 0.016281254669380303, 0.13418616485753, 0.03095227536047025, 0.3980856224106723, 0.0728183587960196, 0.0014313190918136532, 0.988755939524754, 0.984890077179203, 0.1275867413207079, 0.10622337998328706, 0.03192635666536784, 0.04225198131178792, 0.05910529970019771, 0.52921793446422, 0.02895922314628161, 0.07097383377654264, 0.0028484481783227814, 0.0008307973853441445, 0.003691126819605754, 0.9929131144739477, 0.9981895119997033, 0.9907078379139923, 0.15469378659675934, 0.15510703803023243, 0.23252280656752428, 0.20593696434742229, 0.06212546549878759, 0.01956056785105951, 0.0321647365719887, 0.07307662848582443, 0.06364072075485558, 0.0011020038225949018, 0.9961311896059843, 0.9865409026239271, 0.008615406601307878, 0.004307703300653939, 0.9692332426471362, 0.017230813202615755, 0.004434835356927165, 0.004434835356927165, 0.0014782784523090548, 0.9889682845947577, 0.9910427211187777, 0.2412815073607768, 0.1670680991200714, 0.041151510730628116, 0.03482050907976225, 0.007034446278739849, 0.43050811225887875, 0.07245479667102044, 0.002462056197558947, 0.0021103338836219545, 0.0003517223139369924, 0.014275583981674918, 0.026171903966404016, 0.9540848627752737, 0.004758527993891639, 0.3797262268532182, 0.2295547764469676, 0.24185360160820543, 0.04472300058631941, 0.0470290303040515, 0.011075930613955665, 0.008001224323646207, 0.022850658112072573, 0.013102441578023264, 0.0021313304966917843, 0.10443441777075488, 0.09402951267920366, 0.0955709801001742, 0.4724597645274741, 0.005395135973396931, 0.025048845590771467, 0.016185407920190794, 0.14104426901880548, 0.04431718835290336, 0.0019268342762131896, 0.9860228791730005, 0.9962071542284796, 0.006519101678956896, 0.9550483959671853, 0.013038203357913792, 0.006519101678956896, 0.013038203357913792, 0.003259550839478448, 0.006519101678956896, 0.23536607638634396, 0.3155049118861902, 0.20639958832971397, 0.05670377090052474, 0.05964317467010896, 0.05590211532700177, 0.029420759548292996, 0.024370329435098283, 0.014082416241553505, 0.002618741540175035, 0.13647420108356137, 0.6436262110423889, 0.11681266363931947, 0.0699719420809785, 0.001156561026131876, 0.010409049235186884, 0.007517646669857193, 0.008963347952522039, 0.004915384361060472, 0.9968379528901423, 0.996122737423955, 0.16277651656753817, 0.009742235405538443, 0.07387861849199986, 0.02760300031569226, 0.6705905370812296, 0.0028414853266153796, 0.023137809088153806, 0.023137809088153806, 0.0052770441779999904, 0.0004059264752307685, 0.06076941889317309, 0.9166054016386941, 0.0025320591205488787, 0.0050641182410977575, 0.012660295602744395, 0.9945887120980259, 0.9928875217286456, 0.16150032250519097, 0.6650013279625511, 0.009228589857439485, 0.012757168332342816, 0.06297155432135178, 0.048857240421738446, 0.02850005691268076, 0.0038000075883574346, 0.002442862021086922, 0.004885724042173844, 0.000459193063008322, 0.013316598827241339, 0.000229596531504161, 0.9794588033967508, 0.000229596531504161, 0.001836772252033288, 0.004362334098579059, 0.000229596531504161, 0.990738168099572, 0.9956734610353951, 0.006227027975626671, 0.0031135139878133355, 0.045457304222074696, 0.5548281926283364, 0.16812975534192012, 0.026153517497632017, 0.11208650356128007, 0.08219676927827206, 0.0018681083926880013, 0.0006227027975626671, 0.0050898212387450745, 0.9925151415552895, 0.008689162262326171, 0.0028963874207753905, 0.8515379017079648, 0.0028963874207753905, 0.11585549683101562, 0.014481937103876952, 0.0028963874207753905, 0.08095954772940385, 0.1855841940258642, 0.017081574905544548, 0.0060497244457136945, 0.0033807283667223586, 0.11227576838956886, 0.46476118388835796, 0.005693858301848183, 0.09448246119629329, 0.02953688994083745, 0.004221547968006578, 0.004221547968006578, 0.9160759090574274, 0.01688619187202631, 0.050658575616078935, 0.008443095936013155, 0.0034842258032594395, 0.006968451606518879, 0.7961455960447819, 0.06620029026192935, 0.008710564508148598, 0.06445817736029963, 0.03658437093422411, 0.015679016114667477, 0.9900222218556342, 0.992215704198104, 0.043276221722757885, 0.3937601902428711, 0.045769501986620484, 0.011397852634800431, 0.004096103290631405, 0.42261100472470975, 0.05182461119885821, 0.00819220658126281, 0.018877693426388214, 0.00035618289483751347, 0.9839484925760531, 0.9959574114968281, 0.19329123244938143, 0.07942939309154744, 0.17568373151775762, 0.02973711268452022, 0.07043000372649526, 0.036780113057169744, 0.036780113057169744, 0.368974963967139, 0.007043000372649526, 0.001956388992402646, 0.9956785946816736, 0.0025143398855597817, 0.004829086459271007, 0.08623368677269655, 0.001379738988363145, 0.0006898694941815725, 0.0006898694941815725, 0.06622747144143096, 0.009658172918542015, 0.010348042412723586, 0.8195649590877081, 0.9902242122591454, 0.9916277881862701, 0.9947282675292187, 0.39357901821580676, 0.1662879093484565, 0.2607344872837996, 0.12159351782276956, 0.013418639488081531, 0.014450842525626263, 0.009599488249166017, 0.017341011030751516, 0.0025805075938618327, 0.0004128812150178932, 0.06419329747950664, 0.7431118145309775, 0.07524644803889188, 0.025932391697019237, 0.0029758482275267974, 0.037410663431765454, 0.01530436231299496, 0.017004847014438843, 0.018280210540521757, 0.0033702596459158243, 0.014978931759625886, 0.012357618701691355, 0.39619274504210467, 0.05467310092263448, 0.0063660459978410015, 0.4313932346772255, 0.00786393917380359, 0.06815413950629778, 0.004119206233897118, 0.010784329540465569, 0.021568659080931137, 0.007189553026977046, 0.9238575639665505, 0.03235298862139671, 0.06550976476964653, 0.8065889787262729, 0.002047180149051454, 0.021495391565040267, 0.01740103126693736, 0.08700515633468679, 0.25147763107243587, 0.09553684513781263, 0.5547300685421379, 0.038214738055125055, 0.014176435084965746, 0.001849100228473793, 0.014176435084965746, 0.022805569484510114, 0.005547300685421379, 0.0006163667428245977, 0.28043369217509256, 0.1683527167978016, 0.014800238839367172, 0.0383881194896086, 0.024204557268548397, 0.2303287169376516, 0.23109956271053533, 0.008479303501720775, 0.002466706473227862, 0.001233353236613931, 0.9908704883770745, 0.9427079272061318, 0.05404058181436425, 0.004651113742044079, 0.018604454968176316, 0.009302227484088158, 0.9674316583451684, 0.03731389817187897, 0.9595002387054591, 0.9904884736761452, 0.9888546787688045, 0.9714266634029679, 0.01646485870174522, 0.9885736578640094, 0.9907374330238629, 0.9878792023858239, 0.9928454045506262, 0.00793140450340141, 0.003965702251700705, 0.011897106755102116, 0.01586280900680282, 0.9478028381564685, 0.011897106755102116, 0.9879076983997305, 0.0307785891368064, 0.8525669190895373, 0.11388077980618369, 0.13156900313359038, 0.535511273181582, 0.1412727190310322, 0.04644399195051461, 0.05487618645449853, 0.046979369379338984, 0.017600532972601356, 0.014187501863845962, 0.0111090816481058, 0.0005353774288243759, 0.21803894254940426, 0.03980075935425634, 0.5707881475285992, 0.007720548637280493, 0.08386113174977088, 0.014775532736864392, 0.01743779088765077, 0.03367756560744767, 0.011181484233302784, 0.002662258150786377, 0.9915526903696984, 0.007153306247812151, 0.007153306247812151, 0.9800029559502648, 0.007153306247812151, 0.9911326698578733, 0.9956672529868885, 0.04034945177260581, 0.5163657416215202, 0.01930339221015029, 0.01648831417950337, 0.006166361400464675, 0.34478003308685096, 0.033512833698177584, 0.010053850109453274, 0.01206462013134393, 0.000804308008756262, 0.07130871257361668, 0.7717187338522515, 0.05704697005889334, 0.011884785428936112, 0.011884785428936112, 0.04040827045838278, 0.007923190285957407, 0.021392613772085, 0.006338552228765926, 0.007400936415774006, 0.9843245432979428, 0.994485354266236, 0.9929503374598537, 0.5437867855840827, 0.08073339821392962, 0.009951233974679199, 0.044459545338486096, 0.009148715105753456, 0.03787889061329502, 0.05794186233643856, 0.014445339640663354, 0.19420956628002953, 0.007383173594116825, 0.9869460217554431, 0.021964439724411415, 0.024404933027123796, 0.04880986605424759, 0.9029825220035804, 0.0024404933027123796, 0.10213401164477383, 0.8912016177390749, 0.004941968305392282, 0.36738744102587145, 0.20876468256887207, 0.056788129075154806, 0.05664043563152631, 0.02942791864297684, 0.03832644862159342, 0.02809867765032042, 0.20606927722265211, 0.006498511519653606, 0.001993861488984629, 0.1988041567688559, 0.06819560844026952, 0.5046873829307665, 0.02512469784641509, 0.13100735305630726, 0.021535455296927217, 0.009770715829161423, 0.029710952215205144, 0.00717848509897574, 0.0039880472772087444, 0.15379605226374723, 0.04623036094832878, 0.5245543925424236, 0.062250783059135784, 0.12358611342622546, 0.011443158650576431, 0.04760353998639796, 0.02517494903126815, 0.001830905384092229, 0.0032040844221614007, 0.9884573454895406, 0.9991454731854401, 0.007740447222467665, 0.9056323250287168, 0.08514491944714431, 0.9918531218530613, 0.023236670497764286, 0.9666454927069943, 0.004647334099552858, 0.23331876177444194, 0.6810721256908896, 0.011926837662591281, 0.017393304924612284, 0.0007454273539119551, 0.03354423092603798, 0.01664787757070033, 0.0017393304924612286, 0.002733233631010502, 0.0004969515692746367, 0.9977800380988856, 0.988687310027072, 0.46421726046414896, 0.1623297981010998, 0.15063035319291243, 0.08993948273169043, 0.0761508512327553, 0.00893127267544661, 0.018645990322423627, 0.01932497596441664, 0.007416612397154495, 0.002402564579359907, 0.005001533097110988, 0.9940547030508089, 0.9989763480919819, 0.24583128365867277, 0.2180013270180683, 0.34978061942129585, 0.11443322353819324, 0.025479024230325092, 0.004828942248141414, 0.006862181089464114, 0.030752737475005846, 0.003113396975775385, 0.0008260032792873471, 0.021258564258677844, 0.9608871044922386, 0.017006851406942275, 0.9918397601171799, 0.00288206661857246, 0.9943129834074987, 0.9880498286772585, 0.22782259747340164, 0.49080430473735365, 0.11204001178383044, 0.05453088317589865, 0.022270950354584033, 0.0133889263670162, 0.01649895257037823, 0.04364579146413155, 0.018291171060451264, 0.0007116161651760578, 0.16696320115784308, 0.6450115918821758, 0.06993858063028294, 0.047501637133284653, 0.03193727092365521, 0.006064038782972509, 0.001617077008792669, 0.013138750696440436, 0.016979308592323022, 0.0008085385043963345, 0.13418210858577798, 0.7702401557781021, 0.032761345992371765, 0.018123297783014167, 0.006273449232581827, 0.01428952325199194, 0.011152798635701025, 0.009758698806238397, 0.0031367246162909133, 0.6912144183491257, 0.05893832546081151, 0.0584139631346477, 0.027476585890983302, 0.05421906452533728, 0.035132275852974834, 0.006711837774896684, 0.03062275984796612, 0.03639074543576796, 0.0009438521870948463, 0.9930816320469492, 0.6386305209455633, 0.08622293846974026, 0.058077626948529706, 0.02300767529114831, 0.027475185056419823, 0.13826942723515342, 0.008711644042279457, 0.017870039061086064, 0.0013402529295814549, 0.0006701264647907274, 0.9906945687085732, 0.027202782168500205, 0.061059482277496864, 0.03326958970248226, 0.270462193934297, 0.04755594292766582, 0.077694277128738, 0.015656277507050478, 0.14364634612718813, 0.32251931664523986, 0.0009785173441906549, 0.9971820692087343, 0.9911478794939286, 0.9941564258038337, 0.987641450946186, 0.9873270824212836, 0.9809855023510324, 0.009166739319870122, 0.046488463693627045, 0.015059643168358056, 0.0281549850538868, 0.002619068377105749, 0.04452416241079773, 0.060238572673432224, 0.004583369659935061, 0.7896491156973833, 0.0030518022180021764, 0.021362615526015236, 0.8941780498746377, 0.07934685766805659, 0.9955575502390315, 0.004345483614390264, 0.9951157476953706, 0.9921196885134298, 0.23584507146973524, 0.21706397263165306, 0.28160265772979004, 0.02822856067784476, 0.024813815434557088, 0.10893037326087675, 0.01411428033892238, 0.08468568203353427, 0.003870044609059362, 0.0010244235729863016, 0.003985874546198826, 0.0015943498184795306, 0.0007971749092397653, 0.001992937273099413, 0.48587810718163693, 0.4384462000818709, 0.06616551746690051, 0.00039858745461988264, 0.017201888734862444, 0.9805076578871593, 0.020997803083615076, 0.05917562687200612, 0.05917562687200612, 0.8036431907456315, 0.009544455947097762, 0.043904497356649703, 0.0038177823788391047, 0.9888249381089095, 0.9968176267421719, 0.9901948666645335, 0.004926342620221559, 0.1618964142785398, 0.36255269234110804, 0.05081367617124031, 0.039770363026070184, 0.07448822984193182, 0.17842529473765062, 0.09325464433699215, 0.006062995452250264, 0.02916012098463222, 0.0036089258644346808, 0.9942145516978701, 0.9928449746303416, 0.9854280062635624, 0.9957448581386206, 0.988820636899914, 0.9970339056358832, 0.626329250392233, 0.0014819976347642304, 0.11559581551160998, 0.0025934958608374034, 0.2295243836841102, 0.00046312426086382206, 0.0069468639129573306, 0.016116724278061007, 0.0003704994086910576, 0.00046312426086382206, 0.5652241569029817, 0.018616690633030293, 0.15723737268473068, 0.01122358759027294, 0.031126035274217558, 0.003964417573652494, 0.002357221260009591, 0.20711403161811545, 0.0024107944704643545, 0.0007500249463666881, 0.2652786905279195, 0.030434370317415426, 0.021803727988596127, 0.6241317136735641, 0.02225797232169188, 0.008630642328819299, 0.015898551658351343, 0.008630642328819299, 0.002725465998574516, 0.0004542443330957526, 0.005515040388029399, 0.0610593757246112, 0.05593826679286962, 0.10675542465399765, 0.020878367183254153, 0.294660729303285, 0.2666915959068502, 0.003939314562878142, 0.034272036697039834, 0.15048181630194502, 0.977138595933399, 0.018095159183951832, 0.983566365873463, 0.9902660637472036, 0.3246363184843082, 0.3604163104629534, 0.09143775727876002, 0.05728876208546615, 0.014712950167856965, 0.024057202583932402, 0.008698649521873863, 0.1022091318820179, 0.0158002813580912, 0.0007135610935912153, 0.9897249868391852, 0.00137860514938458, 0.00551442059753832, 0.9732952354655134, 0.0068930257469229, 0.01102884119507664, 0.007246950570005394, 0.014493901140010788, 0.003623475285002697, 0.9710913763807228, 0.21211325476128876, 0.12112927468280314, 0.05165807302648958, 0.40435801989700465, 0.03624286555837266, 0.01575776763407507, 0.034872624894540044, 0.0835846804937895, 0.03829822655412159, 0.0019868489625572915, 0.9978533827643588, 0.003960651992880169, 0.030695052944821305, 0.07459227919924317, 0.12905124410134547, 0.10297695181488438, 0.23565879357637, 0.02871472694838122, 0.03135516161030133, 0.3600892770193553, 0.0029704889946601263, 0.24703299842899742, 0.0018620577771029957, 0.016448177031076462, 0.0003103429628504993, 0.003413772591355492, 0.7280645908472713, 0.0015517148142524964, 0.0006206859257009985, 0.0006206859257009985, 0.00658663355923408, 0.04610643491463856, 0.012232319467149005, 0.714179267351238, 0.03951980135540448, 0.015996110072425622, 0.009409476513191543, 0.04610643491463856, 0.10726803225038359, 0.003763790605276617, 0.990675022666772, 0.0342231733230727, 0.24944890777706327, 0.012168239403759185, 0.02205493391931352, 0.0007605149627349491, 0.6319879340327427, 0.02966008354666301, 0.0007605149627349491, 0.019012874068373726, 0.9880235684147713, 0.009644085393984517, 0.9836967101864207, 0.16493523386023778, 0.6039014165075454, 0.10551880624070635, 0.02106401781829543, 0.009935857461460107, 0.014506351893731758, 0.005961514476876065, 0.0035769086861256387, 0.06935228508099155, 0.0009935857461460108, 0.9966036618636981, 0.0023285132286535, 0.02019341529759004, 0.976015072716852, 0.5348191318714817, 0.018924672561615275, 0.0025627160760520683, 0.3895328435599144, 0.014784900438761933, 0.003351244099452705, 0.010053732298358115, 0.01577056046801273, 0.00887094026325716, 0.0009856600292507955, 0.2346820856120261, 0.2975714843930053, 0.19868099865332603, 0.03453854280100288, 0.013669162704631433, 0.04843271229912619, 0.15688598676221016, 0.006075183424280637, 0.009000271739675018, 0.0004500135869837509, 0.02711555073887698, 0.008343246381192916, 0.002085811595298229, 0.9615591454324836, 0.9790541128480678, 0.013411700176000928, 0.21278019272257664, 0.5403109851629948, 0.09408257425271432, 0.07829449924463107, 0.012630460006466606, 0.012845751938395015, 0.01679277069041583, 0.007319925685565875, 0.02454328023983852, 0.00043058386385681617, 0.9611564138054569, 0.0011721419680554353, 0.036336401009718494, 0.09311318660719853, 0.001737726655188775, 0.01607397156049617, 0.0023169688735850333, 0.8099254318725682, 0.0011584844367925166, 0.013032949913915811, 0.031858322011794206, 0.001013673882193452, 0.02997578480200637, 0.9954241666747508, 0.9985786090025512, 0.3213598912552286, 0.023166961652071848, 0.027923814279691615, 0.0038490563246388965, 0.08656745545225593, 0.001161979267815516, 0.3516439759226705, 0.1815955724482936, 0.0011256674156962811, 0.0015977214932463343, 0.01921692942602456, 0.11062718831738462, 0.06855769416852005, 0.014023164716288191, 0.05193764709736367, 0.00779064706460455, 0.008829400006551824, 0.022852564722840016, 0.694925718162726, 0.0015581294129209102, 0.05676393953689448, 0.7842386383386737, 0.11427477301506389, 0.01419098488422362, 0.008215833354024201, 0.010456515177848983, 0.007468939412749274, 0.0044813636476495645, 0.9956356520979308, 0.0012295500636480584, 0.9363023734679965, 0.0003073875159120146, 0.013525050700128643, 0.0003073875159120146, 0.04856722751409831, 0.0470095943840549, 0.22009037370716614, 0.05940303290348756, 0.3418879591567629, 0.11666926606224534, 0.060898792724798395, 0.0322656761454195, 0.03611191568593308, 0.08162575024867715, 0.00405991951498656, 0.10954897017347527, 0.8869932746303966, 0.003706391740870527, 0.007412783481741054, 0.9859002030715602], \"Term\": [\"14\", \"22\", \"22\", \"22\", \"across\", \"across\", \"across\", \"across\", \"across\", \"across\", \"across\", \"across\", \"across\", \"across\", \"advance\", \"aggravation\", \"ah\", \"ah\", \"ah\", \"ah\", \"ah\", \"ah\", \"ah\", \"ah\", \"ah\", \"ah\", \"ai\", \"aids\", \"ako\", \"alive\", \"alive\", \"alive\", \"alive\", \"alive\", \"alive\", \"alive\", \"alive\", \"alive\", \"already\", \"already\", \"already\", \"already\", \"already\", \"already\", \"already\", \"already\", \"already\", \"alright\", \"alright\", \"alright\", \"alright\", \"alright\", \"alright\", \"alright\", \"alright\", \"alright\", \"alright\", \"altar\", \"alter\", \"always\", \"always\", \"always\", \"always\", \"always\", \"always\", \"always\", \"always\", \"always\", \"always\", \"america\", \"america\", \"america\", \"america\", \"america\", \"anew\", \"ang\", \"angels\", \"angels\", \"angels\", \"angels\", \"angels\", \"angels\", \"angels\", \"angels\", \"angels\", \"angie\", \"angle\", \"annie\", \"another\", \"another\", \"another\", \"another\", \"another\", \"another\", \"another\", \"another\", \"another\", \"another\", \"armor\", \"around\", \"around\", \"around\", \"around\", \"around\", \"around\", \"around\", \"around\", \"around\", \"around\", \"ashes\", \"ashes\", \"ashes\", \"ashes\", \"ashes\", \"ashes\", \"ashes\", \"ass\", \"ass\", \"ass\", \"ass\", \"ass\", \"ass\", \"ass\", \"assured\", \"atm\", \"avoiding\", \"awakening\", \"away\", \"away\", \"away\", \"away\", \"away\", \"away\", \"away\", \"away\", \"away\", \"away\", \"awe\", \"ay\", \"ba\", \"ba\", \"babe\", \"babe\", \"babe\", \"babe\", \"babe\", \"babe\", \"babe\", \"babe\", \"babe\", \"baby\", \"baby\", \"baby\", \"baby\", \"baby\", \"baby\", \"baby\", \"baby\", \"baby\", \"baby\", \"babylon\", \"babylon\", \"back\", \"back\", \"back\", \"back\", \"back\", \"back\", \"back\", \"back\", \"back\", \"back\", \"bad\", \"bad\", \"bad\", \"bad\", \"bad\", \"bad\", \"bad\", \"bad\", \"bad\", \"bad\", \"bah\", \"ballin\", \"bananas\", \"bananas\", \"bang\", \"bang\", \"bang\", \"bang\", \"bang\", \"bang\", \"bang\", \"bastards\", \"bastards\", \"beast\", \"beast\", \"beast\", \"beast\", \"beast\", \"beast\", \"beast\", \"beautiful\", \"beautiful\", \"beautiful\", \"beautiful\", \"beautiful\", \"beautiful\", \"beautiful\", \"beautiful\", \"beautiful\", \"beginning\", \"beginning\", \"beginning\", \"beginning\", \"beginning\", \"beginning\", \"beginning\", \"beginning\", \"bel\", \"believe\", \"believe\", \"believe\", \"believe\", \"believe\", \"believe\", \"believe\", \"believe\", \"believe\", \"believe\", \"believers\", \"bells\", \"bells\", \"bells\", \"bells\", \"bells\", \"bells\", \"benz\", \"benz\", \"better\", \"better\", \"better\", \"better\", \"better\", \"better\", \"better\", \"better\", \"better\", \"better\", \"bicycle\", \"bicycle\", \"bicycle\", \"big\", \"big\", \"big\", \"big\", \"big\", \"big\", \"big\", \"big\", \"big\", \"big\", \"billy\", \"billy\", \"billy\", \"billy\", \"billy\", \"billy\", \"billy\", \"bimbo\", \"bird\", \"bird\", \"bird\", \"bird\", \"bird\", \"bird\", \"bird\", \"bird\", \"bird\", \"bird\", \"birthday\", \"birthday\", \"birthday\", \"bitch\", \"bitch\", \"bitch\", \"bitch\", \"bitch\", \"bitch\", \"bitch\", \"bitches\", \"black\", \"black\", \"black\", \"black\", \"black\", \"black\", \"black\", \"black\", \"black\", \"black\", \"blank\", \"bless\", \"bless\", \"bless\", \"bless\", \"bless\", \"bless\", \"bless\", \"bless\", \"block\", \"block\", \"block\", \"block\", \"block\", \"block\", \"block\", \"block\", \"blood\", \"blood\", \"blood\", \"blood\", \"blood\", \"blood\", \"blood\", \"blood\", \"blood\", \"blood\", \"blue\", \"blue\", \"blue\", \"blue\", \"blue\", \"blue\", \"blue\", \"blue\", \"blue\", \"blue\", \"bluebird\", \"boarded\", \"bond\", \"boogie\", \"boogie\", \"boogie\", \"boogie\", \"boom\", \"boom\", \"booty\", \"born\", \"born\", \"born\", \"born\", \"born\", \"born\", \"born\", \"born\", \"born\", \"born\", \"bottoms\", \"bough\", \"bout\", \"bout\", \"bout\", \"bout\", \"bout\", \"bout\", \"bout\", \"bout\", \"bout\", \"bout\", \"bowl\", \"bowl\", \"bowl\", \"boy\", \"boy\", \"boy\", \"boy\", \"boy\", \"boy\", \"boy\", \"boy\", \"boy\", \"boy\", \"break\", \"break\", \"break\", \"break\", \"break\", \"break\", \"break\", \"break\", \"break\", \"break\", \"breakdown\", \"bring\", \"bring\", \"bring\", \"bring\", \"bring\", \"bring\", \"bring\", \"bring\", \"bring\", \"bring\", \"brother\", \"brother\", \"brother\", \"brother\", \"brother\", \"brother\", \"brother\", \"brother\", \"brother\", \"brother\", \"brown\", \"brown\", \"brown\", \"brown\", \"brown\", \"brown\", \"brown\", \"brown\", \"brown\", \"brown\", \"bullshit\", \"bun\", \"bungalow\", \"burn\", \"burn\", \"burn\", \"burn\", \"burn\", \"burn\", \"burn\", \"burn\", \"burn\", \"burn\", \"burning\", \"burning\", \"burning\", \"burning\", \"burning\", \"burning\", \"burning\", \"burning\", \"burning\", \"bust\", \"bust\", \"bust\", \"bust\", \"bust\", \"bust\", \"bust\", \"bye\", \"bye\", \"bye\", \"bye\", \"bye\", \"c\", \"c\", \"c\", \"c\", \"c\", \"c\", \"c\", \"california\", \"california\", \"california\", \"california\", \"california\", \"california\", \"california\", \"california\", \"california\", \"calling\", \"calling\", \"calling\", \"calling\", \"calling\", \"calling\", \"calling\", \"calling\", \"calling\", \"calling\", \"calmer\", \"calmer\", \"car\", \"car\", \"car\", \"car\", \"car\", \"car\", \"car\", \"car\", \"car\", \"car\", \"caravan\", \"careful\", \"careful\", \"careful\", \"careful\", \"careful\", \"cause\", \"cause\", \"cause\", \"cause\", \"cause\", \"cause\", \"cause\", \"cause\", \"cause\", \"cause\", \"causing\", \"cello\", \"ch\", \"changes\", \"changes\", \"changes\", \"changes\", \"changes\", \"changes\", \"changes\", \"changes\", \"changes\", \"chariot\", \"che\", \"checkin\", \"chief\", \"chorus\", \"chorus\", \"chorus\", \"chorus\", \"chorus\", \"chorus\", \"chorus\", \"chorus\", \"chorus\", \"chorus\", \"christ\", \"christ\", \"christ\", \"christ\", \"christ\", \"christ\", \"christ\", \"christmas\", \"christmas\", \"cinderella\", \"city\", \"city\", \"city\", \"city\", \"city\", \"city\", \"city\", \"city\", \"city\", \"city\", \"civilization\", \"civilized\", \"clan\", \"classics\", \"claus\", \"claus\", \"claws\", \"clowns\", \"club\", \"club\", \"club\", \"club\", \"club\", \"club\", \"club\", \"club\", \"club\", \"collide\", \"coma\", \"come\", \"come\", \"come\", \"come\", \"come\", \"come\", \"come\", \"come\", \"come\", \"come\", \"comin\", \"comin\", \"comin\", \"comin\", \"comin\", \"comin\", \"comin\", \"comin\", \"comin\", \"comin\", \"coming\", \"coming\", \"coming\", \"coming\", \"coming\", \"coming\", \"coming\", \"coming\", \"coming\", \"coming\", \"condition\", \"condition\", \"control\", \"control\", \"control\", \"control\", \"control\", \"control\", \"control\", \"control\", \"control\", \"cooking\", \"cooking\", \"could\", \"could\", \"could\", \"could\", \"could\", \"could\", \"could\", \"could\", \"could\", \"could\", \"countdown\", \"country\", \"country\", \"country\", \"country\", \"country\", \"country\", \"country\", \"country\", \"country\", \"country\", \"crank\", \"craving\", \"creepy\", \"crime\", \"crime\", \"crime\", \"crime\", \"crime\", \"crime\", \"crime\", \"crime\", \"crime\", \"crime\", \"crossfire\", \"cry\", \"cry\", \"cry\", \"cry\", \"cry\", \"cry\", \"cry\", \"cry\", \"cry\", \"cry\", \"culture\", \"cutting\", \"da\", \"da\", \"da\", \"dada\", \"daddy\", \"daddy\", \"daddy\", \"daddy\", \"daddy\", \"daddy\", \"daddy\", \"daddy\", \"daddy\", \"daddy\", \"dah\", \"damned\", \"damned\", \"damned\", \"damned\", \"damned\", \"dance\", \"dance\", \"dance\", \"dance\", \"dance\", \"dance\", \"dance\", \"dance\", \"dance\", \"dance\", \"dancing\", \"dancing\", \"dancing\", \"dancing\", \"dancing\", \"dancing\", \"dancing\", \"dancing\", \"dancing\", \"dancing\", \"daniel\", \"dank\", \"dank\", \"darkness\", \"darkness\", \"darkness\", \"darkness\", \"darkness\", \"darkness\", \"darkness\", \"darkness\", \"darlin\", \"darlin\", \"darlin\", \"darlin\", \"darlin\", \"darlin\", \"darling\", \"darling\", \"darling\", \"darling\", \"darling\", \"darling\", \"darling\", \"darling\", \"day\", \"day\", \"day\", \"day\", \"day\", \"day\", \"day\", \"day\", \"day\", \"day\", \"daydream\", \"days\", \"days\", \"days\", \"days\", \"days\", \"days\", \"days\", \"days\", \"days\", \"days\", \"de\", \"de\", \"de\", \"de\", \"dead\", \"dead\", \"dead\", \"dead\", \"dead\", \"dead\", \"dead\", \"dead\", \"dead\", \"dead\", \"deadly\", \"deadly\", \"deadly\", \"deadly\", \"deadly\", \"death\", \"death\", \"death\", \"death\", \"death\", \"death\", \"death\", \"death\", \"death\", \"death\", \"deceit\", \"dedication\", \"dee\", \"dee\", \"deeds\", \"deeply\", \"deh\", \"deh\", \"dem\", \"dem\", \"denver\", \"devoted\", \"devoted\", \"di\", \"dick\", \"dick\", \"differences\", \"differences\", \"ding\", \"ding\", \"ding\", \"ding\", \"disaster\", \"disaster\", \"disciples\", \"disco\", \"disco\", \"disco\", \"disguises\", \"dissolve\", \"distractions\", \"dit\", \"doctor\", \"doctor\", \"doctor\", \"doctor\", \"doctor\", \"doctor\", \"doctor\", \"doctor\", \"doctor\", \"doe\", \"dogg\", \"domingo\", \"done\", \"done\", \"done\", \"done\", \"done\", \"done\", \"done\", \"done\", \"done\", \"done\", \"doo\", \"doop\", \"dream\", \"dream\", \"dream\", \"dream\", \"dream\", \"dream\", \"dream\", \"dream\", \"dream\", \"dream\", \"dreams\", \"dreams\", \"dreams\", \"dreams\", \"dreams\", \"dreams\", \"dreams\", \"dreams\", \"dreams\", \"dreams\", \"drink\", \"drink\", \"drink\", \"drink\", \"drink\", \"drink\", \"drink\", \"drink\", \"drink\", \"drink\", \"drive\", \"drive\", \"drive\", \"drive\", \"drive\", \"drive\", \"drive\", \"drive\", \"drive\", \"drive\", \"dro\", \"drop\", \"drop\", \"drop\", \"drop\", \"drop\", \"drop\", \"drop\", \"drop\", \"drop\", \"drop\", \"drunk\", \"drunk\", \"drunk\", \"drunk\", \"drunk\", \"drunk\", \"drunk\", \"drunk\", \"drunk\", \"du\", \"dum\", \"dum\", \"dust\", \"dust\", \"dust\", \"dust\", \"dust\", \"dust\", \"dust\", \"dust\", \"dust\", \"dust\", \"e\", \"e\", \"e\", \"e\", \"e\", \"e\", \"e\", \"e\", \"e\", \"eagle\", \"eagle\", \"eagle\", \"eagle\", \"eagle\", \"eagle\", \"earth\", \"earth\", \"earth\", \"earth\", \"earth\", \"earth\", \"earth\", \"earth\", \"earth\", \"earth\", \"ee\", \"ee\", \"ee\", \"eh\", \"eh\", \"em\", \"em\", \"em\", \"em\", \"em\", \"em\", \"em\", \"em\", \"em\", \"em\", \"empire\", \"end\", \"end\", \"end\", \"end\", \"end\", \"end\", \"end\", \"end\", \"end\", \"end\", \"enemy\", \"enemy\", \"enemy\", \"eve\", \"eve\", \"eve\", \"ever\", \"ever\", \"ever\", \"ever\", \"ever\", \"ever\", \"ever\", \"ever\", \"ever\", \"ever\", \"everything\", \"everything\", \"everything\", \"everything\", \"everything\", \"everything\", \"everything\", \"everything\", \"everything\", \"everything\", \"evil\", \"evil\", \"evil\", \"evil\", \"evil\", \"evil\", \"evil\", \"excess\", \"eyes\", \"eyes\", \"eyes\", \"eyes\", \"eyes\", \"eyes\", \"eyes\", \"eyes\", \"eyes\", \"eyes\", \"fa\", \"fa\", \"fa\", \"face\", \"face\", \"face\", \"face\", \"face\", \"face\", \"face\", \"face\", \"face\", \"face\", \"fairytale\", \"fairytale\", \"faithless\", \"faithless\", \"fall\", \"fall\", \"fall\", \"fall\", \"fall\", \"fall\", \"fall\", \"fall\", \"fall\", \"fall\", \"falling\", \"falling\", \"falling\", \"falling\", \"falling\", \"falling\", \"falling\", \"falling\", \"falling\", \"family\", \"family\", \"family\", \"family\", \"family\", \"family\", \"family\", \"family\", \"family\", \"family\", \"father\", \"father\", \"father\", \"father\", \"father\", \"father\", \"father\", \"father\", \"father\", \"father\", \"feel\", \"feel\", \"feel\", \"feel\", \"feel\", \"feel\", \"feel\", \"feel\", \"feel\", \"feel\", \"feelin\", \"feelin\", \"feelin\", \"feelin\", \"feelin\", \"feelin\", \"feelin\", \"feelin\", \"feelin\", \"fever\", \"fever\", \"fever\", \"fever\", \"fever\", \"fever\", \"fever\", \"fever\", \"fiddle\", \"fiddle\", \"fiddle\", \"fiddle\", \"fight\", \"fight\", \"fight\", \"fight\", \"fight\", \"fight\", \"fight\", \"fight\", \"fight\", \"fight\", \"files\", \"fin\", \"find\", \"find\", \"find\", \"find\", \"find\", \"find\", \"find\", \"find\", \"find\", \"find\", \"fire\", \"fire\", \"fire\", \"fire\", \"fire\", \"fire\", \"fire\", \"fire\", \"fire\", \"fire\", \"fleece\", \"flick\", \"flies\", \"flies\", \"flies\", \"flies\", \"flies\", \"flies\", \"flies\", \"fly\", \"fly\", \"fly\", \"fly\", \"fly\", \"fly\", \"fly\", \"fly\", \"fly\", \"fly\", \"flyer\", \"flying\", \"flying\", \"flying\", \"flying\", \"flying\", \"flying\", \"flying\", \"flying\", \"flying\", \"flying\", \"footprints\", \"found\", \"found\", \"found\", \"found\", \"found\", \"found\", \"found\", \"found\", \"found\", \"found\", \"fox\", \"freaky\", \"free\", \"free\", \"free\", \"free\", \"free\", \"free\", \"free\", \"free\", \"free\", \"free\", \"freedom\", \"freedom\", \"freedom\", \"freedom\", \"freedom\", \"freedom\", \"freedom\", \"freedom\", \"fuck\", \"fuck\", \"fuck\", \"fuck\", \"fuck\", \"fuck\", \"fuck\", \"fuck\", \"fuck\", \"fuckin\", \"fuckin\", \"fuckin\", \"fuckin\", \"fuckin\", \"funk\", \"g\", \"g\", \"g\", \"g\", \"g\", \"g\", \"gambler\", \"gambler\", \"gangsta\", \"garden\", \"garden\", \"garden\", \"garden\", \"garden\", \"garden\", \"garden\", \"garden\", \"garden\", \"gasp\", \"gauge\", \"german\", \"get\", \"get\", \"get\", \"get\", \"get\", \"get\", \"get\", \"get\", \"get\", \"get\", \"getcha\", \"getting\", \"getting\", \"getting\", \"getting\", \"getting\", \"getting\", \"getting\", \"getting\", \"getting\", \"getting\", \"ghetto\", \"ghetto\", \"ghetto\", \"ghetto\", \"ghost\", \"ghost\", \"ghost\", \"ghost\", \"ghost\", \"ghost\", \"ghost\", \"ghost\", \"ghost\", \"ghost\", \"gimme\", \"gimme\", \"gimme\", \"gimme\", \"gimme\", \"girl\", \"girl\", \"girl\", \"girl\", \"girl\", \"girl\", \"girl\", \"girl\", \"girl\", \"girl\", \"give\", \"give\", \"give\", \"give\", \"give\", \"give\", \"give\", \"give\", \"give\", \"give\", \"glock\", \"gloria\", \"glorious\", \"glory\", \"glory\", \"glory\", \"glory\", \"glory\", \"glory\", \"go\", \"go\", \"go\", \"go\", \"go\", \"go\", \"go\", \"go\", \"go\", \"go\", \"god\", \"god\", \"god\", \"god\", \"god\", \"god\", \"god\", \"god\", \"god\", \"god\", \"goin\", \"goin\", \"goin\", \"goin\", \"goin\", \"goin\", \"goin\", \"goin\", \"goin\", \"goin\", \"going\", \"going\", \"going\", \"going\", \"going\", \"going\", \"going\", \"going\", \"going\", \"going\", \"gon\", \"gon\", \"gon\", \"gon\", \"gone\", \"gone\", \"gone\", \"gone\", \"gone\", \"gone\", \"gone\", \"gone\", \"gone\", \"gone\", \"gonna\", \"gonna\", \"gonna\", \"gonna\", \"gonna\", \"gonna\", \"gonna\", \"gonna\", \"gonna\", \"gonna\", \"good\", \"good\", \"good\", \"good\", \"good\", \"good\", \"good\", \"good\", \"good\", \"good\", \"goodbye\", \"goodbye\", \"goodbye\", \"goodbye\", \"goodbye\", \"goodbye\", \"goodbye\", \"goodbye\", \"goodbye\", \"goodbye\", \"got\", \"got\", \"got\", \"got\", \"got\", \"got\", \"got\", \"got\", \"got\", \"got\", \"gotta\", \"gotta\", \"gotta\", \"gotta\", \"gotta\", \"gotta\", \"gotta\", \"gotta\", \"gotta\", \"gotta\", \"grace\", \"grace\", \"grace\", \"grace\", \"grace\", \"grace\", \"grace\", \"grace\", \"grace\", \"green\", \"green\", \"green\", \"green\", \"green\", \"green\", \"green\", \"green\", \"green\", \"green\", \"gripping\", \"guilty\", \"guilty\", \"guilty\", \"guilty\", \"guilty\", \"guilty\", \"guilty\", \"gunna\", \"guts\", \"guts\", \"guts\", \"ha\", \"ha\", \"ha\", \"ha\", \"ha\", \"ha\", \"ha\", \"ha\", \"haa\", \"haa\", \"hah\", \"hah\", \"hallelujah\", \"hallelujah\", \"hallelujah\", \"hallelujah\", \"halloween\", \"halloween\", \"hands\", \"hands\", \"hands\", \"hands\", \"hands\", \"hands\", \"hands\", \"hands\", \"hands\", \"hands\", \"hang\", \"hang\", \"hang\", \"hang\", \"hang\", \"hang\", \"hang\", \"hang\", \"hang\", \"hang\", \"happy\", \"happy\", \"happy\", \"happy\", \"happy\", \"happy\", \"happy\", \"happy\", \"happy\", \"happy\", \"haters\", \"haunted\", \"haunted\", \"head\", \"head\", \"head\", \"head\", \"head\", \"head\", \"head\", \"head\", \"head\", \"head\", \"heals\", \"hear\", \"hear\", \"hear\", \"hear\", \"hear\", \"hear\", \"hear\", \"hear\", \"hear\", \"hear\", \"heart\", \"heart\", \"heart\", \"heart\", \"heart\", \"heart\", \"heart\", \"heart\", \"heart\", \"heart\", \"heaven\", \"heaven\", \"heaven\", \"heaven\", \"heaven\", \"heaven\", \"heaven\", \"heaven\", \"heaven\", \"heaven\", \"hell\", \"hell\", \"hell\", \"hell\", \"hell\", \"hell\", \"hell\", \"hell\", \"hell\", \"hell\", \"hello\", \"hello\", \"hello\", \"hello\", \"hello\", \"hello\", \"hello\", \"hello\", \"hello\", \"hello\", \"help\", \"help\", \"help\", \"help\", \"help\", \"help\", \"help\", \"help\", \"help\", \"help\", \"hey\", \"hey\", \"hey\", \"hey\", \"hey\", \"hey\", \"hey\", \"hey\", \"hey\", \"hey\", \"hi\", \"hi\", \"hi\", \"hi\", \"hi\", \"hi\", \"hi\", \"hit\", \"hit\", \"hit\", \"hit\", \"hit\", \"hit\", \"hit\", \"hit\", \"hit\", \"hit\", \"hitch\", \"hittas\", \"ho\", \"ho\", \"ho\", \"ho\", \"ho\", \"ho\", \"ho\", \"ho\", \"ho\", \"hoe\", \"hoe\", \"hoe\", \"hoe\", \"hoes\", \"hold\", \"hold\", \"hold\", \"hold\", \"hold\", \"hold\", \"hold\", \"hold\", \"hold\", \"hold\", \"holiday\", \"holiday\", \"holiday\", \"holiday\", \"holly\", \"hollywood\", \"hollywood\", \"hollywood\", \"hollywood\", \"hollywood\", \"hollywood\", \"holy\", \"holy\", \"holy\", \"holy\", \"holy\", \"holy\", \"holy\", \"holy\", \"home\", \"home\", \"home\", \"home\", \"home\", \"home\", \"home\", \"home\", \"home\", \"home\", \"homie\", \"homies\", \"hood\", \"hood\", \"hood\", \"hood\", \"hood\", \"hook\", \"hook\", \"hook\", \"hook\", \"hook\", \"hook\", \"hook\", \"hopelessly\", \"horse\", \"horse\", \"horse\", \"horse\", \"horse\", \"horse\", \"horse\", \"horse\", \"hot\", \"hot\", \"hot\", \"hot\", \"hot\", \"hot\", \"hot\", \"hot\", \"hot\", \"hotter\", \"humans\", \"hunter\", \"hyde\", \"idle\", \"idol\", \"ikaw\", \"immortal\", \"immortal\", \"incredible\", \"indian\", \"infant\", \"inside\", \"inside\", \"inside\", \"inside\", \"inside\", \"inside\", \"inside\", \"inside\", \"inside\", \"inside\", \"intoxicated\", \"invincible\", \"israel\", \"j\", \"j\", \"j\", \"j\", \"j\", \"j\", \"j\", \"jah\", \"jah\", \"jah\", \"jah\", \"jazz\", \"jealousy\", \"jean\", \"jean\", \"jean\", \"jelly\", \"jesse\", \"jesus\", \"jesus\", \"jesus\", \"jesus\", \"jesus\", \"jesus\", \"jesus\", \"jesus\", \"jesus\", \"jew\", \"jingle\", \"jo\", \"joe\", \"joe\", \"joe\", \"joe\", \"joe\", \"joe\", \"joe\", \"joe\", \"joe\", \"johnny\", \"johnny\", \"johnny\", \"johnny\", \"johnny\", \"johnny\", \"johnny\", \"jokes\", \"jokes\", \"jokes\", \"jokes\", \"jokes\", \"jokes\", \"jokes\", \"jokes\", \"jolene\", \"jolie\", \"joy\", \"joy\", \"joy\", \"joy\", \"joy\", \"joy\", \"joy\", \"joy\", \"joy\", \"judas\", \"judgment\", \"julie\", \"julie\", \"ka\", \"keep\", \"keep\", \"keep\", \"keep\", \"keep\", \"keep\", \"keep\", \"keep\", \"keep\", \"keep\", \"kill\", \"kill\", \"kill\", \"kill\", \"kill\", \"kill\", \"kill\", \"kill\", \"kill\", \"kill\", \"killa\", \"king\", \"king\", \"king\", \"king\", \"king\", \"king\", \"king\", \"king\", \"king\", \"king\", \"kiss\", \"kiss\", \"kiss\", \"kiss\", \"kiss\", \"kiss\", \"kiss\", \"kiss\", \"kiss\", \"kiss\", \"knock\", \"knock\", \"knock\", \"knock\", \"knock\", \"knock\", \"knock\", \"know\", \"know\", \"know\", \"know\", \"know\", \"know\", \"know\", \"know\", \"know\", \"know\", \"knows\", \"knows\", \"knows\", \"knows\", \"knows\", \"knows\", \"knows\", \"knows\", \"knows\", \"knows\", \"ko\", \"kung\", \"la\", \"la\", \"la\", \"la\", \"lady\", \"lady\", \"lady\", \"lady\", \"lady\", \"lady\", \"lady\", \"lady\", \"lady\", \"lala\", \"lambo\", \"land\", \"land\", \"land\", \"land\", \"land\", \"land\", \"land\", \"land\", \"land\", \"land\", \"law\", \"law\", \"law\", \"law\", \"law\", \"law\", \"law\", \"law\", \"le\", \"le\", \"le\", \"le\", \"le\", \"leaders\", \"leaders\", \"leave\", \"leave\", \"leave\", \"leave\", \"leave\", \"leave\", \"leave\", \"leave\", \"leave\", \"leave\", \"left\", \"left\", \"left\", \"left\", \"left\", \"left\", \"left\", \"left\", \"left\", \"left\", \"lemonade\", \"les\", \"les\", \"let\", \"let\", \"let\", \"let\", \"let\", \"let\", \"let\", \"let\", \"let\", \"let\", \"license\", \"life\", \"life\", \"life\", \"life\", \"life\", \"life\", \"life\", \"life\", \"life\", \"life\", \"lifeline\", \"light\", \"light\", \"light\", \"light\", \"light\", \"light\", \"light\", \"light\", \"light\", \"light\", \"like\", \"like\", \"like\", \"like\", \"like\", \"like\", \"like\", \"like\", \"like\", \"like\", \"likes\", \"likes\", \"likes\", \"likes\", \"likes\", \"likes\", \"likes\", \"likes\", \"likes\", \"lil\", \"lil\", \"lil\", \"lil\", \"limb\", \"linda\", \"ling\", \"ling\", \"lisa\", \"lisa\", \"lisa\", \"little\", \"little\", \"little\", \"little\", \"little\", \"little\", \"little\", \"little\", \"little\", \"little\", \"london\", \"london\", \"london\", \"london\", \"london\", \"london\", \"london\", \"london\", \"loneliness\", \"loneliness\", \"loneliness\", \"loneliness\", \"loneliness\", \"loneliness\", \"lonesome\", \"lonesome\", \"lonesome\", \"lonesome\", \"lonesome\", \"lonesome\", \"lonesome\", \"lonesome\", \"long\", \"long\", \"long\", \"long\", \"long\", \"long\", \"long\", \"long\", \"long\", \"long\", \"look\", \"look\", \"look\", \"look\", \"look\", \"look\", \"look\", \"look\", \"look\", \"look\", \"lookin\", \"lookin\", \"lookin\", \"lookin\", \"lookin\", \"lookin\", \"lookin\", \"lookin\", \"lookin\", \"lookin\", \"looking\", \"looking\", \"looking\", \"looking\", \"looking\", \"looking\", \"looking\", \"looking\", \"looking\", \"looking\", \"lord\", \"lord\", \"lord\", \"lord\", \"lord\", \"lord\", \"lord\", \"lord\", \"lord\", \"lord\", \"lost\", \"lost\", \"lost\", \"lost\", \"lost\", \"lost\", \"lost\", \"lost\", \"lost\", \"lost\", \"louder\", \"louder\", \"louder\", \"louder\", \"louder\", \"love\", \"love\", \"love\", \"love\", \"love\", \"love\", \"love\", \"love\", \"love\", \"love\", \"lover\", \"lover\", \"lover\", \"lover\", \"lover\", \"lover\", \"lover\", \"lover\", \"lover\", \"lovin\", \"lovin\", \"lovin\", \"lovin\", \"lovin\", \"lovin\", \"lovin\", \"lovin\", \"lovin\", \"lovin\", \"loving\", \"loving\", \"loving\", \"loving\", \"loving\", \"loving\", \"loving\", \"loving\", \"loving\", \"loving\", \"luck\", \"luck\", \"luck\", \"luck\", \"luck\", \"luck\", \"luck\", \"luck\", \"luck\", \"luck\", \"luxury\", \"mack\", \"made\", \"made\", \"made\", \"made\", \"made\", \"made\", \"made\", \"made\", \"made\", \"made\", \"magic\", \"magic\", \"magic\", \"magic\", \"magic\", \"magic\", \"magic\", \"magic\", \"magic\", \"maintain\", \"maintain\", \"majesty\", \"make\", \"make\", \"make\", \"make\", \"make\", \"make\", \"make\", \"make\", \"make\", \"make\", \"mama\", \"mama\", \"mama\", \"mama\", \"mama\", \"mama\", \"mama\", \"mama\", \"mama\", \"mama\", \"man\", \"man\", \"man\", \"man\", \"man\", \"man\", \"man\", \"man\", \"man\", \"man\", \"mane\", \"manic\", \"many\", \"many\", \"many\", \"many\", \"many\", \"many\", \"many\", \"many\", \"many\", \"many\", \"marble\", \"marie\", \"mary\", \"mary\", \"mary\", \"mary\", \"mary\", \"mary\", \"mary\", \"mary\", \"mary\", \"mask\", \"mask\", \"mask\", \"mask\", \"masters\", \"material\", \"material\", \"material\", \"mattered\", \"mc\", \"mean\", \"mean\", \"mean\", \"mean\", \"mean\", \"mean\", \"mean\", \"mean\", \"mean\", \"mean\", \"melancholy\", \"memories\", \"memories\", \"memories\", \"memories\", \"memories\", \"memories\", \"memories\", \"memories\", \"memory\", \"memory\", \"memory\", \"memory\", \"memory\", \"memory\", \"memory\", \"memory\", \"mercy\", \"mercy\", \"mercy\", \"mercy\", \"mercy\", \"mercy\", \"mercy\", \"mercy\", \"merry\", \"merry\", \"merry\", \"metal\", \"metal\", \"metal\", \"metal\", \"metal\", \"metal\", \"mi\", \"mi\", \"mi\", \"mic\", \"millennium\", \"mind\", \"mind\", \"mind\", \"mind\", \"mind\", \"mind\", \"mind\", \"mind\", \"mind\", \"mind\", \"mine\", \"mine\", \"mine\", \"mine\", \"mine\", \"mine\", \"mine\", \"mine\", \"mine\", \"mine\", \"mirror\", \"mirror\", \"mirror\", \"mirror\", \"mirror\", \"mirror\", \"mirror\", \"mirror\", \"mississippi\", \"mississippi\", \"mississippi\", \"mississippi\", \"mississippi\", \"mistletoe\", \"mm\", \"mm\", \"mm\", \"mm\", \"mm\", \"mo\", \"mo\", \"mo\", \"molly\", \"molly\", \"mon\", \"mon\", \"mon\", \"mon\", \"mon\", \"monday\", \"monday\", \"monday\", \"monday\", \"monday\", \"monday\", \"monday\", \"monday\", \"money\", \"money\", \"money\", \"money\", \"money\", \"money\", \"money\", \"money\", \"money\", \"money\", \"monkey\", \"monkey\", \"monkey\", \"monkey\", \"monkey\", \"monkey\", \"monkey\", \"monster\", \"monster\", \"monster\", \"mony\", \"moon\", \"moon\", \"moon\", \"moon\", \"moon\", \"moon\", \"moon\", \"moon\", \"moon\", \"moon\", \"moonshine\", \"mossy\", \"mother\", \"mother\", \"mother\", \"mother\", \"mother\", \"mother\", \"mother\", \"mother\", \"mother\", \"mother\", \"motherfucker\", \"motherfuckers\", \"motherfuckers\", \"motherfuckin\", \"motherfucking\", \"mu\", \"mummy\", \"music\", \"music\", \"music\", \"music\", \"music\", \"music\", \"music\", \"music\", \"music\", \"music\", \"n\", \"n\", \"n\", \"n\", \"n\", \"n\", \"n\", \"n\", \"n\", \"n\", \"na\", \"na\", \"na\", \"naah\", \"naah\", \"name\", \"name\", \"name\", \"name\", \"name\", \"name\", \"name\", \"name\", \"name\", \"name\", \"nana\", \"nana\", \"nations\", \"nations\", \"need\", \"need\", \"need\", \"need\", \"need\", \"need\", \"need\", \"need\", \"need\", \"need\", \"needin\", \"neva\", \"never\", \"never\", \"never\", \"never\", \"never\", \"never\", \"never\", \"never\", \"never\", \"never\", \"new\", \"new\", \"new\", \"new\", \"new\", \"new\", \"new\", \"new\", \"new\", \"new\", \"ng\", \"nigel\", \"nigel\", \"nigel\", \"nigga\", \"nigga\", \"nigga\", \"niggas\", \"niggas\", \"niggaz\", \"niggaz\", \"night\", \"night\", \"night\", \"night\", \"night\", \"night\", \"night\", \"night\", \"night\", \"night\", \"nobody\", \"nobody\", \"nobody\", \"nobody\", \"nobody\", \"nobody\", \"nobody\", \"nobody\", \"nobody\", \"nobody\", \"noose\", \"northern\", \"notes\", \"notes\", \"nuh\", \"nuh\", \"nuh\", \"nuh\", \"nuh\", \"nuh\", \"nuts\", \"nuts\", \"oh\", \"oh\", \"oh\", \"oh\", \"oh\", \"oh\", \"oh\", \"oh\", \"oh\", \"oh\", \"ohohoh\", \"oklahoma\", \"old\", \"old\", \"old\", \"old\", \"old\", \"old\", \"old\", \"old\", \"old\", \"old\", \"one\", \"one\", \"one\", \"one\", \"one\", \"one\", \"one\", \"one\", \"one\", \"one\", \"ooh\", \"ooh\", \"ooh\", \"ooh\", \"ooh\", \"ooh\", \"ooh\", \"ooh\", \"ooh\", \"ooh\", \"ooo\", \"ooo\", \"ooo\", \"ooo\", \"ooo\", \"oooo\", \"oooo\", \"open\", \"open\", \"open\", \"open\", \"open\", \"open\", \"open\", \"open\", \"open\", \"open\", \"orchids\", \"outcome\", \"outlaw\", \"outlaw\", \"outlaw\", \"outta\", \"outta\", \"outta\", \"outta\", \"outta\", \"outta\", \"outta\", \"outta\", \"ow\", \"ow\", \"ow\", \"ow\", \"ow\", \"ow\", \"p\", \"p\", \"p\", \"pa\", \"pa\", \"pa\", \"pad\", \"party\", \"party\", \"party\", \"party\", \"party\", \"party\", \"party\", \"party\", \"party\", \"party\", \"paths\", \"paths\", \"patron\", \"patton\", \"pawn\", \"pay\", \"pay\", \"pay\", \"pay\", \"pay\", \"pay\", \"pay\", \"pay\", \"pay\", \"pay\", \"peace\", \"peace\", \"peace\", \"peace\", \"peace\", \"peace\", \"peace\", \"peace\", \"peace\", \"peace\", \"people\", \"people\", \"people\", \"people\", \"people\", \"people\", \"people\", \"people\", \"people\", \"people\", \"physical\", \"pinch\", \"playa\", \"please\", \"please\", \"please\", \"please\", \"please\", \"please\", \"please\", \"please\", \"please\", \"please\", \"poison\", \"poison\", \"poison\", \"poison\", \"poison\", \"poison\", \"poison\", \"poke\", \"pop\", \"pop\", \"pop\", \"pop\", \"pop\", \"pop\", \"pop\", \"poppa\", \"power\", \"power\", \"power\", \"power\", \"power\", \"power\", \"power\", \"power\", \"power\", \"power\", \"praise\", \"praise\", \"praise\", \"preaching\", \"presents\", \"pretty\", \"pretty\", \"pretty\", \"pretty\", \"pretty\", \"pretty\", \"pretty\", \"pretty\", \"pretty\", \"pretty\", \"priest\", \"priest\", \"priest\", \"proclaim\", \"pulsing\", \"pum\", \"pump\", \"pump\", \"pump\", \"pussy\", \"put\", \"put\", \"put\", \"put\", \"put\", \"put\", \"put\", \"put\", \"put\", \"put\", \"que\", \"que\", \"ra\", \"radio\", \"radio\", \"radio\", \"radio\", \"radio\", \"radio\", \"radio\", \"radio\", \"radio\", \"radio\", \"railway\", \"rain\", \"rain\", \"rain\", \"rain\", \"rain\", \"rain\", \"rain\", \"rain\", \"rain\", \"rain\", \"rainin\", \"rainin\", \"raining\", \"raining\", \"raining\", \"raining\", \"ranks\", \"rap\", \"rap\", \"rap\", \"really\", \"really\", \"really\", \"really\", \"really\", \"really\", \"really\", \"really\", \"really\", \"really\", \"reaper\", \"reaper\", \"reaper\", \"recover\", \"red\", \"red\", \"red\", \"red\", \"red\", \"red\", \"red\", \"red\", \"red\", \"red\", \"reign\", \"reigns\", \"remember\", \"remember\", \"remember\", \"remember\", \"remember\", \"remember\", \"remember\", \"remember\", \"remember\", \"remember\", \"repeated\", \"repent\", \"replay\", \"replay\", \"replay\", \"revival\", \"ribbons\", \"right\", \"right\", \"right\", \"right\", \"right\", \"right\", \"right\", \"right\", \"right\", \"right\", \"ring\", \"ring\", \"ring\", \"ring\", \"ring\", \"ring\", \"ring\", \"ring\", \"ring\", \"ring\", \"risen\", \"river\", \"river\", \"river\", \"river\", \"river\", \"river\", \"river\", \"river\", \"river\", \"river\", \"ro\", \"ro\", \"ro\", \"road\", \"road\", \"road\", \"road\", \"road\", \"road\", \"road\", \"road\", \"road\", \"road\", \"rock\", \"rock\", \"rock\", \"rock\", \"rock\", \"rock\", \"rock\", \"rock\", \"rock\", \"rock\", \"rocker\", \"rocker\", \"roll\", \"roll\", \"roll\", \"roll\", \"roll\", \"roll\", \"roll\", \"roll\", \"roll\", \"roll\", \"ron\", \"round\", \"round\", \"round\", \"round\", \"round\", \"round\", \"round\", \"round\", \"round\", \"round\", \"roundabout\", \"rumour\", \"run\", \"run\", \"run\", \"run\", \"run\", \"run\", \"run\", \"run\", \"run\", \"run\", \"runaway\", \"runaway\", \"sa\", \"safely\", \"said\", \"said\", \"said\", \"said\", \"said\", \"said\", \"said\", \"said\", \"said\", \"said\", \"sally\", \"salome\", \"san\", \"san\", \"san\", \"san\", \"santa\", \"santa\", \"santa\", \"santa\", \"sarah\", \"save\", \"save\", \"save\", \"save\", \"save\", \"save\", \"save\", \"save\", \"save\", \"save\", \"savior\", \"savior\", \"savior\", \"savior\", \"say\", \"say\", \"say\", \"say\", \"say\", \"say\", \"say\", \"say\", \"say\", \"say\", \"says\", \"says\", \"says\", \"says\", \"says\", \"says\", \"says\", \"says\", \"says\", \"says\", \"scarecrow\", \"sean\", \"seasons\", \"seasons\", \"seasons\", \"seasons\", \"seasons\", \"seasons\", \"seasons\", \"see\", \"see\", \"see\", \"see\", \"see\", \"see\", \"see\", \"see\", \"see\", \"see\", \"seems\", \"seems\", \"seems\", \"seems\", \"seems\", \"seems\", \"seems\", \"seems\", \"seems\", \"sells\", \"sha\", \"shake\", \"shake\", \"shake\", \"shake\", \"shake\", \"shake\", \"shake\", \"shake\", \"shake\", \"shake\", \"shared\", \"shared\", \"shared\", \"shared\", \"shared\", \"shawty\", \"sheena\", \"shine\", \"shine\", \"shine\", \"shine\", \"shine\", \"shine\", \"shine\", \"shine\", \"shine\", \"shine\", \"shit\", \"shit\", \"shit\", \"shit\", \"shit\", \"shit\", \"shit\", \"shit\", \"shits\", \"shoop\", \"shot\", \"shot\", \"shot\", \"shot\", \"shot\", \"shot\", \"shot\", \"shot\", \"shot\", \"shot\", \"shuffle\", \"shuffle\", \"silly\", \"silly\", \"silly\", \"silly\", \"silly\", \"silly\", \"silly\", \"sing\", \"sing\", \"sing\", \"sing\", \"sing\", \"sing\", \"sing\", \"sing\", \"sing\", \"sing\", \"singer\", \"singer\", \"singer\", \"singer\", \"singer\", \"singer\", \"sir\", \"sir\", \"sir\", \"sir\", \"sir\", \"sir\", \"sir\", \"sir\", \"skeletal\", \"skeleton\", \"sky\", \"sky\", \"sky\", \"sky\", \"sky\", \"sky\", \"sky\", \"sky\", \"sky\", \"sky\", \"sleepwalkin\", \"sleigh\", \"slow\", \"slow\", \"slow\", \"slow\", \"slow\", \"slow\", \"slow\", \"slow\", \"slow\", \"slow\", \"snoop\", \"snoop\", \"snow\", \"snow\", \"snow\", \"snow\", \"snow\", \"snow\", \"snow\", \"snow\", \"snow\", \"snowing\", \"soaring\", \"soil\", \"something\", \"something\", \"something\", \"something\", \"something\", \"something\", \"something\", \"something\", \"something\", \"something\", \"somewhere\", \"somewhere\", \"somewhere\", \"somewhere\", \"somewhere\", \"somewhere\", \"somewhere\", \"somewhere\", \"somewhere\", \"son\", \"son\", \"son\", \"son\", \"son\", \"son\", \"son\", \"son\", \"son\", \"son\", \"sons\", \"sons\", \"sons\", \"sons\", \"sons\", \"sorrow\", \"sorrow\", \"sorrow\", \"sorrow\", \"sorrow\", \"sorrow\", \"sorry\", \"sorry\", \"sorry\", \"sorry\", \"sorry\", \"sorry\", \"sorry\", \"sorry\", \"sorry\", \"sorry\", \"soul\", \"soul\", \"soul\", \"soul\", \"soul\", \"soul\", \"soul\", \"soul\", \"soul\", \"soul\", \"sowing\", \"spendin\", \"spendin\", \"spider\", \"spider\", \"spider\", \"spider\", \"spiritual\", \"spiritual\", \"spittin\", \"stacked\", \"stained\", \"stained\", \"stalking\", \"starter\", \"static\", \"status\", \"steppin\", \"steppin\", \"steppin\", \"steppin\", \"steppin\", \"steppin\", \"sticking\", \"sticky\", \"sticky\", \"sticky\", \"still\", \"still\", \"still\", \"still\", \"still\", \"still\", \"still\", \"still\", \"still\", \"still\", \"stop\", \"stop\", \"stop\", \"stop\", \"stop\", \"stop\", \"stop\", \"stop\", \"stop\", \"stop\", \"stripper\", \"stupidly\", \"stupidly\", \"stupidly\", \"stupidly\", \"submission\", \"sucking\", \"sun\", \"sun\", \"sun\", \"sun\", \"sun\", \"sun\", \"sun\", \"sun\", \"sun\", \"sun\", \"sunshine\", \"sunshine\", \"sunshine\", \"sunshine\", \"sunshine\", \"sunshine\", \"sunshine\", \"sunshine\", \"sunshine\", \"support\", \"support\", \"surrounding\", \"susan\", \"sweet\", \"sweet\", \"sweet\", \"sweet\", \"sweet\", \"sweet\", \"sweet\", \"sweet\", \"sweet\", \"sweet\", \"swine\", \"sword\", \"sword\", \"sword\", \"sword\", \"sword\", \"ta\", \"ta\", \"ta\", \"take\", \"take\", \"take\", \"take\", \"take\", \"take\", \"take\", \"take\", \"take\", \"take\", \"talk\", \"talk\", \"talk\", \"talk\", \"talk\", \"talk\", \"talk\", \"talk\", \"talk\", \"talk\", \"talking\", \"talking\", \"talking\", \"talking\", \"talking\", \"talking\", \"talking\", \"talking\", \"talking\", \"talking\", \"taller\", \"tang\", \"tax\", \"tax\", \"tax\", \"tay\", \"teardrops\", \"teardrops\", \"teardrops\", \"tears\", \"tears\", \"tears\", \"tears\", \"tears\", \"tears\", \"tears\", \"tears\", \"tears\", \"tears\", \"teenage\", \"telescope\", \"tell\", \"tell\", \"tell\", \"tell\", \"tell\", \"tell\", \"tell\", \"tell\", \"tell\", \"tell\", \"tha\", \"tha\", \"thang\", \"think\", \"think\", \"think\", \"think\", \"think\", \"think\", \"think\", \"think\", \"think\", \"think\", \"thugs\", \"thugs\", \"thugs\", \"thump\", \"thy\", \"thy\", \"tides\", \"time\", \"time\", \"time\", \"time\", \"time\", \"time\", \"time\", \"time\", \"time\", \"time\", \"times\", \"times\", \"times\", \"times\", \"times\", \"times\", \"times\", \"times\", \"times\", \"times\", \"tomorrow\", \"tomorrow\", \"tomorrow\", \"tomorrow\", \"tomorrow\", \"tomorrow\", \"tomorrow\", \"tomorrow\", \"tomorrow\", \"tonight\", \"tonight\", \"tonight\", \"tonight\", \"tonight\", \"tonight\", \"tonight\", \"tonight\", \"tonight\", \"tonight\", \"tony\", \"touch\", \"touch\", \"touch\", \"touch\", \"touch\", \"touch\", \"touch\", \"touch\", \"touch\", \"touch\", \"toughest\", \"town\", \"town\", \"town\", \"town\", \"town\", \"town\", \"town\", \"town\", \"town\", \"town\", \"tra\", \"trading\", \"tradition\", \"trails\", \"trampled\", \"treason\", \"tree\", \"tree\", \"tree\", \"tree\", \"tree\", \"tree\", \"tree\", \"tree\", \"tree\", \"trigger\", \"trigger\", \"trigger\", \"trigger\", \"tryna\", \"tu\", \"tu\", \"tuff\", \"turn\", \"turn\", \"turn\", \"turn\", \"turn\", \"turn\", \"turn\", \"turn\", \"turn\", \"turn\", \"uh\", \"uh\", \"uh\", \"uh\", \"uh\", \"uh\", \"uh\", \"uh\", \"unbroken\", \"unbroken\", \"underground\", \"underground\", \"underground\", \"underground\", \"underground\", \"underground\", \"underground\", \"unh\", \"unit\", \"untrue\", \"untrue\", \"us\", \"us\", \"us\", \"us\", \"us\", \"us\", \"us\", \"us\", \"us\", \"us\", \"vibe\", \"vida\", \"volume\", \"wa\", \"wag\", \"wah\", \"wanna\", \"wanna\", \"wanna\", \"wanna\", \"wanna\", \"wanna\", \"wanna\", \"wanna\", \"wanna\", \"wanna\", \"want\", \"want\", \"want\", \"want\", \"want\", \"want\", \"want\", \"want\", \"want\", \"want\", \"wants\", \"wants\", \"wants\", \"wants\", \"wants\", \"wants\", \"wants\", \"wants\", \"wants\", \"wants\", \"war\", \"war\", \"war\", \"war\", \"war\", \"war\", \"war\", \"war\", \"war\", \"war\", \"warrior\", \"warrior\", \"waterfall\", \"wavin\", \"way\", \"way\", \"way\", \"way\", \"way\", \"way\", \"way\", \"way\", \"way\", \"way\", \"wearin\", \"weed\", \"weed\", \"weed\", \"weed\", \"weed\", \"weh\", \"weh\", \"weh\", \"weh\", \"well\", \"well\", \"well\", \"well\", \"well\", \"well\", \"well\", \"well\", \"well\", \"well\", \"whip\", \"white\", \"white\", \"white\", \"white\", \"white\", \"white\", \"white\", \"white\", \"white\", \"white\", \"whoa\", \"whoa\", \"whoa\", \"whoa\", \"whoa\", \"whoa\", \"whoa\", \"whoa\", \"whoa\", \"wife\", \"wife\", \"wife\", \"wife\", \"wife\", \"wife\", \"wife\", \"wife\", \"wife\", \"wife\", \"willy\", \"wings\", \"wings\", \"wings\", \"wings\", \"wings\", \"wings\", \"wings\", \"wings\", \"wings\", \"wired\", \"wires\", \"wires\", \"wish\", \"wish\", \"wish\", \"wish\", \"wish\", \"wish\", \"wish\", \"wish\", \"wish\", \"wish\", \"wit\", \"wit\", \"woh\", \"woh\", \"woman\", \"woman\", \"woman\", \"woman\", \"woman\", \"woman\", \"woman\", \"woman\", \"woman\", \"woman\", \"world\", \"world\", \"world\", \"world\", \"world\", \"world\", \"world\", \"world\", \"world\", \"world\", \"worship\", \"worship\", \"worship\", \"worship\", \"worthwhile\", \"worthwhile\", \"would\", \"would\", \"would\", \"would\", \"would\", \"would\", \"would\", \"would\", \"would\", \"would\", \"wu\", \"wu\", \"wu\", \"ya\", \"ya\", \"ya\", \"ya\", \"ya\", \"ya\", \"ya\", \"ya\", \"ya\", \"ya\", \"yall\", \"yang\", \"yeah\", \"yeah\", \"yeah\", \"yeah\", \"yeah\", \"yeah\", \"yeah\", \"yeah\", \"yeah\", \"yeah\", \"year\", \"year\", \"year\", \"year\", \"year\", \"year\", \"year\", \"year\", \"year\", \"year\", \"yesterday\", \"yesterday\", \"yesterday\", \"yesterday\", \"yesterday\", \"yesterday\", \"yesterday\", \"yesterday\", \"yi\", \"yo\", \"yo\", \"yo\", \"yo\", \"yo\", \"yo\", \"young\", \"young\", \"young\", \"young\", \"young\", \"young\", \"young\", \"young\", \"young\", \"young\", \"yuh\", \"yuh\", \"yup\", \"yup\", \"yup\"]}, \"R\": 30, \"lambda.step\": 0.01, \"plot.opts\": {\"xlab\": \"PC1\", \"ylab\": \"PC2\"}, \"topic.order\": [5, 8, 4, 3, 7, 9, 1, 6, 2, 10]};\n",
              "\n",
              "function LDAvis_load_lib(url, callback){\n",
              "  var s = document.createElement('script');\n",
              "  s.src = url;\n",
              "  s.async = true;\n",
              "  s.onreadystatechange = s.onload = callback;\n",
              "  s.onerror = function(){console.warn(\"failed to load library \" + url);};\n",
              "  document.getElementsByTagName(\"head\")[0].appendChild(s);\n",
              "}\n",
              "\n",
              "if(typeof(LDAvis) !== \"undefined\"){\n",
              "   // already loaded: just create the visualization\n",
              "   !function(LDAvis){\n",
              "       new LDAvis(\"#\" + \"ldavis_el579855892437286519589306\", ldavis_el579855892437286519589306_data);\n",
              "   }(LDAvis);\n",
              "}else if(typeof define === \"function\" && define.amd){\n",
              "   // require.js is available: use it to load d3/LDAvis\n",
              "   require.config({paths: {d3: \"https://cdnjs.cloudflare.com/ajax/libs/d3/3.5.5/d3.min\"}});\n",
              "   require([\"d3\"], function(d3){\n",
              "      window.d3 = d3;\n",
              "      LDAvis_load_lib(\"https://cdn.rawgit.com/bmabey/pyLDAvis/files/ldavis.v1.0.0.js\", function(){\n",
              "        new LDAvis(\"#\" + \"ldavis_el579855892437286519589306\", ldavis_el579855892437286519589306_data);\n",
              "      });\n",
              "    });\n",
              "}else{\n",
              "    // require.js not available: dynamically load d3 & LDAvis\n",
              "    LDAvis_load_lib(\"https://cdnjs.cloudflare.com/ajax/libs/d3/3.5.5/d3.min.js\", function(){\n",
              "         LDAvis_load_lib(\"https://cdn.rawgit.com/bmabey/pyLDAvis/files/ldavis.v1.0.0.js\", function(){\n",
              "                 new LDAvis(\"#\" + \"ldavis_el579855892437286519589306\", ldavis_el579855892437286519589306_data);\n",
              "            })\n",
              "         });\n",
              "}\n",
              "</script>"
            ],
            "text/plain": [
              "PreparedData(topic_coordinates=            Freq  cluster  topics         x         y\n",
              "topic                                                \n",
              "4      21.429867        1       1 -0.120977 -0.057590\n",
              "7      20.073241        1       2 -0.126686  0.077677\n",
              "3      10.930410        1       3 -0.096636 -0.049134\n",
              "2      10.720966        1       4 -0.057248 -0.014889\n",
              "6       9.130781        1       5  0.007119 -0.190588\n",
              "8       8.685259        1       6 -0.048214  0.165414\n",
              "0       6.139772        1       7 -0.021514  0.109548\n",
              "5       5.922410        1       8 -0.020849 -0.172628\n",
              "1       5.025558        1       9  0.047521  0.134546\n",
              "9       1.941736        1      10  0.437484 -0.002357, topic_info=      Category          Freq        Term         Total  loglift  logprob\n",
              "term                                                                    \n",
              "59     Default  46567.000000          oh  46567.000000  30.0000  30.0000\n",
              "110    Default  79610.000000        love  79610.000000  29.0000  29.0000\n",
              "101    Default  37147.000000         get  37147.000000  28.0000  28.0000\n",
              "649    Default   9549.000000          la   9549.000000  27.0000  27.0000\n",
              "1022   Default  27539.000000        yeah  27539.000000  26.0000  26.0000\n",
              "457    Default  37332.000000        want  37332.000000  25.0000  25.0000\n",
              "82     Default  32971.000000        baby  32971.000000  24.0000  24.0000\n",
              "3625   Default   6649.000000          na   6649.000000  23.0000  23.0000\n",
              "493    Default  40097.000000         got  40097.000000  22.0000  22.0000\n",
              "50     Default  63511.000000        know  63511.000000  21.0000  21.0000\n",
              "153    Default  15934.000000      little  15934.000000  20.0000  20.0000\n",
              "562    Default  20818.000000         man  20818.000000  19.0000  19.0000\n",
              "6553   Default   4914.000000          da   4914.000000  18.0000  18.0000\n",
              "72     Default  27083.000000        take  27083.000000  17.0000  17.0000\n",
              "338    Default  24567.000000        back  24567.000000  16.0000  16.0000\n",
              "14094  Default   5683.000000       nigga   5683.000000  15.0000  15.0000\n",
              "104    Default   8943.000000       gotta   8943.000000  14.0000  14.0000\n",
              "850    Default  10249.000000         hey  10249.000000  13.0000  13.0000\n",
              "102    Default   6892.000000         god   6892.000000  12.0000  12.0000\n",
              "182    Default  23438.000000       gonna  23438.000000  11.0000  11.0000\n",
              "704    Default   6905.000000          ya   6905.000000  10.0000  10.0000\n",
              "461    Default   4616.000000          ah   4616.000000   9.0000   9.0000\n",
              "383    Default   4972.000000        lord   4972.000000   8.0000   8.0000\n",
              "51     Default  33560.000000         let  33560.000000   7.0000   7.0000\n",
              "54     Default  52055.000000        like  52055.000000   6.0000   6.0000\n",
              "391    Default   6027.000000       dance   6027.000000   5.0000   5.0000\n",
              "2318   Default   4327.000000        fuck   4327.000000   4.0000   4.0000\n",
              "2329   Default   4355.000000        shit   4355.000000   3.0000   3.0000\n",
              "417    Default   4876.000000          em   4876.000000   2.0000   2.0000\n",
              "833    Default  22796.000000       heart  22796.000000   1.0000   1.0000\n",
              "...        ...           ...         ...           ...      ...      ...\n",
              "5799   Topic10    173.349242      gloria    174.299531   3.9361  -6.3724\n",
              "4258   Topic10    153.778420        ikaw    154.642736   3.9360  -6.4922\n",
              "692    Topic10    228.782687          tu    230.123984   3.9357  -6.0949\n",
              "19189  Topic10    135.856897  millennium    136.723007   3.9352  -6.6161\n",
              "17327  Topic10    125.632483       manic    126.459104   3.9350  -6.6944\n",
              "18531  Topic10    334.877820        nana    337.098237   3.9350  -5.7139\n",
              "2339   Topic10    379.310821          ee    381.834437   3.9350  -5.5894\n",
              "14445  Topic10    123.313712     starter    124.149947   3.9348  -6.7130\n",
              "16191  Topic10    118.911892       poppa    119.739593   3.9347  -6.7493\n",
              "139    Topic10   1545.557903        boom   1560.261452   3.9321  -4.1846\n",
              "19696  Topic10    157.361699         les    158.732338   3.9329  -6.4692\n",
              "143    Topic10   1474.996832          de   1558.129545   3.8868  -4.2313\n",
              "40738  Topic10    309.163581         deh    316.349389   3.9186  -5.7938\n",
              "793    Topic10   1045.111282       gimme   1103.879599   3.8869  -4.5758\n",
              "41502  Topic10    268.306049         weh    275.978148   3.9134  -5.9356\n",
              "1542   Topic10    692.599692          pa    754.647144   3.8558  -4.9873\n",
              "18303  Topic10    311.224371         nuh    336.806469   3.8626  -5.7872\n",
              "675    Topic10    178.261870         que    180.533419   3.9289  -6.3445\n",
              "9218   Topic10    257.368625          le    279.987094   3.8574  -5.9772\n",
              "2682   Topic10    517.052323  hallelujah    667.943845   3.6855  -5.2796\n",
              "8179   Topic10    213.176721     bananas    224.423216   3.8902  -6.1656\n",
              "5893   Topic10    565.628905      monday    756.309666   3.6511  -5.1898\n",
              "4340   Topic10    581.509545          mo    867.544955   3.5415  -5.1621\n",
              "18365  Topic10    251.130606         yuh    282.978470   3.8222  -6.0017\n",
              "960    Topic10    694.556913       hello   1336.401082   3.2871  -4.9844\n",
              "3380   Topic10    280.415187      boogie    338.454407   3.7535  -5.8914\n",
              "1283   Topic10    319.207367      monkey    511.728167   3.4696  -5.7619\n",
              "356    Topic10    311.758880         joe    668.672687   3.1785  -5.7855\n",
              "2085   Topic10    382.071861         war   2538.512688   2.0479  -5.5821\n",
              "562    Topic10    282.077505         man  20818.522517  -0.3598  -5.8855\n",
              "\n",
              "[879 rows x 6 columns], token_table=       Topic      Freq         Term\n",
              "term                               \n",
              "8385       3  0.994517           14\n",
              "7349       2  0.072044           22\n",
              "7349       4  0.891975           22\n",
              "7349       8  0.034307           22\n",
              "2056       1  0.036121       across\n",
              "2056       2  0.193738       across\n",
              "2056       3  0.022986       across\n",
              "2056       4  0.064267       across\n",
              "2056       5  0.020640       across\n",
              "2056       6  0.470038       across\n",
              "2056       7  0.063798       across\n",
              "2056       8  0.022986       across\n",
              "2056       9  0.104609       across\n",
              "2056      10  0.000469       across\n",
              "6156       3  0.994009      advance\n",
              "3391       6  0.987724  aggravation\n",
              "461        1  0.037911           ah\n",
              "461        2  0.004766           ah\n",
              "461        3  0.001083           ah\n",
              "461        4  0.021447           ah\n",
              "461        5  0.001950           ah\n",
              "461        6  0.003250           ah\n",
              "461        7  0.025346           ah\n",
              "461        8  0.895996           ah\n",
              "461        9  0.003250           ah\n",
              "461       10  0.004983           ah\n",
              "26149     10  0.992868           ai\n",
              "10501      2  0.987684         aids\n",
              "4388      10  0.997409          ako\n",
              "208        1  0.160785        alive\n",
              "...      ...       ...          ...\n",
              "893        1  0.056764    yesterday\n",
              "893        2  0.784239    yesterday\n",
              "893        3  0.114275    yesterday\n",
              "893        4  0.014191    yesterday\n",
              "893        6  0.008216    yesterday\n",
              "893        7  0.010457    yesterday\n",
              "893        8  0.007469    yesterday\n",
              "893        9  0.004481    yesterday\n",
              "16697     10  0.995636           yi\n",
              "705        3  0.001230           yo\n",
              "705        5  0.936302           yo\n",
              "705        7  0.000307           yo\n",
              "705        8  0.013525           yo\n",
              "705        9  0.000307           yo\n",
              "705       10  0.048567           yo\n",
              "436        1  0.047010        young\n",
              "436        2  0.220090        young\n",
              "436        3  0.059403        young\n",
              "436        4  0.341888        young\n",
              "436        5  0.116669        young\n",
              "436        6  0.060899        young\n",
              "436        7  0.032266        young\n",
              "436        8  0.036112        young\n",
              "436        9  0.081626        young\n",
              "436       10  0.004060        young\n",
              "18365      5  0.109549          yuh\n",
              "18365     10  0.886993          yuh\n",
              "5592       1  0.003706          yup\n",
              "5592       7  0.007413          yup\n",
              "5592       8  0.985900          yup\n",
              "\n",
              "[3632 rows x 3 columns], R=30, lambda_step=0.01, plot_opts={'xlab': 'PC1', 'ylab': 'PC2'}, topic_order=[5, 8, 4, 3, 7, 9, 1, 6, 2, 10])"
            ]
          },
          "metadata": {
            "tags": []
          },
          "execution_count": 43
        }
      ]
    },
    {
      "metadata": {
        "id": "93jH7z7Xg3rq",
        "colab_type": "code",
        "outputId": "0293585e-5c15-4b1b-e6b9-42e5f9a9088a",
        "colab": {
          "base_uri": "https://localhost:8080/",
          "height": 122
        }
      },
      "cell_type": "code",
      "source": [
        "import numpy as np\n",
        "from sklearn.model_selection import train_test_split\n",
        "from keras.preprocessing import sequence\n",
        "from keras.utils import to_categorical"
      ],
      "execution_count": 0,
      "outputs": [
        {
          "output_type": "stream",
          "text": [
            "Using TensorFlow backend.\n",
            "/usr/local/lib/python3.6/dist-packages/tensorflow/python/util/tf_inspect.py:75: DeprecationWarning: inspect.getargspec() is deprecated, use inspect.signature() or inspect.getfullargspec()\n",
            "  return _inspect.getargspec(target)\n",
            "/usr/local/lib/python3.6/dist-packages/tensorflow/python/util/tf_inspect.py:75: DeprecationWarning: inspect.getargspec() is deprecated, use inspect.signature() or inspect.getfullargspec()\n",
            "  return _inspect.getargspec(target)\n"
          ],
          "name": "stderr"
        }
      ]
    },
    {
      "metadata": {
        "id": "jPHMGmSYg3rs",
        "colab_type": "code",
        "outputId": "06c070ba-3560-42a7-cc7c-f422ecdbcdbe",
        "colab": {
          "base_uri": "https://localhost:8080/",
          "height": 119
        }
      },
      "cell_type": "code",
      "source": [
        "np.unique(songs['genre'])"
      ],
      "execution_count": 0,
      "outputs": [
        {
          "output_type": "execute_result",
          "data": {
            "text/plain": [
              "array(['adult standards', 'album rock', 'art rock', 'christian music',\n",
              "       'christmas', 'comic', 'country', 'dance pop', 'dance rock',\n",
              "       'disco', 'europop', 'folk', 'folk rock', 'irish folk',\n",
              "       'mellow gold', 'new wave pop', 'opm', 'pop', 'pop rap', 'pop rock',\n",
              "       'post-grunge', 'punk', 'reggae', 'reggae fusion', 'rock',\n",
              "       'soft rock', 'traditional country'], dtype=object)"
            ]
          },
          "metadata": {
            "tags": []
          },
          "execution_count": 20
        }
      ]
    },
    {
      "metadata": {
        "id": "qaZ3kNdug3rx",
        "colab_type": "code",
        "colab": {}
      },
      "cell_type": "code",
      "source": [
        "songs['genre']= songs['genre'].replace('album rock','rock')\n",
        "songs['genre']= songs['genre'].replace('art rock','rock')\n",
        "songs['genre']= songs['genre'].replace('dance rock','rock')\n",
        "songs['genre']= songs['genre'].replace('soft rock','rock')\n",
        "songs['genre']= songs['genre'].replace('post-grunge','rock')"
      ],
      "execution_count": 0,
      "outputs": []
    },
    {
      "metadata": {
        "id": "uzx8NX2ug3r4",
        "colab_type": "code",
        "colab": {}
      },
      "cell_type": "code",
      "source": [
        "songs['genre']= songs['genre'].replace('dance pop','pop')\n",
        "songs['genre']= songs['genre'].replace('europop','pop')\n",
        "songs['genre']= songs['genre'].replace('pop rock','pop')\n",
        "songs['genre']= songs['genre'].replace('new wave pop','pop')"
      ],
      "execution_count": 0,
      "outputs": []
    },
    {
      "metadata": {
        "id": "yzn1jSEkg3r7",
        "colab_type": "code",
        "colab": {}
      },
      "cell_type": "code",
      "source": [
        "songs['genre']= songs['genre'].replace('folk rock','folk')\n",
        "songs['genre']= songs['genre'].replace('irish folk','folk')"
      ],
      "execution_count": 0,
      "outputs": []
    },
    {
      "metadata": {
        "id": "WADEtNGNg3r_",
        "colab_type": "code",
        "colab": {}
      },
      "cell_type": "code",
      "source": [
        "songs['genre']= songs['genre'].replace('reggae fusion','reggae')\n",
        "songs['genre']= songs['genre'].replace('traditional country','country')"
      ],
      "execution_count": 0,
      "outputs": []
    },
    {
      "metadata": {
        "id": "5weuXwIMg3sC",
        "colab_type": "code",
        "colab": {}
      },
      "cell_type": "code",
      "source": [
        "songs['genre']= songs['genre'].replace('mellow gold','mellow')\n",
        "songs['genre']= songs['genre'].replace('pop rap','rap')"
      ],
      "execution_count": 0,
      "outputs": []
    },
    {
      "metadata": {
        "id": "qA4QEYTJg3sG",
        "colab_type": "text"
      },
      "cell_type": "markdown",
      "source": [
        "Change all the Christmas genre artist with other genres"
      ]
    },
    {
      "metadata": {
        "id": "MNP2feqEg3sJ",
        "colab_type": "code",
        "outputId": "cb03f49d-2ffc-4f32-b7a7-59233d53541b",
        "colab": {
          "base_uri": "https://localhost:8080/",
          "height": 51
        }
      },
      "cell_type": "code",
      "source": [
        "np.unique(songs[songs['genre'] == 'christmas']['artist'])"
      ],
      "execution_count": 0,
      "outputs": [
        {
          "output_type": "execute_result",
          "data": {
            "text/plain": [
              "array(['Elvis Presley', 'Idina Menzel', 'Irving Berlin', 'Nina Simone',\n",
              "       'Otis Redding'], dtype=object)"
            ]
          },
          "metadata": {
            "tags": []
          },
          "execution_count": 26
        }
      ]
    },
    {
      "metadata": {
        "id": "STbXUcYqg3sM",
        "colab_type": "code",
        "colab": {}
      },
      "cell_type": "code",
      "source": [
        "songs.loc[songs['artist'] == 'Elvis Presley', 'genre'] = 'adult standards'\n",
        "songs.loc[songs['artist'] == 'Idina Menzel', 'genre'] = 'pop'\n",
        "songs.loc[songs['artist'] == 'Irving Berlin', 'genre'] = 'adult standards'\n",
        "songs.loc[songs['artist'] == 'Nina Simone', 'genre'] = 'folk'\n",
        "songs.loc[songs['artist'] == 'Otis Redding', 'genre'] = 'folk'"
      ],
      "execution_count": 0,
      "outputs": []
    },
    {
      "metadata": {
        "id": "0m3uWwk4g3sQ",
        "colab_type": "code",
        "colab": {}
      },
      "cell_type": "code",
      "source": [
        "new_genres = dict(songs[\"genre\"].value_counts())"
      ],
      "execution_count": 0,
      "outputs": []
    },
    {
      "metadata": {
        "id": "pnz6peseg3sS",
        "colab_type": "code",
        "outputId": "36765234-0dc7-4d69-b5d4-02bdc3b42a5a",
        "colab": {
          "base_uri": "https://localhost:8080/",
          "height": 745
        }
      },
      "cell_type": "code",
      "source": [
        "y_pos = np.arange(len(list(new_genres)))\n",
        "y_pos\n",
        "plt.figure(figsize = (20,10))\n",
        "plt.bar(y_pos, list(new_genres.values()))\n",
        "plt.xticks(y_pos, list(new_genres.keys()))\n",
        "plt.xticks(rotation=90)\n",
        "plt.tick_params(labelsize = 24)\n",
        "plt.show()"
      ],
      "execution_count": 0,
      "outputs": [
        {
          "output_type": "display_data",
          "data": {
            "image/png": "[encoded data removed]",
            "text/plain": [
              "<matplotlib.figure.Figure at 0x7f58a8a50f98>"
            ]
          },
          "metadata": {
            "tags": []
          }
        }
      ]
    },
    {
      "metadata": {
        "id": "dhG6LQyHg3sV",
        "colab_type": "code",
        "colab": {}
      },
      "cell_type": "code",
      "source": [
        "import keras\n",
        "from keras.preprocessing.text import Tokenizer\n",
        "from sklearn.model_selection import train_test_split\n",
        "from keras.preprocessing import sequence\n",
        "from keras.models import Sequential\n",
        "from keras.layers import Dense, Embedding, LSTM, Dropout, Input, Flatten, CuDNNLSTM, GlobalAveragePooling1D\n",
        "\n",
        "from sklearn import metrics\n",
        "from sklearn.feature_extraction.text import CountVectorizer, TfidfVectorizer\n",
        "from sklearn.metrics import classification_report"
      ],
      "execution_count": 0,
      "outputs": []
    },
    {
      "metadata": {
        "id": "8lIfdSTcg3sY",
        "colab_type": "code",
        "colab": {}
      },
      "cell_type": "code",
      "source": [
        "tokenizer2 = Tokenizer(num_words = 100000)\n",
        "# Building the word index\n",
        "tokenizer2.fit_on_texts(songs['text'])\n",
        "sequences = tokenizer2.texts_to_sequences(songs['text'])\n",
        "songs['text_tokenized'] = sequences"
      ],
      "execution_count": 0,
      "outputs": []
    },
    {
      "metadata": {
        "id": "xUVL2Z_Bg3sb",
        "colab_type": "code",
        "colab": {}
      },
      "cell_type": "code",
      "source": [
        "songs['genre_id'] = pd.Categorical(songs.genre).codes"
      ],
      "execution_count": 0,
      "outputs": []
    },
    {
      "metadata": {
        "id": "DYTd4GBng3se",
        "colab_type": "code",
        "outputId": "fdf7d837-1c5c-4522-8c8c-4992f8199200",
        "colab": {
          "base_uri": "https://localhost:8080/",
          "height": 34
        }
      },
      "cell_type": "code",
      "source": [
        "len(np.unique(songs.genre_id))"
      ],
      "execution_count": 0,
      "outputs": [
        {
          "output_type": "execute_result",
          "data": {
            "text/plain": [
              "13"
            ]
          },
          "metadata": {
            "tags": []
          },
          "execution_count": 33
        }
      ]
    },
    {
      "metadata": {
        "id": "4mZ8bFpKg3sh",
        "colab_type": "code",
        "outputId": "a78e918c-fc94-4a93-9963-8d7c81f948c4",
        "colab": {
          "base_uri": "https://localhost:8080/",
          "height": 34
        }
      },
      "cell_type": "code",
      "source": [
        "songs.shape"
      ],
      "execution_count": 0,
      "outputs": [
        {
          "output_type": "execute_result",
          "data": {
            "text/plain": [
              "(48881, 8)"
            ]
          },
          "metadata": {
            "tags": []
          },
          "execution_count": 34
        }
      ]
    },
    {
      "metadata": {
        "id": "Agi5a20og3so",
        "colab_type": "code",
        "colab": {}
      },
      "cell_type": "code",
      "source": [
        "X_train, X_test, y_train, y_test = train_test_split(songs['text_tokenized'], songs['genre_id'], test_size=0.33, random_state=728)"
      ],
      "execution_count": 0,
      "outputs": []
    },
    {
      "metadata": {
        "id": "cHjAlwvPJkd4",
        "colab_type": "code",
        "colab": {}
      },
      "cell_type": "code",
      "source": [
        "from sklearn.utils import class_weight\n",
        "class_weights = class_weight.compute_class_weight('balanced',\n",
        "                                                 np.unique(y_train),\n",
        "                                                 y_train)"
      ],
      "execution_count": 0,
      "outputs": []
    },
    {
      "metadata": {
        "id": "733F9MQrJwwS",
        "colab_type": "code",
        "outputId": "4e84480d-ec15-4d25-f7d9-41674542192f",
        "colab": {
          "base_uri": "https://localhost:8080/",
          "height": 68
        }
      },
      "cell_type": "code",
      "source": [
        "class_weights"
      ],
      "execution_count": 0,
      "outputs": [
        {
          "output_type": "execute_result",
          "data": {
            "text/plain": [
              "array([ 1.34862461,  3.39062015,  9.72675973,  1.22114919,  8.07445759,\n",
              "        2.33262108,  0.71752514, 12.85321821,  0.39873865,  9.72675973,\n",
              "        3.56831554,  8.31429297,  0.16648366])"
            ]
          },
          "metadata": {
            "tags": []
          },
          "execution_count": 140
        }
      ]
    },
    {
      "metadata": {
        "id": "lXXL7jcYg3sv",
        "colab_type": "code",
        "colab": {}
      },
      "cell_type": "code",
      "source": [
        "y_train =to_categorical(y_train, 13)\n",
        "y_test = to_categorical(y_test,13)"
      ],
      "execution_count": 0,
      "outputs": []
    },
    {
      "metadata": {
        "id": "Ck_qhaKFg3s5",
        "colab_type": "code",
        "outputId": "e907a8d1-3380-42fc-a48c-27bf06fa98c4",
        "colab": {
          "base_uri": "https://localhost:8080/",
          "height": 34
        }
      },
      "cell_type": "code",
      "source": [
        "y_train.shape"
      ],
      "execution_count": 0,
      "outputs": [
        {
          "output_type": "execute_result",
          "data": {
            "text/plain": [
              "(32750, 13)"
            ]
          },
          "metadata": {
            "tags": []
          },
          "execution_count": 142
        }
      ]
    },
    {
      "metadata": {
        "id": "k-2cEFgvg3s_",
        "colab_type": "code",
        "outputId": "60d3327c-3de4-41e3-845c-eb8e3a33e78f",
        "colab": {
          "base_uri": "https://localhost:8080/",
          "height": 33
        }
      },
      "cell_type": "code",
      "source": [
        "maxlen = int(max(songs['text_tokenized'].str.len())/3)\n",
        "print(maxlen)\n",
        "X_train = sequence.pad_sequences(X_train, maxlen = maxlen)\n",
        "X_test = sequence.pad_sequences(X_test, maxlen=maxlen)"
      ],
      "execution_count": 0,
      "outputs": [
        {
          "output_type": "stream",
          "text": [
            "275\n"
          ],
          "name": "stdout"
        }
      ]
    },
    {
      "metadata": {
        "id": "fL5tEgC_g3tC",
        "colab_type": "code",
        "outputId": "9d2a9ab7-034e-46a2-ec68-5f23c1d5bd1b",
        "colab": {
          "base_uri": "https://localhost:8080/",
          "height": 33
        }
      },
      "cell_type": "code",
      "source": [
        "X_train.shape"
      ],
      "execution_count": 0,
      "outputs": [
        {
          "output_type": "execute_result",
          "data": {
            "text/plain": [
              "(32750, 275)"
            ]
          },
          "metadata": {
            "tags": []
          },
          "execution_count": 144
        }
      ]
    },
    {
      "metadata": {
        "id": "AfSJC7UBg3tE",
        "colab_type": "code",
        "outputId": "fdbc02d9-fdd1-4c0f-dc85-142ac09af8c4",
        "colab": {}
      },
      "cell_type": "code",
      "source": [
        "songs['genre_id'].values"
      ],
      "execution_count": 0,
      "outputs": [
        {
          "output_type": "execute_result",
          "data": {
            "text/plain": [
              "array([ 8,  8,  8, ..., 11, 11, 11], dtype=int8)"
            ]
          },
          "metadata": {
            "tags": []
          },
          "execution_count": 221
        }
      ]
    },
    {
      "metadata": {
        "id": "T5p3Z6C1lNwU",
        "colab_type": "code",
        "outputId": "3116ed7f-a69a-4187-9d20-4a946b84e9fd",
        "colab": {
          "base_uri": "https://localhost:8080/",
          "height": 33
        }
      },
      "cell_type": "code",
      "source": [
        "x = songs['text'].values\n",
        "y = songs['genre_id'].values\n",
        "\n",
        "x_train, x_test, y_train, y_test = train_test_split(x, y, test_size=0.20, random_state=22)\n",
        "\n",
        "tfidf_vec   = TfidfVectorizer()\n",
        "x_train_vec = tfidf_vec.fit_transform(x_train)\n",
        "x_test_vec  = tfidf_vec.transform(x_test)\n",
        "x_train_vec.shape"
      ],
      "execution_count": 0,
      "outputs": [
        {
          "output_type": "execute_result",
          "data": {
            "text/plain": [
              "(39104, 61421)"
            ]
          },
          "metadata": {
            "tags": []
          },
          "execution_count": 56
        }
      ]
    },
    {
      "metadata": {
        "id": "EqF1bWJIlQu-",
        "colab_type": "code",
        "colab": {}
      },
      "cell_type": "code",
      "source": [
        "from sklearn.svm import LinearSVC\n",
        "clf             = LinearSVC().fit(x_train_vec, y_train)\n",
        "predicted       = clf.predict(x_test_vec)\n",
        "predicted_score = clf.decision_function(x_test_vec)"
      ],
      "execution_count": 0,
      "outputs": []
    },
    {
      "metadata": {
        "id": "UqCylcNN4eu8",
        "colab_type": "code",
        "outputId": "78503f3d-5231-42a5-cc22-76dcd98a56b0",
        "colab": {
          "base_uri": "https://localhost:8080/",
          "height": 33
        }
      },
      "cell_type": "code",
      "source": [
        "print('accuracy', metrics.accuracy_score(y_test, predicted))"
      ],
      "execution_count": 0,
      "outputs": [
        {
          "output_type": "stream",
          "text": [
            "accuracy 0.5461798097575944\n"
          ],
          "name": "stdout"
        }
      ]
    },
    {
      "metadata": {
        "id": "Mn_wfkZd4m8b",
        "colab_type": "code",
        "outputId": "bd5bca2b-7e75-46fc-98ac-ca697f8d5881",
        "colab": {
          "base_uri": "https://localhost:8080/",
          "height": 33
        }
      },
      "cell_type": "code",
      "source": [
        "train_predicted = clf.predict(x_train_vec)\n",
        "train_predicted_score = clf.decision_function(x_train_vec)\n",
        "\n",
        "print('train accuracy', metrics.accuracy_score(y_train, train_predicted))"
      ],
      "execution_count": 0,
      "outputs": [
        {
          "output_type": "stream",
          "text": [
            "train accuracy 0.7862622749590835\n"
          ],
          "name": "stdout"
        }
      ]
    },
    {
      "metadata": {
        "id": "N8EhMPQAg3tL",
        "colab_type": "code",
        "colab": {}
      },
      "cell_type": "code",
      "source": [
        "max_features = 10000\n",
        "model = Sequential()\n",
        "model.add(Embedding(input_dim = max_features, output_dim = 50))\n",
        "model.add(LSTM(50))\n",
        "model.add(Dense(13, activation ='softmax'))"
      ],
      "execution_count": 0,
      "outputs": []
    },
    {
      "metadata": {
        "id": "q7eow3Ofg3tS",
        "colab_type": "code",
        "colab": {}
      },
      "cell_type": "code",
      "source": [
        "model.compile(loss='categorical_crossentropy', optimizer='adam',metrics=[\"accuracy\"])"
      ],
      "execution_count": 0,
      "outputs": []
    },
    {
      "metadata": {
        "id": "4fmKdWqeg3tV",
        "colab_type": "code",
        "outputId": "7b5a3cea-4ea6-4f81-a92e-c0793bcc3f88",
        "colab": {
          "base_uri": "https://localhost:8080/",
          "height": 228
        }
      },
      "cell_type": "code",
      "source": [
        "model.summary()"
      ],
      "execution_count": 0,
      "outputs": [
        {
          "output_type": "stream",
          "text": [
            "_________________________________________________________________\n",
            "Layer (type)                 Output Shape              Param #   \n",
            "=================================================================\n",
            "embedding_2 (Embedding)      (None, None, 50)          500000    \n",
            "_________________________________________________________________\n",
            "lstm_1 (LSTM)                (None, 50)                20200     \n",
            "_________________________________________________________________\n",
            "dense_2 (Dense)              (None, 13)                663       \n",
            "=================================================================\n",
            "Total params: 520,863\n",
            "Trainable params: 520,863\n",
            "Non-trainable params: 0\n",
            "_________________________________________________________________\n"
          ],
          "name": "stdout"
        }
      ]
    },
    {
      "metadata": {
        "id": "HRsh198ag3tY",
        "colab_type": "code",
        "outputId": "aa8acd07-55e4-4645-d62d-a0a6d8771c70",
        "colab": {
          "base_uri": "https://localhost:8080/",
          "height": 66
        }
      },
      "cell_type": "code",
      "source": [
        "history = model.fit(X_train, y_train, \n",
        "                    epochs = 1, batch_size = 64, \n",
        "                    validation_data = (X_test, y_test),\n",
        "                    verbose=1)"
      ],
      "execution_count": 0,
      "outputs": [
        {
          "output_type": "stream",
          "text": [
            "Train on 32750 samples, validate on 16131 samples\n",
            "Epoch 1/1\n",
            "32750/32750 [==============================] - 438s 13ms/step - loss: 1.1921e-07 - acc: 0.0570 - val_loss: 1.1921e-07 - val_acc: 0.0583\n"
          ],
          "name": "stdout"
        }
      ]
    },
    {
      "metadata": {
        "id": "_7EdYbrekj16",
        "colab_type": "code",
        "colab": {}
      },
      "cell_type": "code",
      "source": [
        "max_features = 10000\n",
        "model = Sequential()\n",
        "model.add(Embedding(input_dim = max_features, output_dim = 50))\n",
        "model.add(GlobalAveragePooling1D())\n",
        "model.add(Dropout(0.25))\n",
        "model.add(Dense(13, activation ='softmax'))"
      ],
      "execution_count": 0,
      "outputs": []
    },
    {
      "metadata": {
        "id": "2UKNHrMjg3te",
        "colab_type": "code",
        "colab": {}
      },
      "cell_type": "code",
      "source": [
        "opt = keras.optimizers.Adam(lr=0.001) # speed up optimization\n",
        "model.compile(loss='categorical_crossentropy', optimizer=opt ,metrics=[\"accuracy\"])"
      ],
      "execution_count": 0,
      "outputs": []
    },
    {
      "metadata": {
        "id": "SWN_yCRJg3tj",
        "colab_type": "code",
        "outputId": "6948abc1-c3e9-431c-ee19-376a389ecc5e",
        "colab": {
          "base_uri": "https://localhost:8080/",
          "height": 261
        }
      },
      "cell_type": "code",
      "source": [
        "model.summary()"
      ],
      "execution_count": 0,
      "outputs": [
        {
          "output_type": "stream",
          "text": [
            "_________________________________________________________________\n",
            "Layer (type)                 Output Shape              Param #   \n",
            "=================================================================\n",
            "embedding_17 (Embedding)     (None, None, 50)          500000    \n",
            "_________________________________________________________________\n",
            "global_average_pooling1d_15  (None, 50)                0         \n",
            "_________________________________________________________________\n",
            "dropout_12 (Dropout)         (None, 50)                0         \n",
            "_________________________________________________________________\n",
            "dense_14 (Dense)             (None, 13)                663       \n",
            "=================================================================\n",
            "Total params: 500,663\n",
            "Trainable params: 500,663\n",
            "Non-trainable params: 0\n",
            "_________________________________________________________________\n"
          ],
          "name": "stdout"
        }
      ]
    },
    {
      "metadata": {
        "id": "uCKL5Rlkg3tm",
        "colab_type": "code",
        "outputId": "c4dbb327-c12f-4dca-92e4-d2fb5bbf4772",
        "colab": {
          "base_uri": "https://localhost:8080/",
          "height": 1008
        }
      },
      "cell_type": "code",
      "source": [
        "history2 = model.fit(X_train, y_train, \n",
        "                    epochs = 30, batch_size = 128, \n",
        "                    validation_data = (X_test, y_test),\n",
        "                    verbose=1)"
      ],
      "execution_count": 0,
      "outputs": [
        {
          "output_type": "stream",
          "text": [
            "Train on 32750 samples, validate on 16131 samples\n",
            "Epoch 1/30\n",
            "32750/32750 [==============================] - 3s 94us/step - loss: 1.9691 - acc: 0.4539 - val_loss: 1.6993 - val_acc: 0.4628\n",
            "Epoch 2/30\n",
            "32750/32750 [==============================] - 2s 70us/step - loss: 1.6796 - acc: 0.4650 - val_loss: 1.6466 - val_acc: 0.4731\n",
            "Epoch 3/30\n",
            "32750/32750 [==============================] - 2s 70us/step - loss: 1.6320 - acc: 0.4880 - val_loss: 1.6106 - val_acc: 0.4964\n",
            "Epoch 4/30\n",
            "32750/32750 [==============================] - 2s 71us/step - loss: 1.5973 - acc: 0.4989 - val_loss: 1.5795 - val_acc: 0.5030\n",
            "Epoch 5/30\n",
            "32750/32750 [==============================] - 2s 70us/step - loss: 1.5604 - acc: 0.5044 - val_loss: 1.5500 - val_acc: 0.5048\n",
            "Epoch 6/30\n",
            "32750/32750 [==============================] - 2s 69us/step - loss: 1.5252 - acc: 0.5097 - val_loss: 1.5239 - val_acc: 0.5075\n",
            "Epoch 7/30\n",
            "32750/32750 [==============================] - 2s 71us/step - loss: 1.4930 - acc: 0.5141 - val_loss: 1.5002 - val_acc: 0.5127\n",
            "Epoch 8/30\n",
            "32750/32750 [==============================] - 2s 71us/step - loss: 1.4633 - acc: 0.5211 - val_loss: 1.4813 - val_acc: 0.5175\n",
            "Epoch 9/30\n",
            "32750/32750 [==============================] - 2s 71us/step - loss: 1.4351 - acc: 0.5285 - val_loss: 1.4609 - val_acc: 0.5207\n",
            "Epoch 10/30\n",
            "32750/32750 [==============================] - 2s 71us/step - loss: 1.4072 - acc: 0.5364 - val_loss: 1.4458 - val_acc: 0.5239\n",
            "Epoch 11/30\n",
            "32750/32750 [==============================] - 2s 71us/step - loss: 1.3837 - acc: 0.5438 - val_loss: 1.4327 - val_acc: 0.5293\n",
            "Epoch 12/30\n",
            "32750/32750 [==============================] - 2s 72us/step - loss: 1.3600 - acc: 0.5514 - val_loss: 1.4200 - val_acc: 0.5310\n",
            "Epoch 13/30\n",
            "32750/32750 [==============================] - 2s 72us/step - loss: 1.3385 - acc: 0.5571 - val_loss: 1.4115 - val_acc: 0.5346\n",
            "Epoch 14/30\n",
            "32750/32750 [==============================] - 2s 73us/step - loss: 1.3189 - acc: 0.5653 - val_loss: 1.4053 - val_acc: 0.5376\n",
            "Epoch 15/30\n",
            "32750/32750 [==============================] - 2s 73us/step - loss: 1.3003 - acc: 0.5692 - val_loss: 1.3957 - val_acc: 0.5391\n",
            "Epoch 16/30\n",
            "32750/32750 [==============================] - 2s 71us/step - loss: 1.2810 - acc: 0.5747 - val_loss: 1.3943 - val_acc: 0.5407\n",
            "Epoch 17/30\n",
            "32750/32750 [==============================] - 2s 71us/step - loss: 1.2613 - acc: 0.5816 - val_loss: 1.3881 - val_acc: 0.5427\n",
            "Epoch 18/30\n",
            "32750/32750 [==============================] - 2s 68us/step - loss: 1.2449 - acc: 0.5864 - val_loss: 1.3845 - val_acc: 0.5434\n",
            "Epoch 19/30\n",
            "32750/32750 [==============================] - 2s 68us/step - loss: 1.2332 - acc: 0.5905 - val_loss: 1.3923 - val_acc: 0.5406\n",
            "Epoch 20/30\n",
            "32750/32750 [==============================] - 2s 68us/step - loss: 1.2177 - acc: 0.5944 - val_loss: 1.3820 - val_acc: 0.5453\n",
            "Epoch 21/30\n",
            "32750/32750 [==============================] - 2s 69us/step - loss: 1.2009 - acc: 0.5998 - val_loss: 1.3787 - val_acc: 0.5463\n",
            "Epoch 22/30\n",
            "32750/32750 [==============================] - 2s 69us/step - loss: 1.1856 - acc: 0.6041 - val_loss: 1.3790 - val_acc: 0.5475\n",
            "Epoch 23/30\n",
            "32750/32750 [==============================] - 2s 70us/step - loss: 1.1667 - acc: 0.6108 - val_loss: 1.3709 - val_acc: 0.5478\n",
            "Epoch 24/30\n",
            "32750/32750 [==============================] - 2s 76us/step - loss: 1.1534 - acc: 0.6127 - val_loss: 1.3737 - val_acc: 0.5476\n",
            "Epoch 25/30\n",
            "32750/32750 [==============================] - 2s 75us/step - loss: 1.1390 - acc: 0.6192 - val_loss: 1.3740 - val_acc: 0.5493\n",
            "Epoch 26/30\n",
            "32750/32750 [==============================] - 2s 71us/step - loss: 1.1258 - acc: 0.6206 - val_loss: 1.3735 - val_acc: 0.5468\n",
            "Epoch 27/30\n",
            "32750/32750 [==============================] - 2s 76us/step - loss: 1.1121 - acc: 0.6259 - val_loss: 1.3717 - val_acc: 0.5483\n",
            "Epoch 28/30\n",
            "32750/32750 [==============================] - 2s 73us/step - loss: 1.0978 - acc: 0.6308 - val_loss: 1.3737 - val_acc: 0.5491\n",
            "Epoch 29/30\n",
            "32750/32750 [==============================] - 3s 77us/step - loss: 1.0841 - acc: 0.6333 - val_loss: 1.3750 - val_acc: 0.5491\n",
            "Epoch 30/30\n",
            "32750/32750 [==============================] - 2s 76us/step - loss: 1.0713 - acc: 0.6365 - val_loss: 1.3809 - val_acc: 0.5476\n"
          ],
          "name": "stdout"
        }
      ]
    },
    {
      "metadata": {
        "id": "KAatKEtN4rCn",
        "colab_type": "code",
        "outputId": "42ada5ff-f6b3-40fb-c993-ca9f576937ad",
        "colab": {
          "base_uri": "https://localhost:8080/",
          "height": 296
        }
      },
      "cell_type": "code",
      "source": [
        "plt.plot(history2.history['acc'])\n",
        "plt.plot(history2.history['val_acc'])\n",
        "plt.legend(['train', 'test'], loc='lower right')\n",
        "plt.xlabel('epoch')\n",
        "plt.ylabel('accuracy')"
      ],
      "execution_count": 0,
      "outputs": [
        {
          "output_type": "execute_result",
          "data": {
            "text/plain": [
              "Text(0,0.5,'accuracy')"
            ]
          },
          "metadata": {
            "tags": []
          },
          "execution_count": 167
        },
        {
          "output_type": "display_data",
          "data": {
            "image/png": "[encoded data removed]",
            "text/plain": [
              "<matplotlib.figure.Figure at 0x7f58a87fc320>"
            ]
          },
          "metadata": {
            "tags": []
          }
        }
      ]
    },
    {
      "metadata": {
        "id": "33PSbpNl4uEm",
        "colab_type": "code",
        "outputId": "695a5d65-dd4e-44d2-ad8e-c09beada07f6",
        "colab": {
          "base_uri": "https://localhost:8080/",
          "height": 296
        }
      },
      "cell_type": "code",
      "source": [
        "import matplotlib.pyplot as plt\n",
        "plt.plot(history2.history['loss'])\n",
        "plt.plot(history2.history['val_loss'])\n",
        "plt.legend(['train', 'test'], loc='lower left')\n",
        "plt.xlabel('epoch')\n",
        "plt.ylabel('loss')"
      ],
      "execution_count": 0,
      "outputs": [
        {
          "output_type": "execute_result",
          "data": {
            "text/plain": [
              "Text(0,0.5,'loss')"
            ]
          },
          "metadata": {
            "tags": []
          },
          "execution_count": 168
        },
        {
          "output_type": "display_data",
          "data": {
            "image/png": "[encoded data removed]",
            "text/plain": [
              "<matplotlib.figure.Figure at 0x7f58a8796748>"
            ]
          },
          "metadata": {
            "tags": []
          }
        }
      ]
    },
    {
      "metadata": {
        "id": "evcJZuLM6XEH",
        "colab_type": "code",
        "outputId": "0b27dde6-1fb4-44b4-bdef-994b9edbd268",
        "colab": {
          "base_uri": "https://localhost:8080/",
          "height": 342
        }
      },
      "cell_type": "code",
      "source": [
        "Y_test = np.argmax(y_test, axis=1) # Convert one-hot to index\n",
        "y_pred = model.predict_classes(X_test)\n",
        "print(classification_report(Y_test, y_pred))"
      ],
      "execution_count": 0,
      "outputs": [
        {
          "output_type": "stream",
          "text": [
            "             precision    recall  f1-score   support\n",
            "\n",
            "          0       0.43      0.25      0.32       940\n",
            "          1       0.68      0.45      0.54       357\n",
            "          2       0.70      0.15      0.25       124\n",
            "          3       0.39      0.21      0.27       994\n",
            "          4       0.00      0.00      0.00       133\n",
            "          5       0.40      0.00      0.01       544\n",
            "          6       0.26      0.10      0.15      1755\n",
            "          7       0.91      0.30      0.45       104\n",
            "          8       0.52      0.45      0.48      3074\n",
            "          9       0.00      0.00      0.00       134\n",
            "         10       0.68      0.53      0.60       363\n",
            "         11       0.68      0.09      0.16       143\n",
            "         12       0.58      0.86      0.69      7466\n",
            "\n",
            "avg / total       0.51      0.55      0.49     16131\n",
            "\n"
          ],
          "name": "stdout"
        },
        {
          "output_type": "stream",
          "text": [
            "/usr/local/lib/python3.6/dist-packages/sklearn/metrics/classification.py:1135: UndefinedMetricWarning: Precision and F-score are ill-defined and being set to 0.0 in labels with no predicted samples.\n",
            "  'precision', 'predicted', average, warn_for)\n"
          ],
          "name": "stderr"
        }
      ]
    },
    {
      "metadata": {
        "id": "UY0kyT68GEoV",
        "colab_type": "code",
        "outputId": "16547770-07b5-4cad-ee27-b3dc71338be4",
        "colab": {
          "base_uri": "https://localhost:8080/",
          "height": 421
        }
      },
      "cell_type": "code",
      "source": [
        "songs.groupby(['genre', 'genre_id']).size().reset_index(name='Freq')"
      ],
      "execution_count": 0,
      "outputs": [
        {
          "output_type": "execute_result",
          "data": {
            "text/html": [
              "<div>\n",
              "<style scoped>\n",
              "    .dataframe tbody tr th:only-of-type {\n",
              "        vertical-align: middle;\n",
              "    }\n",
              "\n",
              "    .dataframe tbody tr th {\n",
              "        vertical-align: top;\n",
              "    }\n",
              "\n",
              "    .dataframe thead th {\n",
              "        text-align: right;\n",
              "    }\n",
              "</style>\n",
              "<table border=\"1\" class=\"dataframe\">\n",
              "  <thead>\n",
              "    <tr style=\"text-align: right;\">\n",
              "      <th></th>\n",
              "      <th>genre</th>\n",
              "      <th>genre_id</th>\n",
              "      <th>Freq</th>\n",
              "    </tr>\n",
              "  </thead>\n",
              "  <tbody>\n",
              "    <tr>\n",
              "      <th>0</th>\n",
              "      <td>adult standards</td>\n",
              "      <td>0</td>\n",
              "      <td>2808</td>\n",
              "    </tr>\n",
              "    <tr>\n",
              "      <th>1</th>\n",
              "      <td>christian music</td>\n",
              "      <td>1</td>\n",
              "      <td>1100</td>\n",
              "    </tr>\n",
              "    <tr>\n",
              "      <th>2</th>\n",
              "      <td>comic</td>\n",
              "      <td>2</td>\n",
              "      <td>383</td>\n",
              "    </tr>\n",
              "    <tr>\n",
              "      <th>3</th>\n",
              "      <td>country</td>\n",
              "      <td>3</td>\n",
              "      <td>3057</td>\n",
              "    </tr>\n",
              "    <tr>\n",
              "      <th>4</th>\n",
              "      <td>disco</td>\n",
              "      <td>4</td>\n",
              "      <td>445</td>\n",
              "    </tr>\n",
              "    <tr>\n",
              "      <th>5</th>\n",
              "      <td>folk</td>\n",
              "      <td>5</td>\n",
              "      <td>1624</td>\n",
              "    </tr>\n",
              "    <tr>\n",
              "      <th>6</th>\n",
              "      <td>mellow</td>\n",
              "      <td>6</td>\n",
              "      <td>5266</td>\n",
              "    </tr>\n",
              "    <tr>\n",
              "      <th>7</th>\n",
              "      <td>opm</td>\n",
              "      <td>7</td>\n",
              "      <td>300</td>\n",
              "    </tr>\n",
              "    <tr>\n",
              "      <th>8</th>\n",
              "      <td>pop</td>\n",
              "      <td>8</td>\n",
              "      <td>9392</td>\n",
              "    </tr>\n",
              "    <tr>\n",
              "      <th>9</th>\n",
              "      <td>punk</td>\n",
              "      <td>9</td>\n",
              "      <td>393</td>\n",
              "    </tr>\n",
              "    <tr>\n",
              "      <th>10</th>\n",
              "      <td>rap</td>\n",
              "      <td>10</td>\n",
              "      <td>1069</td>\n",
              "    </tr>\n",
              "    <tr>\n",
              "      <th>11</th>\n",
              "      <td>reggae</td>\n",
              "      <td>11</td>\n",
              "      <td>446</td>\n",
              "    </tr>\n",
              "    <tr>\n",
              "      <th>12</th>\n",
              "      <td>rock</td>\n",
              "      <td>12</td>\n",
              "      <td>22598</td>\n",
              "    </tr>\n",
              "  </tbody>\n",
              "</table>\n",
              "</div>"
            ],
            "text/plain": [
              "              genre  genre_id   Freq\n",
              "0   adult standards         0   2808\n",
              "1   christian music         1   1100\n",
              "2             comic         2    383\n",
              "3           country         3   3057\n",
              "4             disco         4    445\n",
              "5              folk         5   1624\n",
              "6            mellow         6   5266\n",
              "7               opm         7    300\n",
              "8               pop         8   9392\n",
              "9              punk         9    393\n",
              "10              rap        10   1069\n",
              "11           reggae        11    446\n",
              "12             rock        12  22598"
            ]
          },
          "metadata": {
            "tags": []
          },
          "execution_count": 160
        }
      ]
    },
    {
      "metadata": {
        "id": "NH_g3xe1Kr0h",
        "colab_type": "code",
        "colab": {}
      },
      "cell_type": "code",
      "source": [
        ""
      ],
      "execution_count": 0,
      "outputs": []
    }
  ]
}