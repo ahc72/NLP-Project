{
 "cells": [
  {
   "cell_type": "code",
   "execution_count": null,
   "metadata": {
    "collapsed": true
   },
   "outputs": [],
   "source": [
    "import pandas as pd\n",
    "import nltk\n",
    "import re\n",
    "from gensim import models, corpora\n",
    "from nltk import word_tokenize\n",
    "from nltk.corpus import stopwords\n",
    "\n",
    "from tqdm import tqdm"
   ]
  },
  {
   "cell_type": "code",
   "execution_count": 3,
   "metadata": {
    "collapsed": true
   },
   "outputs": [],
   "source": [
    "songs = pd.read_csv(\"lyrics_genre.csv\")"
   ]
  },
  {
   "cell_type": "code",
   "execution_count": 85,
   "metadata": {},
   "outputs": [
    {
     "data": {
      "text/plain": [
       "array(['europop', 'dance pop', 'comic', 'pop', 'rock', 'mellow gold',\n",
       "       'opm', 'country', 'operatic pop', 'folk', 'new wave pop',\n",
       "       'christian music', 'soft rock', 'soul', 'adult standards', 'disco',\n",
       "       'irish folk', 'tin pan alley', 'pop rock', 'dance rock',\n",
       "       'art rock', 'indonesian pop', 'pop rap', 'christmas', 'rap',\n",
       "       'celtic', 'classic finnish rock', 'post-grunge', 'rap rock',\n",
       "       'k-pop', 'punk', 'new romantic', 'modern rock', 'electronic',\n",
       "       'classic rock', 'world', 'celtic rock', 'permanent wave',\n",
       "       'traditional country', 'edm', 'roots rock', 'acid jazz', 'worship',\n",
       "       'folk rock', 'album rock', 'gospel', 'classic bollywood',\n",
       "       'hollywood', 'rock-and-roll', 'reggae', 'alternative rock',\n",
       "       'power metal', 'britpop', 'mizrahi', 'progressive metal',\n",
       "       'neo mellow', 'hip hop', 'dark wave', 'lo-fi', 'alternative metal',\n",
       "       \"canadian children's music\", 'reggae fusion', 'canadian rock',\n",
       "       'emo', 'nu metal', 'chamber pop', 'pop punk', 'anime', 'cyberpunk',\n",
       "       'hip house', 'metal', 'singer-songwriter', 'gangster rap',\n",
       "       'bubblegum dance', 'german pop', 'speed metal', 'art pop',\n",
       "       'experimental', 'jam band', 'melodic metalcore', 'industrial rock',\n",
       "       'belgian rock', 'classic italian pop', 'chanson'], dtype=object)"
      ]
     },
     "execution_count": 85,
     "metadata": {},
     "output_type": "execute_result"
    }
   ],
   "source": [
    "songs['genre'].unique()"
   ]
  },
  {
   "cell_type": "code",
   "execution_count": 158,
   "metadata": {
    "collapsed": true
   },
   "outputs": [],
   "source": [
    "genres = dict(songs[\"genre\"].value_counts())"
   ]
  },
  {
   "cell_type": "code",
   "execution_count": 164,
   "metadata": {},
   "outputs": [
    {
     "data": {
      "text/plain": [
       "dict_values([20277, 5347, 5266, 2716, 2570, 1290, 1239, 1100, 1069, 1064, 744, 725, 572, 541, 445, 419, 394, 393, 383, 367, 341, 336, 302, 300, 240, 235, 206, 191, 177, 177, 174, 174, 169, 161, 159, 158, 148, 132, 115, 100, 98, 97, 88, 88, 85, 83, 75, 74, 71, 71, 69, 67, 63, 63, 60, 52, 46, 41, 40, 36, 35, 32, 30, 30, 30, 28, 25, 25, 24, 20, 18, 18, 18, 17, 12, 10, 9, 8, 5, 5, 3, 3, 2, 1])"
      ]
     },
     "execution_count": 164,
     "metadata": {},
     "output_type": "execute_result"
    }
   ],
   "source": [
    "genres.values()"
   ]
  },
  {
   "cell_type": "code",
   "execution_count": 110,
   "metadata": {},
   "outputs": [
    {
     "data": {
      "text/html": [
       "<div>\n",
       "<style>\n",
       "    .dataframe thead tr:only-child th {\n",
       "        text-align: right;\n",
       "    }\n",
       "\n",
       "    .dataframe thead th {\n",
       "        text-align: left;\n",
       "    }\n",
       "\n",
       "    .dataframe tbody tr th {\n",
       "        vertical-align: top;\n",
       "    }\n",
       "</style>\n",
       "<table border=\"1\" class=\"dataframe\">\n",
       "  <thead>\n",
       "    <tr style=\"text-align: right;\">\n",
       "      <th></th>\n",
       "      <th>Unnamed: 0</th>\n",
       "      <th>artist</th>\n",
       "      <th>song</th>\n",
       "      <th>link</th>\n",
       "      <th>text</th>\n",
       "      <th>genre</th>\n",
       "    </tr>\n",
       "  </thead>\n",
       "  <tbody>\n",
       "    <tr>\n",
       "      <th>5427</th>\n",
       "      <td>5695</td>\n",
       "      <td>Exo</td>\n",
       "      <td>Exodus</td>\n",
       "      <td>/e/exo/exodus_21097244.html</td>\n",
       "      <td>Stand up! oechyeodo gyeolgugen dabeun no  \\nBu...</td>\n",
       "      <td>k-pop</td>\n",
       "    </tr>\n",
       "    <tr>\n",
       "      <th>5428</th>\n",
       "      <td>5696</td>\n",
       "      <td>Exo</td>\n",
       "      <td>Moonlight</td>\n",
       "      <td>/e/exo/moonlight_21082834.html</td>\n",
       "      <td>Yeah, stop, stop. Those wings will get wet oh,...</td>\n",
       "      <td>k-pop</td>\n",
       "    </tr>\n",
       "    <tr>\n",
       "      <th>5429</th>\n",
       "      <td>5697</td>\n",
       "      <td>Exo-K</td>\n",
       "      <td>Hurt</td>\n",
       "      <td>/e/exo+k/hurt_21098367.html</td>\n",
       "      <td>[D.O] yudok jitge baen neoui hyanggie  \\nBari ...</td>\n",
       "      <td>k-pop</td>\n",
       "    </tr>\n",
       "    <tr>\n",
       "      <th>5430</th>\n",
       "      <td>5698</td>\n",
       "      <td>Exo-K</td>\n",
       "      <td>Overdose</td>\n",
       "      <td>/e/exo+k/overdose_21082897.html</td>\n",
       "      <td>Come in  \\n  \\n[Baekhyun] Modeungeol geolgo ne...</td>\n",
       "      <td>k-pop</td>\n",
       "    </tr>\n",
       "    <tr>\n",
       "      <th>29804</th>\n",
       "      <td>32196</td>\n",
       "      <td>Exo</td>\n",
       "      <td>Run</td>\n",
       "      <td>/e/exo/run_21082836.html</td>\n",
       "      <td>Eodideun joha uri oneulbam tteonabollae? Tteon...</td>\n",
       "      <td>k-pop</td>\n",
       "    </tr>\n",
       "  </tbody>\n",
       "</table>\n",
       "</div>"
      ],
      "text/plain": [
       "       Unnamed: 0 artist       song                             link  \\\n",
       "5427         5695    Exo     Exodus      /e/exo/exodus_21097244.html   \n",
       "5428         5696    Exo  Moonlight   /e/exo/moonlight_21082834.html   \n",
       "5429         5697  Exo-K       Hurt      /e/exo+k/hurt_21098367.html   \n",
       "5430         5698  Exo-K   Overdose  /e/exo+k/overdose_21082897.html   \n",
       "29804       32196    Exo        Run         /e/exo/run_21082836.html   \n",
       "\n",
       "                                                    text  genre  \n",
       "5427   Stand up! oechyeodo gyeolgugen dabeun no  \\nBu...  k-pop  \n",
       "5428   Yeah, stop, stop. Those wings will get wet oh,...  k-pop  \n",
       "5429   [D.O] yudok jitge baen neoui hyanggie  \\nBari ...  k-pop  \n",
       "5430   Come in  \\n  \\n[Baekhyun] Modeungeol geolgo ne...  k-pop  \n",
       "29804  Eodideun joha uri oneulbam tteonabollae? Tteon...  k-pop  "
      ]
     },
     "execution_count": 110,
     "metadata": {},
     "output_type": "execute_result"
    }
   ],
   "source": [
    "songs[songs['genre']=='k-pop']"
   ]
  },
  {
   "cell_type": "code",
   "execution_count": 198,
   "metadata": {},
   "outputs": [
    {
     "data": {
      "image/png": "[encoded data removed]",
      "text/plain": [
       "<matplotlib.figure.Figure at 0x142875518>"
      ]
     },
     "metadata": {},
     "output_type": "display_data"
    }
   ],
   "source": [
    "import numpy as np\n",
    "import matplotlib.pyplot as plt\n",
    "y_pos = np.arange(len(list(genres.keys())))\n",
    "plt.figure(figsize = (18,8))\n",
    "plt.bar(y_pos, list(genres.values()))\n",
    "#plt.xticks(y_pos, list(genres.index))\n",
    "plt.show()"
   ]
  },
  {
   "cell_type": "code",
   "execution_count": 174,
   "metadata": {
    "collapsed": true
   },
   "outputs": [],
   "source": [
    "short_genre = {k:v for k,v in genres.items() if v > 200}"
   ]
  },
  {
   "cell_type": "code",
   "execution_count": 202,
   "metadata": {},
   "outputs": [
    {
     "name": "stdout",
     "output_type": "stream",
     "text": [
      "We still keep about 48881 lyrics\n"
     ]
    }
   ],
   "source": [
    "print(\"We still keep about\", sum(short_genre.values()), \"lyrics\")"
   ]
  },
  {
   "cell_type": "code",
   "execution_count": 190,
   "metadata": {},
   "outputs": [
    {
     "data": {
      "image/png": "[encoded data removed]",
      "text/plain": [
       "<matplotlib.figure.Figure at 0x142a8b470>"
      ]
     },
     "metadata": {},
     "output_type": "display_data"
    }
   ],
   "source": [
    "y_pos = np.arange(len(list(short_genre.keys())))\n",
    "y_pos\n",
    "plt.figure(figsize = (20,10))\n",
    "plt.bar(y_pos, list(short_genre.values()))\n",
    "plt.xticks(y_pos, list(short_genre.keys()))\n",
    "plt.xticks(rotation=90)\n",
    "plt.show()"
   ]
  },
  {
   "cell_type": "code",
   "execution_count": 194,
   "metadata": {
    "collapsed": true
   },
   "outputs": [],
   "source": [
    "remove_genres = [k for k,v in genres.items() if v <= 200]"
   ]
  },
  {
   "cell_type": "code",
   "execution_count": 208,
   "metadata": {
    "collapsed": true
   },
   "outputs": [],
   "source": [
    "for a in remove_genres:\n",
    "    songs = songs[songs['genre'] != a]"
   ]
  },
  {
   "cell_type": "code",
   "execution_count": null,
   "metadata": {
    "collapsed": true
   },
   "outputs": [],
   "source": [
    "songs['text'].mean()"
   ]
  },
  {
   "cell_type": "code",
   "execution_count": 213,
   "metadata": {},
   "outputs": [
    {
     "name": "stderr",
     "output_type": "stream",
     "text": [
      "100%|██████████| 48881/48881 [00:41<00:00, 1187.53it/s]\n"
     ]
    }
   ],
   "source": [
    "stopWORDS = stopwords.words('english')\n",
    "tokenized = []\n",
    "tokenizer = RegexpTokenizer(r'\\w+')\n",
    "\n",
    "for lyrics in tqdm(songs['text']):\n",
    "    raw = lyrics.lower()\n",
    "    tokens = tokenizer.tokenize(raw)\n",
    "    cleaned = [t for t in tokens if t not in stopWORDS]\n",
    "    tokenized.append(cleaned)"
   ]
  },
  {
   "cell_type": "code",
   "execution_count": 214,
   "metadata": {
    "collapsed": true
   },
   "outputs": [],
   "source": [
    "dictionary = corpora.Dictionary(tokenized)\n",
    "corpus_tokenized = [dictionary.doc2bow(text) for text in tokenized]"
   ]
  },
  {
   "cell_type": "code",
   "execution_count": 216,
   "metadata": {
    "collapsed": true
   },
   "outputs": [],
   "source": [
    "lda_model = models.LdaModel(corpus=corpus_tokenized, num_topics=10, id2word=dictionary)"
   ]
  },
  {
   "cell_type": "code",
   "execution_count": 218,
   "metadata": {},
   "outputs": [
    {
     "name": "stdout",
     "output_type": "stream",
     "text": [
      "Topic 0: 0.025*\"like\" + 0.016*\"nigga\" + 0.013*\"man\" + 0.013*\"fuck\" + 0.012*\"shit\" + 0.010*\"bitch\" + 0.010*\"niggas\" + 0.006*\"em\" + 0.006*\"know\" + 0.006*\"cause\"\n",
      "Topic 1: 0.011*\"come\" + 0.010*\"us\" + 0.010*\"world\" + 0.009*\"light\" + 0.008*\"sun\" + 0.008*\"see\" + 0.008*\"day\" + 0.007*\"sky\" + 0.007*\"night\" + 0.007*\"god\"\n",
      "Topic 2: 0.018*\"hey\" + 0.015*\"got\" + 0.014*\"little\" + 0.014*\"come\" + 0.013*\"gonna\" + 0.013*\"night\" + 0.012*\"dance\" + 0.012*\"girl\" + 0.012*\"go\" + 0.011*\"baby\"\n",
      "Topic 3: 0.039*\"get\" + 0.012*\"time\" + 0.011*\"back\" + 0.010*\"got\" + 0.010*\"want\" + 0.008*\"see\" + 0.008*\"head\" + 0.008*\"like\" + 0.007*\"know\" + 0.007*\"go\"\n",
      "Topic 4: 0.059*\"na\" + 0.056*\"baby\" + 0.027*\"ah\" + 0.018*\"alright\" + 0.013*\"de\" + 0.012*\"ha\" + 0.010*\"di\" + 0.008*\"ba\" + 0.008*\"c\" + 0.007*\"eh\"\n",
      "Topic 5: 0.060*\"yeah\" + 0.029*\"got\" + 0.026*\"la\" + 0.021*\"ya\" + 0.018*\"like\" + 0.012*\"get\" + 0.011*\"yo\" + 0.010*\"da\" + 0.009*\"wanna\" + 0.009*\"whoa\"\n",
      "Topic 6: 0.102*\"oh\" + 0.023*\"take\" + 0.018*\"gonna\" + 0.015*\"home\" + 0.013*\"run\" + 0.009*\"back\" + 0.009*\"well\" + 0.009*\"away\" + 0.008*\"day\" + 0.008*\"got\"\n",
      "Topic 7: 0.033*\"good\" + 0.018*\"feel\" + 0.017*\"woman\" + 0.015*\"ooh\" + 0.012*\"bad\" + 0.011*\"like\" + 0.009*\"man\" + 0.007*\"help\" + 0.007*\"going\" + 0.007*\"tell\"\n",
      "Topic 8: 0.041*\"love\" + 0.027*\"know\" + 0.014*\"want\" + 0.013*\"one\" + 0.013*\"time\" + 0.013*\"never\" + 0.013*\"let\" + 0.012*\"like\" + 0.012*\"go\" + 0.011*\"say\"\n",
      "Topic 9: 0.012*\"one\" + 0.009*\"man\" + 0.009*\"life\" + 0.008*\"never\" + 0.008*\"like\" + 0.007*\"said\" + 0.006*\"see\" + 0.006*\"left\" + 0.005*\"could\" + 0.005*\"world\"\n"
     ]
    }
   ],
   "source": [
    "for idx in range(10):\n",
    "    print(\"Topic %s:\" % idx, lda_model.print_topic(idx, 10))"
   ]
  },
  {
   "cell_type": "code",
   "execution_count": 217,
   "metadata": {},
   "outputs": [
    {
     "name": "stdout",
     "output_type": "stream",
     "text": [
      "[(0, '0.025*\"like\" + 0.016*\"nigga\" + 0.013*\"man\" + 0.013*\"fuck\" + 0.012*\"shit\" + 0.010*\"bitch\" + 0.010*\"niggas\" + 0.006*\"em\" + 0.006*\"know\" + 0.006*\"cause\"'), (1, '0.011*\"come\" + 0.010*\"us\" + 0.010*\"world\" + 0.009*\"light\" + 0.008*\"sun\" + 0.008*\"see\" + 0.008*\"day\" + 0.007*\"sky\" + 0.007*\"night\" + 0.007*\"god\"'), (2, '0.018*\"hey\" + 0.015*\"got\" + 0.014*\"little\" + 0.014*\"come\" + 0.013*\"gonna\" + 0.013*\"night\" + 0.012*\"dance\" + 0.012*\"girl\" + 0.012*\"go\" + 0.011*\"baby\"'), (3, '0.039*\"get\" + 0.012*\"time\" + 0.011*\"back\" + 0.010*\"got\" + 0.010*\"want\" + 0.008*\"see\" + 0.008*\"head\" + 0.008*\"like\" + 0.007*\"know\" + 0.007*\"go\"'), (4, '0.059*\"na\" + 0.056*\"baby\" + 0.027*\"ah\" + 0.018*\"alright\" + 0.013*\"de\" + 0.012*\"ha\" + 0.010*\"di\" + 0.008*\"ba\" + 0.008*\"c\" + 0.007*\"eh\"'), (5, '0.060*\"yeah\" + 0.029*\"got\" + 0.026*\"la\" + 0.021*\"ya\" + 0.018*\"like\" + 0.012*\"get\" + 0.011*\"yo\" + 0.010*\"da\" + 0.009*\"wanna\" + 0.009*\"whoa\"'), (6, '0.102*\"oh\" + 0.023*\"take\" + 0.018*\"gonna\" + 0.015*\"home\" + 0.013*\"run\" + 0.009*\"back\" + 0.009*\"well\" + 0.009*\"away\" + 0.008*\"day\" + 0.008*\"got\"'), (7, '0.033*\"good\" + 0.018*\"feel\" + 0.017*\"woman\" + 0.015*\"ooh\" + 0.012*\"bad\" + 0.011*\"like\" + 0.009*\"man\" + 0.007*\"help\" + 0.007*\"going\" + 0.007*\"tell\"'), (8, '0.041*\"love\" + 0.027*\"know\" + 0.014*\"want\" + 0.013*\"one\" + 0.013*\"time\" + 0.013*\"never\" + 0.013*\"let\" + 0.012*\"like\" + 0.012*\"go\" + 0.011*\"say\"'), (9, '0.012*\"one\" + 0.009*\"man\" + 0.009*\"life\" + 0.008*\"never\" + 0.008*\"like\" + 0.007*\"said\" + 0.006*\"see\" + 0.006*\"left\" + 0.005*\"could\" + 0.005*\"world\"')]\n"
     ]
    }
   ],
   "source": [
    "print(lda_model.print_topics(num_topics=10, num_words=10))"
   ]
  },
  {
   "cell_type": "code",
   "execution_count": 223,
   "metadata": {},
   "outputs": [
    {
     "name": "stderr",
     "output_type": "stream",
     "text": [
      "/Users/aprilchung/anaconda/lib/python3.6/site-packages/h5py/__init__.py:34: FutureWarning: Conversion of the second argument of issubdtype from `float` to `np.floating` is deprecated. In future, it will be treated as `np.float64 == np.dtype(float).type`.\n",
      "  from ._conv import register_converters as _register_converters\n",
      "Using TensorFlow backend.\n"
     ]
    }
   ],
   "source": [
    "import numpy as np\n",
    "from sklearn.model_selection import train_test_split\n",
    "from keras.preprocessing import sequence"
   ]
  },
  {
   "cell_type": "code",
   "execution_count": 222,
   "metadata": {
    "collapsed": true
   },
   "outputs": [],
   "source": [
    "X_train, X_test, y_train, y_test = train_test_split(songs['text'], songs['genre'], test_size=0.33, random_state=728)"
   ]
  },
  {
   "cell_type": "code",
   "execution_count": 225,
   "metadata": {},
   "outputs": [
    {
     "data": {
      "text/plain": [
       "3997"
      ]
     },
     "execution_count": 225,
     "metadata": {},
     "output_type": "execute_result"
    }
   ],
   "source": [
    "#maxlen = max(songs['text'].str.len())\n",
    "maxlen"
   ]
  },
  {
   "cell_type": "code",
   "execution_count": null,
   "metadata": {
    "collapsed": true
   },
   "outputs": [],
   "source": [
    "maxlen = max(songs['text'].str.len())\n",
    "X_train = sequence.pad_sequences(X_train, maxlen = maxlen)\n",
    "X_test = sequence.pad_sequences(X_test, maxlen=maxlen)"
   ]
  },
  {
   "cell_type": "code",
   "execution_count": null,
   "metadata": {
    "collapsed": true
   },
   "outputs": [],
   "source": [
    "max_features = 100000\n",
    "model = Sequential()\n",
    "model.add(Embedding(max_features, 64))\n",
    "model.add(SimpleRNN(32))\n",
    "model.add(Dense(1, activation ='sigmoid'))"
   ]
  },
  {
   "cell_type": "code",
   "execution_count": null,
   "metadata": {
    "collapsed": true
   },
   "outputs": [],
   "source": [
    "model.compile(optimizer = 'rmsprop',\n",
    "             loss = 'binary_crossentropy',\n",
    "             metrics=['acc'])"
   ]
  },
  {
   "cell_type": "code",
   "execution_count": null,
   "metadata": {
    "collapsed": true
   },
   "outputs": [],
   "source": [
    "history = model.fit(X_train, y_train, \n",
    "                    epochs = 10, batch_size = 64, \n",
    "                    validation_split = 0.2,\n",
    "                    verbose=1)"
   ]
  }
 ],
 "metadata": {
  "kernelspec": {
   "display_name": "Python 3",
   "language": "python",
   "name": "python3"
  },
  "language_info": {
   "codemirror_mode": {
    "name": "ipython",
    "version": 3
   },
   "file_extension": ".py",
   "mimetype": "text/x-python",
   "name": "python",
   "nbconvert_exporter": "python",
   "pygments_lexer": "ipython3",
   "version": "3.6.1"
  }
 },
 "nbformat": 4,
 "nbformat_minor": 2
}
