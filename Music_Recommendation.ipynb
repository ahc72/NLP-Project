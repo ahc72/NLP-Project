{
 "cells": [
  {
   "cell_type": "code",
   "execution_count": 2,
   "metadata": {},
   "outputs": [],
   "source": [
    "from musixmatch import Musixmatch"
   ]
  },
  {
   "cell_type": "code",
   "execution_count": 3,
   "metadata": {
    "collapsed": true
   },
   "outputs": [],
   "source": [
    "musixmatch = Musixmatch('904f262d1ed9f14b9b072e01109ead26')"
   ]
  },
  {
   "cell_type": "code",
   "execution_count": 4,
   "metadata": {},
   "outputs": [
    {
     "data": {
      "text/plain": [
       "{'message': {'body': {'artist_list': [{'artist': {'artist_alias_list': [{'artist_alias': 'イマジンドラゴンズ'},\n",
       "       {'artist_alias': 'IMAGINE DRAGONS'}],\n",
       "      'artist_comment': '',\n",
       "      'artist_country': 'US',\n",
       "      'artist_credits': {'artist_list': []},\n",
       "      'artist_edit_url': 'https://www.musixmatch.com/artist/Imagine-Dragons?utm_source=application&utm_campaign=api&utm_medium=',\n",
       "      'artist_id': 13895270,\n",
       "      'artist_mbid': '012151a8-0f9a-44c9-997f-ebd68b5389f9',\n",
       "      'artist_name': 'Imagine Dragons',\n",
       "      'artist_name_translation_list': [{'artist_name_translation': {'language': 'KO',\n",
       "         'translation': 'IMAGINE DRAGONS'}}],\n",
       "      'artist_rating': 99,\n",
       "      'artist_share_url': 'https://www.musixmatch.com/artist/Imagine-Dragons',\n",
       "      'artist_twitter_url': 'https://twitter.com/Imaginedragons',\n",
       "      'artist_vanity_id': 'Imagine-Dragons',\n",
       "      'managed': 0,\n",
       "      'primary_genres': {'music_genre_list': [{'music_genre': {'music_genre_id': 1004,\n",
       "          'music_genre_name': 'Indie Rock',\n",
       "          'music_genre_name_extended': 'Alternative / Indie Rock',\n",
       "          'music_genre_parent_id': 20,\n",
       "          'music_genre_vanity': 'Alternative-Indie-Rock'}},\n",
       "        {'music_genre': {'music_genre_id': 1133,\n",
       "          'music_genre_name': 'Pop/Rock',\n",
       "          'music_genre_name_extended': 'Pop / Pop/Rock',\n",
       "          'music_genre_parent_id': 14,\n",
       "          'music_genre_vanity': 'Pop-Pop-Rock'}},\n",
       "        {'music_genre': {'music_genre_id': 7,\n",
       "          'music_genre_name': 'Electronic',\n",
       "          'music_genre_name_extended': 'Electronic',\n",
       "          'music_genre_parent_id': 34,\n",
       "          'music_genre_vanity': 'Electronic'}}]},\n",
       "      'restricted': 0,\n",
       "      'secondary_genres': {'music_genre_list': []},\n",
       "      'updated_time': '2013-11-05T11:30:28Z'}}]},\n",
       "  'header': {'execute_time': 0.090974092483521, 'status_code': 200}}}"
      ]
     },
     "execution_count": 4,
     "metadata": {},
     "output_type": "execute_result"
    }
   ],
   "source": [
    "musixmatch.chart_artists(1, 1)"
   ]
  },
  {
   "cell_type": "code",
   "execution_count": null,
   "metadata": {
    "collapsed": true
   },
   "outputs": [],
   "source": []
  }
 ],
 "metadata": {
  "kernelspec": {
   "display_name": "Python 3",
   "language": "python",
   "name": "python3"
  },
  "language_info": {
   "codemirror_mode": {
    "name": "ipython",
    "version": 3
   },
   "file_extension": ".py",
   "mimetype": "text/x-python",
   "name": "python",
   "nbconvert_exporter": "python",
   "pygments_lexer": "ipython3",
   "version": "3.6.1"
  }
 },
 "nbformat": 4,
 "nbformat_minor": 2
}
